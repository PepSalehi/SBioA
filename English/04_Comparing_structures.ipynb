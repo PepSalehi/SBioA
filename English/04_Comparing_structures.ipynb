{
 "metadata": {
  "name": "",
  "signature": "sha256:d8cc9dad128ad70b851d4c9373247c1d2dcd0c6021ffce32ec6913f09fbe8616"
 },
 "nbformat": 3,
 "nbformat_minor": 0,
 "worksheets": [
  {
   "cells": [
    {
     "cell_type": "markdown",
     "metadata": {},
     "source": [
      "# Comparing structures\n",
      "\n",
      "In this chapter we will study some of the more common metrics to assess the similarity between proteins structures.  \n",
      "\n",
      "When we compare proteins we could face two related problems: \n",
      "1. Protein superposition, comparing two proteins with the same sequence (or in some cases equal lenght).\n",
      "2. Protein structural alignment, comparing protein with different sequences.\n",
      "\n",
      "In this chapter we will talk about the first problem, protein superposition. The second problem is _just_ the combination of the ideas in this chapter and the next one.\n",
      "\n",
      "We will also discuss the Principal Component Analysis technique in the context of the study of atoms fluctuations."
     ]
    },
    {
     "cell_type": "code",
     "collapsed": false,
     "input": [
      "% matplotlib inline\n",
      "import sys, pymol\n",
      "from pymol import cmd, stored\n",
      "from pymol.cgo import *  # We will use this to draw cones!\n",
      "stdout = sys.stdout\n",
      "pymol.finish_launching()\n",
      "sys.stdout = stdout\n",
      "from __future__ import division\n",
      "import numpy as np\n",
      "import matplotlib.pyplot as plt\n",
      "import seaborn as sns"
     ],
     "language": "python",
     "metadata": {},
     "outputs": [],
     "prompt_number": 1
    },
    {
     "cell_type": "code",
     "collapsed": false,
     "input": [
      "cmd.load('1UBQ.pdb')\n",
      "cmd.load('1D3Z.pdb')\n",
      "cmd.remove('not polymer')\n",
      "object0 = cmd.get_names()[0]\n",
      "object1 = cmd.get_names()[1]"
     ],
     "language": "python",
     "metadata": {},
     "outputs": [
      {
       "output_type": "stream",
       "stream": "stdout",
       "text": [
        " Adjusting settings to improve performance for Intel cards.\n"
       ]
      }
     ],
     "prompt_number": 2
    },
    {
     "cell_type": "markdown",
     "metadata": {},
     "source": [
      "## RMSD\n",
      "\n",
      "The [root-mean-square deviation](http://en.wikipedia.org/wiki/Root-mean-square_deviation_of_atomic_positions) (RMSD) is probably the most common metric used to compare two protein structures. It can be used to evalute how structurally similar are two evolutivelly-related proteins or to assess how close a predicted protein structure is from the native structure or even as a reaction coordinate to check if a Molecular Dynamics simulation has reached the stationary state.   \n",
      "\n",
      "The RMSD is the measure of the average distance between the atoms (usually the $C\\alpha$ or backbone atoms) of superimposed proteins. The RMSD is defined as:\n",
      "\n",
      "$$\\mathrm{RMSD}=\\sqrt{\\frac{1}{N}\\sum_{i=1}^N\\delta_i^2}$$\n",
      "\n",
      "Where:  \n",
      "$\\delta$ is the distance between $N$ pairs of equivalent atoms."
     ]
    },
    {
     "cell_type": "code",
     "collapsed": false,
     "input": [
      "def rmsd_cur(mol0, mol1, sel='*'):\n",
      "    \"\"\"\n",
      "    Computes the root mean square deviation from the current\n",
      "    coordinates of two pairs of equivalent atoms. Does not\n",
      "    perform a superposition.\n",
      "    \n",
      "    Parameters\n",
      "    ----------\n",
      "    mol0 : PyMOL object\n",
      "    mol1 : PyMOL object\n",
      "    sel  : PyMOL selection, atoms used to compute rmsd.\n",
      "           e.g. use ca+c+n for the backbone\n",
      "    \"\"\"\n",
      "    model0 = cmd.get_model('%s and name %s' % (mol0, sel))\n",
      "    model1 = cmd.get_model('%s and name %s'  % (mol1, sel))\n",
      "    xyz0 = np.array(model0.get_coord_list())\n",
      "    xyz1 = np.array(model1.get_coord_list())\n",
      "    \n",
      "    rmsd = (np.sum((xyz0 - xyz1 )**2)/len(xyz0))**0.5\n",
      "    return rmsd"
     ],
     "language": "python",
     "metadata": {},
     "outputs": [],
     "prompt_number": 3
    },
    {
     "cell_type": "code",
     "collapsed": false,
     "input": [
      "rmsd = rmsd_cur(object0, object1, sel='ca') #'ca+c+n'\n",
      "print '%.2f' % rmsd"
     ],
     "language": "python",
     "metadata": {},
     "outputs": [
      {
       "output_type": "stream",
       "stream": "stdout",
       "text": [
        "115.06\n"
       ]
      }
     ],
     "prompt_number": 4
    },
    {
     "cell_type": "code",
     "collapsed": false,
     "input": [
      "rmsd = cmd.rms_cur('%s and name ca' % object0, '%s and name ca' % object1)\n",
      "print '%.2f' % rmsd"
     ],
     "language": "python",
     "metadata": {},
     "outputs": [
      {
       "output_type": "stream",
       "stream": "stdout",
       "text": [
        "115.06\n"
       ]
      }
     ],
     "prompt_number": 5
    },
    {
     "cell_type": "markdown",
     "metadata": {},
     "source": [
      "## Protein structural superposition\n",
      "\n",
      "As you saw in the previous section, the RMSD is meaningless if the proteins are not superposed properly. To superpose two protein structures means to rotate and translate one of the proteins respect to the other. The standard approach to solve this problem is the [Kabsch algorithm](https://en.wikipedia.org/wiki/Kabsch_algorithm) algorithm. Basically, the Kabsch algorithm is an analytical approach to minimize the RMSD of two sets of cartesian coordinates.  \n",
      "\n",
      "The algorithm works in 3 steps:  \n",
      "1. Calculation of the proper translation\n",
      "2. Calculation of the covariance-matrix between both set of coordinates\n",
      "3. Calculation of the optimal rotation matrix\n",
      "\n",
      "### Translation\n",
      "\n",
      "The optimal superposition is obtained by translating one set of coordinates so that both centroids (geometric centers) coincides. The centroid can be computed as the average of the cartesian coordinates. In practice is more convenient two translate both proteins so that their centroid coincides with the origin of the coordinate system. This is done by subtracting, from each set of coordinates, their corresponding centroid.\n",
      "\n",
      "### Computation of the covariance matrix\n",
      "\n",
      "The second step consist of calculating a [covariance matrix](http://en.wikipedia.org/wiki/Covariance_matrix) $A$. The covariance matrix is the generalization of the variance to multiple dimensions (remember that the variance is a special case of the covariance when the two variables are identical). The spread of a set of points in one dimensional space can be characterized by an scalar call the variance, for a 2D space a $2 \\times 2$ matrix is needed for a 3D space you need a $3 \\times 3$ matrix and so on. The covariance matrix of $P$ and $Q$ is:\n",
      " \n",
      "$$A = P^T * Q$$\n",
      "\n",
      "### Computation of the optimal rotation matrix\n",
      "\n",
      "The third step is the hardest to undertand. In order to obtain the optimal rotation matrix, $R$. It is necesary to calculate the [Singular Value Decomposition](http://en.wikipedia.org/wiki/Singular_value_decomposition) (SVD) of the covariance matrix $A$. The SVD is a type of factorization (or decomposition) of a matrix into the product of other matrices. \n",
      "\n",
      "$$A = USW^T$$\n",
      "\n",
      "The interesting part (for us) is that the rotation matrix we are looking for is:\n",
      "\n",
      "$$R = UW^T$$\n",
      "\n",
      "There is one more thing to take care, $R$ could be a matrix with determinant +1 or -1. We only need the $R$ matrix with determinat +1. If we rotate our molecule using the other matrix we will end-up with the mirror-image of our structure!!!"
     ]
    },
    {
     "cell_type": "code",
     "collapsed": false,
     "input": [
      "def rmsd_fit(mol0, mol1, sel='*', fit=True):\n",
      "    \"\"\"\n",
      "    Computes the root mean square deviation from two pairs of\n",
      "    equivalent atoms after superposition.\n",
      "    \n",
      "    Parameters\n",
      "    ----------\n",
      "    mol0 : PyMOL object\n",
      "    mol1 : PyMOL object\n",
      "    sel  : PyMOL selection, atoms used to compute rmsd.\n",
      "           e.g. use ca+c+n for the backbone\n",
      "    fit  : bool. If false computes the rmsd after superposition, but with-out\n",
      "           updating the coordinates\n",
      "    \"\"\"\n",
      "    xyz0 = np.array(cmd.get_model('%s and name %s' % (mol0, sel)).get_coord_list())\n",
      "    xyz1 = np.array(cmd.get_model('%s and name %s'  % (mol1, sel)).get_coord_list())\n",
      "    \n",
      "    xyz0_all = np.array(cmd.get_model('%s' % mol0).get_coord_list())\n",
      "    xyz1_all = np.array(cmd.get_model('%s'  % mol1).get_coord_list())\n",
      "    \n",
      "    # Translation\n",
      "    X = xyz0 - xyz0.mean(axis=0)\n",
      "    Y = xyz1 - xyz1.mean(axis=0)\n",
      "    # Covariation matrix\n",
      "\n",
      "    Cov_matrix = np.dot(Y.T, X)\n",
      "    # Optimal rotation matrix\n",
      "    U, S, W = np.linalg.svd(Cov_matrix)\n",
      "    # Create Rotation matrix R\n",
      "    R = np.dot(U, W)\n",
      "    # Ensure a right-handed coordinate system\n",
      "    if np.linalg.det(R) < 0:\n",
      "        W[-1] *= -1\n",
      "        R = np.dot(U, W)\n",
      "    if fit:        \n",
      "        # rotate and translate the molecule\n",
      "        stored.sel1 = np.dot((xyz1_all - xyz1.mean(0)), R)\n",
      "        stored.sel1 = stored.sel1.tolist()\n",
      "        # center the molecule\n",
      "        stored.sel0 = xyz0_all - xyz0.mean(axis=0)\n",
      "        stored.sel0 = stored.sel0.tolist()\n",
      "        #update the changes to the coordinates \n",
      "        cmd.alter_state(1, mol0,\"(x,y,z)=stored.sel0.pop(0)\")\n",
      "        cmd.alter_state(1, mol1,\"(x,y,z)=stored.sel1.pop(0)\")\n",
      "\n",
      "    rmsd = ((np.sum(X ** 2) + np.sum(Y ** 2) - 2 * np.sum(S)) / len(X))**0.5\n",
      "    # scales and translates the window to show a selection\n",
      "    cmd.zoom()\n",
      "    return rmsd"
     ],
     "language": "python",
     "metadata": {},
     "outputs": [],
     "prompt_number": 33
    },
    {
     "cell_type": "code",
     "collapsed": false,
     "input": [
      "rmsd = rmsd_fit(object0, object1, sel='ca', fit=True)\n",
      "print '%.2f' % rmsd"
     ],
     "language": "python",
     "metadata": {},
     "outputs": [
      {
       "output_type": "stream",
       "stream": "stdout",
       "text": [
        "0.52\n"
       ]
      }
     ],
     "prompt_number": 34
    },
    {
     "cell_type": "markdown",
     "metadata": {},
     "source": [
      "### Caveats of the RMSD\n",
      "\n",
      "One problem with the RMSD (and the Kabsch algorithm) is that it gives too much importance to regions that do not match well. In other words the RMSD is not robust to outliers. If two proteins are very similar, except for a small portion (say a loop) the RMSD will tend to be larger that what a visual inspection (intuition) will tell you. One way to solve this problem is to iteratively perform a superposition eliminating from the comparison (manually or automatically) portions that deviate _too much_.\n",
      "\n",
      "Lets change the _rmsd_fit_ function in order to make the superposition more robust to _outliers_"
     ]
    },
    {
     "cell_type": "code",
     "collapsed": false,
     "input": [
      "def rmsd_fit_outliers(mol0, mol1, sel='*',\n",
      "              fit=True, cutoff=2.):\n",
      "    \"\"\"\n",
      "    Computes the root mean square deviation from two pairs of\n",
      "    equivalent atoms after superposition. The superposition is \n",
      "    done iterativelly until all outilers are removed. Outliers\n",
      "    are defined according to the cutoff value.\n",
      "    \n",
      "    Parameters\n",
      "    ----------\n",
      "    mol0 : PyMOL object\n",
      "    mol1 : PyMOL object\n",
      "    sel  : PyMOL selection, atoms used to compute rmsd.\n",
      "           e.g. use ca+c+n for the backbone\n",
      "    fit  : bool. If false computes the rmsd after superposition, but with-out\n",
      "           updating the coordinates\n",
      "    cutoff: float. outlier rejection cutoff in Angstrom.\n",
      "    \"\"\"\n",
      "\n",
      "    xyz0 = np.array(cmd.get_model('%s and name %s' % (mol0, sel)).get_coord_list())\n",
      "    xyz1 = np.array(cmd.get_model('%s and name %s'  % (mol1, sel)).get_coord_list())\n",
      "    \n",
      "    xyz0_all = np.array(cmd.get_model('%s' % mol0).get_coord_list())\n",
      "    xyz1_all = np.array(cmd.get_model('%s'  % mol1).get_coord_list())\n",
      "    \n",
      "    total_len = len(xyz0)\n",
      "    while True:\n",
      "        # Translation\n",
      "        X = xyz0 - xyz0.mean(0)\n",
      "        Y = xyz1 - xyz1.mean(0)\n",
      "        # Covariation matrix\n",
      "        Cov_matrix = np.dot(Y.T, X)\n",
      "        # Optimal rotation matrix\n",
      "        U, S, W = np.linalg.svd(Cov_matrix)\n",
      "        # Create Rotation matrix R\n",
      "        R = np.dot(U, W)\n",
      "        # Ensure a right-handed coordinate system\n",
      "        if np.linalg.det(R) < 0:\n",
      "            W[-1] *= -1\n",
      "            R = np.dot(U, W)     \n",
      "            \n",
      "        # rotate and translate the molecule\n",
      "        Y = np.dot((xyz1 - xyz1.mean(0)), R)\n",
      "        # center the molecule\n",
      "        X = xyz0 - xyz0.mean(0)\n",
      "  \n",
      "        # compute the distaces between equivalent pair of atoms\n",
      "        d = np.sqrt(np.sum((X - Y) ** 2, 1))\n",
      "        xyz0 = xyz0[d < cutoff]\n",
      "        xyz1 = xyz1[d < cutoff]\n",
      "        \n",
      "        super_res = len(xyz0)\n",
      "        if  super_res == total_len:\n",
      "            break\n",
      "        else:\n",
      "            total_len = super_res\n",
      "        \n",
      "    if fit:\n",
      "        # rotate and translate the molecule\n",
      "        stored.sel1 = np.dot((xyz1_all - xyz1.mean(0)), R)\n",
      "        stored.sel1 = stored.sel1.tolist()\n",
      "        # center the molecule\n",
      "        stored.sel0 = xyz0_all - xyz0.mean(0)\n",
      "        stored.sel0 = stored.sel0.tolist()\n",
      "        #update the changes to the coordinates \n",
      "        cmd.alter_state(1, mol0,\"(x,y,z)=stored.sel0.pop(0)\")\n",
      "        cmd.alter_state(1, mol1,\"(x,y,z)=stored.sel1.pop(0)\")\n",
      "    \n",
      "    rmsd = ((np.sum(X ** 2) + np.sum(Y ** 2) - 2 * np.sum(S)) / len(X))**0.5\n",
      "    # scales and translates the window to show a selection\n",
      "    cmd.zoom()\n",
      "    return rmsd, super_res"
     ],
     "language": "python",
     "metadata": {},
     "outputs": [],
     "prompt_number": 35
    },
    {
     "cell_type": "code",
     "collapsed": false,
     "input": [
      "rmsd, super_res = rmsd_fit_outliers(object0, object1, cutoff=1.5, sel='ca', fit=True)\n",
      "print '%.2f and %s residues superimposed' % (rmsd, super_res)"
     ],
     "language": "python",
     "metadata": {},
     "outputs": [
      {
       "output_type": "stream",
       "stream": "stdout",
       "text": [
        "0.40 and 73 residues superimposed\n"
       ]
      }
     ],
     "prompt_number": 37
    },
    {
     "cell_type": "markdown",
     "metadata": {},
     "source": [
      "The PyMOL's command [_super_](http://www.pymolwiki.org/index.php/Super) gives access to a sequence-independet structural alignment method (similar to _rmsd_fit_outliers_) that can automatically remove pairs of residues that do not align well. The output of _super_ is:\n",
      "\n",
      "* RMSD after refinement\n",
      "* Number of aligned atoms after refinement\n",
      "* Number of refinement cycles\n",
      "* RMSD before refinement\n",
      "* Number of aligned atoms before refinement\n",
      "* Raw alignment score\n",
      "* Number of residues aligned"
     ]
    },
    {
     "cell_type": "code",
     "collapsed": false,
     "input": [
      "cmd.super('%s and name ca' % object0, '%s  and name ca' % object1, cutoff=2)"
     ],
     "language": "python",
     "metadata": {},
     "outputs": [
      {
       "metadata": {},
       "output_type": "pyout",
       "prompt_number": 10,
       "text": [
        "(0.3532576858997345, 71, 3, 0.5214025974273682, 76, 366.1607666015625, 76)"
       ]
      }
     ],
     "prompt_number": 10
    },
    {
     "cell_type": "markdown",
     "metadata": {},
     "source": [
      "Another approach is to use the Kabsch algorithm (i.e. the minimization of the RMSD) to find a good structural superposition and then evaluate the result with a different metric (one that is more robust to outliers). The process is iterated until some convergence criteria is meet. Such aproach is used by the TM-score algorithm. "
     ]
    },
    {
     "cell_type": "markdown",
     "metadata": {},
     "source": [
      "## Template Modeling score (TM-score)\n",
      "\n",
      "The [TM-score](http://zhanglab.ccmb.med.umich.edu/TM-score/) is an algorithm to calculate the structural similarity of two protein models. It is often used to quantitatively assess the accuracy of protein structure predictions relative to the experimental structure. \n",
      "\n",
      "The TM-score has the following advantages over the RMSD:  \n",
      "\n",
      "* It is robust to outliers, because weights the closer atom pairs stronger than the distant ones\n",
      "* The TM-scores values are independent of the protein lenght.\n",
      "* TM-score has the value in (0,1]. Based on statistics, a TM-score $\\lt 0.17$ corresponds to a random similarity and a TM-score $\\gt 0.5$ generally corresponds to the same fold in SCOP/CATH.\n",
      "\n",
      "The TM-score is defined as:\n",
      "\n",
      "\\begin{equation}\n",
      "TM\\text{-}score = max\\left [ \\frac{1}{L} \\sum_{i}^{n} \\frac{1}{1+(\\frac{d_i}{d_0})^2} \\right ]\n",
      "\\end{equation}\n",
      "\n",
      "where:  \n",
      "$n$ is the lenght of the protein  \n",
      "$L$ is the lenght of superimposed region (by default equal to n)  \n",
      "$d_i$ is the distance between the $i^{th}$ pair of residues    \n",
      "$d_0 = 1.24 \\sqrt[3]{L-15} - 1.8$  \n",
      "$Max$ denotes the maximum value after optimal spatial superposition."
     ]
    },
    {
     "cell_type": "code",
     "collapsed": false,
     "input": [
      "def tm_score(mol0, mol1, sel='*'): #Check if TM-align use all atoms!\n",
      "    \"\"\"\n",
      "    Compute TM-score between two set of coordinates\n",
      "    \n",
      "    Parameters\n",
      "    ----------\n",
      "    mol0 : PyMOL object\n",
      "    mol1 : PyMOL object\n",
      "    sel  : PyMOL selection, atoms used to compute rmsd.\n",
      "           e.g. use ca+c+n for the backbone\n",
      "    \"\"\"\n",
      "    xyz0 = np.array(cmd.get_model('%s and name %s' % (mol0, sel)).get_coord_list())\n",
      "    xyz1 = np.array(cmd.get_model('%s and name %s'  % (mol1, sel)).get_coord_list())\n",
      "    \n",
      "    L = len(xyz0)\n",
      "    # d0 is less than 0.5 for L < 22 \n",
      "    # and nan for L < 15 (root of a negative number)\n",
      "    d0 = 1.24 * np.power(L - 15, 1/3) - 1.8\n",
      "    d0 = max(0.5, d0) \n",
      "\n",
      "    # compute the distance for each pair of atoms\n",
      "    di = np.sum((xyz0 - xyz1) ** 2, 1) # sum along first axis\n",
      "    return np.sum(1 / (1 + (di / d0) ** 2)) / L"
     ],
     "language": "python",
     "metadata": {},
     "outputs": [],
     "prompt_number": 38
    },
    {
     "cell_type": "code",
     "collapsed": false,
     "input": [
      "score = tm_score(object0, object1, sel='ca')\n",
      "print '%.4f' % score"
     ],
     "language": "python",
     "metadata": {},
     "outputs": [
      {
       "output_type": "stream",
       "stream": "stdout",
       "text": [
        "0.9704\n"
       ]
      }
     ],
     "prompt_number": 39
    },
    {
     "cell_type": "markdown",
     "metadata": {},
     "source": [
      "## Global Distance Test (GDT)\n",
      "\n",
      "As the TM-score, this metric was invented as a robust alternative to the RMSD. It is most commonly used duting the Critical Assessment of Structure Prediction (CASP) to compare the results of protein structure prediction to experimentally determined structures.  \n",
      "\n",
      "The GDT score is calculated as the average of the number of $C\\alpha$ atoms bellow a defined distance cutoff (after superposition):  \n",
      "\n",
      "* The GDT_TS (total score) uses the cutoff values, 1, 2, 4 and 8.\n",
      "* The GDT_HA (High Accuracy) uses the cutoff values, 0.5, 1, 2 and 4."
     ]
    },
    {
     "cell_type": "markdown",
     "metadata": {},
     "source": [
      "## Bayesian statistic and robust superposition\n",
      "\n",
      "A better way to solve the superposition problem, one that is theoretically-well founded, is to use Bayesian statistic. This approach is equivalent to use a weighted RMSD _i.e._ an RMSD where the pairs that match well have a higher contribution than those that do not match well. In this approach the weights are inferred automatically from the data. Understanding this method will require and introduction to Bayesian statistic, hence we are not going to study it here. But you can read more about this [here](http://www.biomedcentral.com/1471-2105/11/363)"
     ]
    },
    {
     "cell_type": "markdown",
     "metadata": {},
     "source": [
      "## Principal Component Analysis\n",
      "\n",
      "Principal component analysis ([PCA](https://en.wikipedia.org/wiki/Principal_component_analysis)) is widely used statistical procedure to reduce the dimensionality of a data-set, without loosing _too much_ information. In this context each measured variable is called a dimension. The idea is to _project_ our high-dimensional data into a a lower space in the most informative way. Within PCA this is achieved in roughly two steps:\n",
      "\n",
      "* Find a new coordinate system to represent the data: \n",
      "\n",
      "    The new axis are called principal components. The principal components are a linear combination of the original axis. Principal components are build in such a way that they capture the maximum variance of the data (with the restriction that they must be orthogonal).\n",
      "\n",
      "\n",
      "* Use only the first few principal components to represent, analyze and visualize the data. \n",
      "\n",
      "    In many practical applications just a few principal components can be used to explain most of the variability contained in the data, effectively reducing the dimensionality of the data-set\n",
      "\n",
      "\n",
      "To start gaining intuition in how PCA works, lets see the following trivial example when we have two variables perfectly correlated. We could find a new coordinate system (by performing a rotation) that renders one of the coordinates superfluous. If you look at right figure it becomes obvious that the new $x$ axes explain all the variation in our data."
     ]
    },
    {
     "cell_type": "code",
     "collapsed": false,
     "input": [
      "x0 = [1, 2, 3, 4, 5]\n",
      "y0 = x0\n",
      "\n",
      "x1 = [1, 2, 3, 4, 5]\n",
      "y1 = [3] * 5\n",
      "\n",
      "plt.figure(figsize=(8,4))\n",
      "plt.subplot(1,2,1)\n",
      "plt.scatter(x0, y0);\n",
      "plt.subplot(1,2,2)\n",
      "plt.scatter(x1, y1);"
     ],
     "language": "python",
     "metadata": {},
     "outputs": [
      {
       "metadata": {},
       "output_type": "display_data",
       "png": "[encoded data removed]",
       "text": [
        "<matplotlib.figure.Figure at 0x7f8081e97e90>"
       ]
      }
     ],
     "prompt_number": 40
    },
    {
     "cell_type": "markdown",
     "metadata": {},
     "source": [
      "Of course real data does not look like the toy-data from the previous example. However, PCA often works in practice because real data-sets often have an internal structure _i.e_ the variables/dimensions are correlated (at least to some degree) or variables can be expressed as a linear combination of other variables. Thus, PCA is a way to convert a set of (possibly) correlated variables into a set of linearly uncorrelated variables (the principal components).  \n",
      "\n",
      "Notice that while in your original data-set your variables have a meaning (at least to you and hopefully to your public!) when a PCA is performed the new axes (the principal components) are the result of a linear combination of the original variables, hence in general, they will be meaningless. "
     ]
    },
    {
     "cell_type": "code",
     "collapsed": false,
     "input": [
      "x = np.array([[1, 2, 3, 4, 5]])\n",
      "y = x * 2\n",
      "z = x * 4\n",
      "xy = np.vstack((x, y, z))\n",
      "\n",
      "cov_mat = np.dot(xy.T, xy)\n",
      "eig_vals, eig_vecs = np.linalg.eigh(cov_mat)\n",
      "p = eig_vals.argsort()[::-1]\n",
      "eig_vals = eig_vals[p]\n",
      "eig_vecs = eig_vecs[p]\n",
      "\n",
      "PC1 = np.dot(xy, eig_vecs[:,0])\n",
      "PC2 = np.dot(xy, eig_vecs[:,1])"
     ],
     "language": "python",
     "metadata": {},
     "outputs": [],
     "prompt_number": 41
    },
    {
     "cell_type": "code",
     "collapsed": false,
     "input": [
      "print eig_vals[0], eig_vecs[:,0]\n",
      "print eig_vals[1], eig_vecs[:,1]\n",
      "print PC1\n",
      "print PC2"
     ],
     "language": "python",
     "metadata": {},
     "outputs": [
      {
       "output_type": "stream",
       "stream": "stdout",
       "text": [
        "1155.0 [-0.18331547  0.08810661 -0.01957023 -0.1705358   0.9639332 ]\n",
        "2.79862533008e-13 [-0.49177037  0.75777418  0.1154585  -0.34828128 -0.22205782]\n",
        "[  4.07170987   8.14341974  16.28683948]\n",
        "[-1.13326075 -2.26652151 -4.53304302]\n"
       ]
      }
     ],
     "prompt_number": 42
    },
    {
     "cell_type": "code",
     "collapsed": false,
     "input": [
      "plt.scatter(PC1, PC2)\n",
      "plt.xlabel('PC1')\n",
      "plt.ylabel('PC2');"
     ],
     "language": "python",
     "metadata": {},
     "outputs": [
      {
       "metadata": {},
       "output_type": "display_data",
       "png": "[encoded data removed]",
       "text": [
        "<matplotlib.figure.Figure at 0x7f8081d65f90>"
       ]
      }
     ],
     "prompt_number": 43
    },
    {
     "cell_type": "markdown",
     "metadata": {},
     "source": [
      "### PCA in Structural Bioinformatics\n",
      "\n",
      "PCA is routinely used in exploratory data analysis to make sense of complex data-sets. In structural bioinformatics one common application is the analysis of biomolecular structural ensembles specially in molecular dynamics simulations, but also NMR ensembles or even _artificial_ ensembles made by combining several structures of the same biomolecule, but solved independently under different experimental conditions and/or techniques (like X-ray).\n",
      "\n",
      "PCA has found a niche in the analysis of molecular dynamics, because of its simplicity and because bio-molecular systems are complex (and more complex when they are moving!). Interestingly, it has been found that the vast majority of protein dynamics can be described by a surprisingly low number of collective degrees of freedom.\n",
      "\n",
      "PCA rests on the assumption that the major collective modes of fluctuation dominate the dynamics (and function of molecules) this assumptions is shared with a theoretical method to generate conformational fluctuations called Normal Mode Analysis [NMA](https://en.wikipedia.org/wiki/Normal_Mode_Analysis). "
     ]
    },
    {
     "cell_type": "markdown",
     "metadata": {},
     "source": [
      "To compute the PCA, first we will upload a PDB file with more than one conformation. To perform the PCA is important to perform an structural superposition. In general all conformations are superposed onto the first one, but this choice is irrelevant. As with the Kabsh algorithm, the only thing that matters is to remove the rotations and translations and just keep the internal motions."
     ]
    },
    {
     "cell_type": "code",
     "collapsed": false,
     "input": [
      "cmd.delete('all')\n",
      "#cmd.load('2K39.pdb')\n",
      "cmd.load('1D3Z_full.pdb')\n",
      "cmd.remove('not polymer')\n",
      "# Sometimes is a better idea to remove portions with high flexibility\n",
      "# otherwise these portions could hide more subtle changes.\n",
      "#sel = 'name ca and resi 1-70'\n",
      "sel = 'name ca'\n",
      "# superimpose all conformations\n",
      "cmd.intra_fit(sel);\n",
      "states = cmd.count_states('all')\n",
      "residues = cmd.count_atoms(sel)\n",
      "xyz = np.zeros((states, 3*residues))\n",
      "for state in range(0, states):\n",
      "    model = cmd.get_model(sel, state=state+1)\n",
      "    xyz[state] = np.array(np.ravel(model.get_coord_list()))\n",
      "np.shape(xyz)"
     ],
     "language": "python",
     "metadata": {},
     "outputs": [
      {
       "metadata": {},
       "output_type": "pyout",
       "prompt_number": 44,
       "text": [
        "(10, 228)"
       ]
      }
     ],
     "prompt_number": 44
    },
    {
     "cell_type": "markdown",
     "metadata": {},
     "source": [
      "### The PCA algorithm \n",
      "\n",
      "1. Translate all conformations to the origin of coordinates\n",
      "2. Build the Covariance Matrix  \n",
      "3. Compute the eigenvectors and eigenvalues\n",
      "4. Sort the eigenvectors according to the eigenvalues\n",
      "\n",
      "Notice that like in the Kabsh algorithm, we need to compute a covariance matrix. The only difference is that now we need to compute the average covariance matrix (along the $N$ conformations). Here we are estimating the covariance matrix of the population from a sample, hence we do not divide by $N$, instead we divide by $N-1$ (if you want to find out why the $-1$ you should read more about the [variance](en.wikipedia.org/wiki/Variance)). Nevertheless notice that in general you should be performing a PCA from a large number of conformations and when you increase $N$, the difference between $N$ and $N-1$, becomes more and more negligible. \n",
      "\n",
      "In this case the eigenvectors represent a correlated displacement of a groups of atoms and eigenvalues represent the magnitude of this displacement ($\\mathring A^{2}$). We sort the eigenvalues (and their corresponding eigenvectors) because we want the eigenvectors and eigenvalues that explain most of the fluctuations."
     ]
    },
    {
     "cell_type": "code",
     "collapsed": false,
     "input": [
      "def PCA(xyz):\n",
      "    \"\"\"\n",
      "    Compute a Principal Component Analysis from a set \n",
      "    of coordinates\n",
      "    \n",
      "    Parameters\n",
      "    ----------\n",
      "    xyz : Array. Cartesian coordinates\n",
      "    \"\"\"\n",
      "    \n",
      "    # Translate to the origin of coordinates\n",
      "    xyz_mean = np.mean(xyz, axis=0)\n",
      "    xyz_c = xyz - xyz_mean\n",
      "\n",
      "    # compute the covariance_matrix\n",
      "    cov_mat = np.dot(xyz_c.T, xyz_c)/(np.shape(xyz_c)[0]-1)\n",
      "    # Compute the eigenvectors and eigenvalues\n",
      "    eig_vals, eig_vecs = np.linalg.eigh(cov_mat)\n",
      "    \n",
      "    # Sort the eigenvectors according to the eigenvalues\n",
      "    p = eig_vals.argsort()[::-1]\n",
      "    eig_vals = eig_vals[p]\n",
      "    eig_vecs = eig_vecs[p]\n",
      "    return eig_vals, eig_vecs"
     ],
     "language": "python",
     "metadata": {},
     "outputs": [],
     "prompt_number": 45
    },
    {
     "cell_type": "code",
     "collapsed": false,
     "input": [
      "eig_vals, eig_vecs = PCA(xyz)"
     ],
     "language": "python",
     "metadata": {},
     "outputs": [],
     "prompt_number": 46
    },
    {
     "cell_type": "markdown",
     "metadata": {},
     "source": [
      "Now we have to visualize and explore the principal components we have just obtained."
     ]
    },
    {
     "cell_type": "code",
     "collapsed": false,
     "input": [
      "plt.figure(figsize=(9,4.5))\n",
      "plt.subplot(121)\n",
      "plt.plot(eig_vals)\n",
      "plt.xlabel('modes')\n",
      "plt.ylabel('eigenvalues $\\AA^2$')\n",
      "plt.subplot(122)\n",
      "plt.plot(eig_vals)\n",
      "plt.xlabel('modes')\n",
      "plt.ylabel('eigenvalues $\\AA^2$')\n",
      "plt.xlim(0,10)"
     ],
     "language": "python",
     "metadata": {},
     "outputs": [
      {
       "metadata": {},
       "output_type": "pyout",
       "prompt_number": 47,
       "text": [
        "(0, 10)"
       ]
      },
      {
       "metadata": {},
       "output_type": "display_data",
       "png": "[encoded data removed]",
       "text": [
        "<matplotlib.figure.Figure at 0x7f8084d7e450>"
       ]
      }
     ],
     "prompt_number": 47
    },
    {
     "cell_type": "code",
     "collapsed": false,
     "input": [
      "var_exp = np.cumsum(eig_vals/sum(eig_vals)*100)\n",
      "plt.plot(var_exp)\n",
      "plt.xlim(0,10)\n",
      "plt.ylim(0,100)\n",
      "plt.xlabel('modes')\n",
      "plt.ylabel('Variance explained (%)');"
     ],
     "language": "python",
     "metadata": {},
     "outputs": [
      {
       "metadata": {},
       "output_type": "display_data",
       "png": "[encoded data removed]",
       "text": [
        "<matplotlib.figure.Figure at 0x7f8081d99810>"
       ]
      }
     ],
     "prompt_number": 48
    },
    {
     "cell_type": "markdown",
     "metadata": {},
     "source": [
      "We can compute how much each mode contributes to the rmsd atomic fluctuations"
     ]
    },
    {
     "cell_type": "code",
     "collapsed": false,
     "input": [
      "rmsds = []\n",
      "for i in range(3):\n",
      "    mod = eig_vecs[:,i].reshape(-1,3)\n",
      "    rmsd = np.sqrt(np.sum((mod)**2, axis=1)*eig_vals[i])\n",
      "    rmsds.append(rmsd)"
     ],
     "language": "python",
     "metadata": {},
     "outputs": [],
     "prompt_number": 49
    },
    {
     "cell_type": "code",
     "collapsed": false,
     "input": [
      "plt.plot(rmsds[0], label='mode 1')\n",
      "plt.plot(rmsds[1], label='mode 2')\n",
      "plt.plot(rmsds[2], label='mode 3')\n",
      "plt.xlabel('Residues')\n",
      "plt.ylabel(r'RMSD')\n",
      "plt.legend(loc=0);"
     ],
     "language": "python",
     "metadata": {},
     "outputs": [
      {
       "metadata": {},
       "output_type": "display_data",
       "png": "[encoded data removed]",
       "text": [
        "<matplotlib.figure.Figure at 0x7f80806f6e50>"
       ]
      }
     ],
     "prompt_number": 50
    },
    {
     "cell_type": "markdown",
     "metadata": {},
     "source": [
      "Sometimes clustering the structures in the PC space can be useful to understand how different conformations are related to each other. In many cases this clustering method can reveal functional relationships that are harder to find by methods like RMSD clustering."
     ]
    },
    {
     "cell_type": "code",
     "collapsed": false,
     "input": [
      "Dv = xyz - xyz[0]\n",
      "PC1 = np.dot(Dv, eig_vecs[:,0])\n",
      "PC2 = np.dot(Dv, eig_vecs[:,1])"
     ],
     "language": "python",
     "metadata": {},
     "outputs": [],
     "prompt_number": 51
    },
    {
     "cell_type": "code",
     "collapsed": false,
     "input": [
      "plt.scatter(PC1, PC2)\n",
      "plt.xlabel('PC1')\n",
      "plt.ylabel('PC2');\n",
      "print PC1"
     ],
     "language": "python",
     "metadata": {},
     "outputs": [
      {
       "output_type": "stream",
       "stream": "stdout",
       "text": [
        "[ 0.         -0.04211837 -0.00488053  0.26198488  0.46816675  0.81161246\n",
        "  0.9816097  -0.30444593  0.62684491 -0.14421634]\n"
       ]
      },
      {
       "metadata": {},
       "output_type": "display_data",
       "png": "[encoded data removed]",
       "text": [
        "<matplotlib.figure.Figure at 0x7f8081e5a210>"
       ]
      }
     ],
     "prompt_number": 52
    },
    {
     "cell_type": "markdown",
     "metadata": {},
     "source": [
      "Another useful and aesthetically appealing way to visualize PCA in biomolecular systems is plotting them directly on the structural model in what is sometimes call a _porcupine plot_."
     ]
    },
    {
     "cell_type": "code",
     "collapsed": false,
     "input": [
      "def porcupine(xyz, eig_vals, eig_vecs, mode=0, state=1):\n",
      "    \"\"\"\n",
      "    Genereta a porcupine plot to visualize the result of PCA\n",
      "    onto a 3D structural model\n",
      "    \n",
      "    Parameters\n",
      "    ----------\n",
      "    xyz : Array. Cartesian coordinates\n",
      "    eig_vals : Array. Eigenvalues from a PCA\n",
      "    eig_vecs : Array. Eigenvector from a PCA\n",
      "    mode : int. Principal Component that will be plotted\n",
      "    state : int. State onto wich the PC will be plotted\n",
      "    \"\"\"\n",
      "    xyz_mean = np.mean(xyz, axis=0)\n",
      "    coord0 = np.reshape((xyz[state-1]), (-1,3))\n",
      "    coord1 = np.reshape(eig_vecs[:,mode]*eig_vals[mode]+xyz_mean, (-1,3))\n",
      "    print np.sqrt(np.sum((coord0-coord1)**2, axis=1))[:3]\n",
      "    cmd.delete('arrows')\n",
      "    r0, g0, b0 = 0, 0, 1\n",
      "    r1, g1, b1 = 1, 0, 0\n",
      "    rd0 = 0.5\n",
      "    rd1 = 0.05\n",
      "    obj = []\n",
      "    for i in range(len(coord0)):\n",
      "        x0, y0, z0 = coord0[i]\n",
      "        x1, y1, z1 = coord1[i]\n",
      "        obj.extend([CONE, x0, y0, z0, x1, y1, z1, rd0, rd1, \\\n",
      "                    r0, g0, b0, r1, g1, b1, 1.0, 0.0 ])\n",
      "    cmd.load_cgo(obj,'arrows')"
     ],
     "language": "python",
     "metadata": {},
     "outputs": [],
     "prompt_number": 53
    },
    {
     "cell_type": "code",
     "collapsed": false,
     "input": [
      "cmd.hide('all')\n",
      "cmd.show('cartoon')\n",
      "porcupine(xyz, eig_vals, eig_vecs, mode=1)"
     ],
     "language": "python",
     "metadata": {},
     "outputs": [
      {
       "output_type": "stream",
       "stream": "stdout",
       "text": [
        "[ 1.91994904  2.66020636  1.44547002]\n"
       ]
      }
     ],
     "prompt_number": 54
    },
    {
     "cell_type": "markdown",
     "metadata": {},
     "source": [
      "## Further reading\n",
      "\n",
      "[Kabsch, W. (1976)](http://scripts.iucr.org/cgi-bin/paper?a12999). A solution for the best rotation to relate two sets of vectors. Acta. Crystal, 32A:922-923.  \n",
      "[Kabsch, W. (1978)](http://scripts.iucr.org/cgi-bin/paper?S0567739478001680). A discussion of the solution for the best rotation to related two sets of vectors. Acta. Crystal, 34A:827-828.   \n",
      "[RMSD Bosco](http://boscoh.com/protein/rmsd-root-mean-square-deviation.html). A nice post about the Kabsch algorithm.  \n",
      "[Y. Zhang & J. Skolnick 2004](http://zhanglab.ccmb.med.umich.edu/TM-score/TM-score.pdf). Scoring function for automated assessment of protein structure template quality.  \n",
      "[J. Xu & Y. Zhang 2010](http://zhanglab.ccmb.med.umich.edu/papers/2010_1.pdf). How significant is a protein structure similarity with TM-score=0.5?  \n",
      "[Protein Dynamics Methods and Protocols](http://www.springer.com/978-1-62703-657-3) Experimental and computational state of the art methods for characterizing protein dynamics.  \n",
      "[CSB](http://csb.codeplex.com/). A python framework for building applications in the domain of structural bioinformatics.  \n",
      "[ProDY](http://prody.csb.pitt.edu/tutorials/) Protein Dynamics and sequence analysis."
     ]
    }
   ],
   "metadata": {}
  }
 ]
}