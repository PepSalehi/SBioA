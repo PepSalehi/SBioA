{
 "metadata": {
  "name": "",
  "signature": "sha256:06160dd7f9ef91331e880d83d6be590b631dd2a71f9090b3c11f39932d2215e3"
 },
 "nbformat": 3,
 "nbformat_minor": 0,
 "worksheets": [
  {
   "cells": [
    {
     "cell_type": "markdown",
     "metadata": {},
     "source": [
      "# Energy computation and local and global optimization methods"
     ]
    },
    {
     "cell_type": "code",
     "collapsed": false,
     "input": [
      "% matplotlib inline\n",
      "import sys, pymol\n",
      "from pymol import cmd, stored\n",
      "stdout = sys.stdout\n",
      "pymol.finish_launching()\n",
      "sys.stdout = stdout\n",
      "from __future__ import division\n",
      "from math import cos, acos\n",
      "import numpy as np\n",
      "from numba import jit  # this is a new one! we will use Numba to speed-up our computations\n",
      "np.set_printoptions(linewidth=200, precision=3)\n",
      "import matplotlib.pyplot as plt\n",
      "import seaborn as sns\n",
      "from scipy.optimize import minimize\n",
      "from scipy.misc import derivative\n",
      "from scipy.stats import norm, expon"
     ],
     "language": "python",
     "metadata": {},
     "outputs": [],
     "prompt_number": 103
    },
    {
     "cell_type": "markdown",
     "metadata": {},
     "source": [
      "## Speeding up Python\n",
      "\n",
      "Before talking about optimization methods and molecualr mechanics we will talk about how to speed-up Python code. There are several options, most of them follows the [Pareto rule](http://en.wikipedia.org/wiki/Pareto_principle).In this case can be re-stated as follows _only an small part of the code is responsible for most of the  execution time_. Hence, is generally possible to speed-up Python just by re-writing an small part of the code, you can attain that by:\n",
      "\n",
      "* Using NumPY (something we have been doing from the beginning of the course)\n",
      "* Write the slow portion using a fast/compiled programming language like C/C++ or Fortran. \n",
      "* Use [Cython](http://cython.org/) to rewrite the critical part of the code. Cythons allows to write compiled C code by adding some minor modifications to native Python code (the basic idea is that you add variable declarations).\n",
      "* Using [Theano](http://deeplearning.net/software/theano/), a Python library that allows you to define, optimize, and evaluate mathematical expressions involving multi-dimensional arrays efficiently.\n",
      "* And using [Numba](http://numba.pydata.org/), another Python library. Just adding _decorators_ it is possible to speed-up pure Python code. This is probably the easiest way to accelerate Python code and is the one we will use here. \n",
      "\n",
      "The 3 last options allows speed-ups that can range from 0 to 3 orders of magnitude depending on several factors. This means that under certain conditions it is possible to obtain similar performance to C/C++ or Fortran code. \n",
      "\n",
      "Much of the technology behind these methods (like the [jit compiler](http://en.wikipedia.org/wiki/Just-in-time_compilation)) for optimization were not available when Python was invented and thus the _patchy-feel_ of this solutions. One language that was created from the beginning with all this optimizations in mind is [Julia](http://julialang.org/). Julia feels like Python but runs (almost) like C/C++/Fortran. The only drawback right now is that the Julia ecosystem is too young (at least for now). The good news is that it is possible to run Julia and Python together (see [here](https://conference.scipy.org/scipy2013/presentation_detail.php?id=203) and [here](http://jupyter.org/)).  \n",
      "\n",
      "Using Numba we just add the decorator _@jit_ just before the function we would like to optimize. A decorator allow you to modify code in functions or classes, without having to rewrite the function or class.\n",
      "\n",
      "In general Numba is smart enough to infer the type of the arguments and the type of the returned value. In case Numba fails to find out the right types you could end-up with code that is slower than the pure python code! In that case you can indicate to Numba the right types. For how to do this and other features on Numba please read the [documentation](http://numba.pydata.org/numba-doc/0.17.0/index.html)."
     ]
    },
    {
     "cell_type": "code",
     "collapsed": false,
     "input": [
      "# A pure python funcion\n",
      "def sum_0(arr):\n",
      "    M, N = arr.shape\n",
      "    result = 0\n",
      "    for i in range(M):\n",
      "        for j in range(N):\n",
      "            result += arr[i,j]\n",
      "    return result\n",
      "\n",
      "# A numpy version of the previous funcion\n",
      "def sum_1(arr):\n",
      "    return np.sum(arr)\n",
      "\n",
      "# The numba-optimized version of the first function\n",
      "@jit\n",
      "def sum_2(arr):\n",
      "    M, N = arr.shape\n",
      "    result = 0\n",
      "    for i in range(M):\n",
      "        for j in range(N):\n",
      "            result += arr[i,j]\n",
      "    return result\n",
      "\n",
      "# The numba-optimized version of the second function\n",
      "@jit\n",
      "def sum_3(arr):\n",
      "    return np.sum(arr)\n",
      "\n",
      "# and array to test our functions\n",
      "a = np.arange(64).reshape(8, 8)"
     ],
     "language": "python",
     "metadata": {},
     "outputs": [],
     "prompt_number": 2
    },
    {
     "cell_type": "code",
     "collapsed": false,
     "input": [
      "%timeit sum_0(a) # Python\n",
      "%timeit sum_1(a) # NumPy\n",
      "%timeit sum_2(a) # Numba\n",
      "%timeit sum_3(a) # NumPy + Numba"
     ],
     "language": "python",
     "metadata": {},
     "outputs": [
      {
       "output_type": "stream",
       "stream": "stdout",
       "text": [
        "Unable to initialize plugin 'BioModelBuilder' (pmg_tk.startup.BioModelBuilder).\n",
        "Unable to initialize plugin 'BuildOligo' (pmg_tk.startup.BuildOligo).\n",
        "10000 loops, best of 3: 40.8 \u00b5s per loop"
       ]
      },
      {
       "output_type": "stream",
       "stream": "stdout",
       "text": [
        "\n",
        "100000 loops, best of 3: 8.56 \u00b5s per loop"
       ]
      },
      {
       "output_type": "stream",
       "stream": "stdout",
       "text": [
        "\n",
        "1000000 loops, best of 3: 382 ns per loop"
       ]
      },
      {
       "output_type": "stream",
       "stream": "stdout",
       "text": [
        "\n",
        "1000000 loops, best of 3: 325 ns per loop"
       ]
      },
      {
       "output_type": "stream",
       "stream": "stdout",
       "text": [
        "\n"
       ]
      }
     ],
     "prompt_number": 3
    },
    {
     "cell_type": "markdown",
     "metadata": {},
     "source": [
      "When I run this benchmark on my machine I get the followng results (all comparisons are made against the pure Python function).\n",
      "\n",
      "* NumPy: a ~5 speed-up factor\n",
      "* Numba: a ~110 speed-up factor\n",
      "* NumPy + Numba: a ~125 speed-up factor \n",
      "\n",
      "Not bad for a adding a decorator and removing some lines!"
     ]
    },
    {
     "cell_type": "markdown",
     "metadata": {},
     "source": [
      "Now, we will write some auxiliary functions, using Numba, for later use."
     ]
    },
    {
     "cell_type": "code",
     "collapsed": false,
     "input": [
      "@jit\n",
      "def dist(x, y):\n",
      "    return ((x[0]-y[0])**2 + (x[1]-y[1])**2 + (x[2]-y[2])**2)**0.5\n",
      "\n",
      "@jit\n",
      "def _dot(p, q):\n",
      "    return p[0]*q[0] + p[1]*q[1] + p[2]*q[2]\n",
      "\n",
      "@jit\n",
      "def _cross(p, q):\n",
      "    x = p[1] * q[2] - p[2] * q[1]\n",
      "    y = p[2] * q[0] - p[0] * q[2]\n",
      "    z = p[0] * q[1] - p[1] * q[0]\n",
      "    return np.array([x, y, z])\n",
      "\n",
      "\n",
      "@jit\n",
      "def _mod(x):\n",
      "    return (x[0]**2 + x[1]**2 + x[2]**2)**0.5"
     ],
     "language": "python",
     "metadata": {},
     "outputs": [],
     "prompt_number": 4
    },
    {
     "cell_type": "code",
     "collapsed": false,
     "input": [
      "# a couple of functions to compare against the Numba optimized ones.\n",
      "def dist_py(x, y):\n",
      "    return (sum((x-y)**2))**0.5\n",
      "\n",
      "def mod_py(x):\n",
      "    return (sum(x**2))**0.5\n",
      "\n",
      "# just an array for benchmarking\n",
      "coord = np.array([[ 37.71,  23.33,  15.6 ],\n",
      "                   [ 38.32,  22.34,  15.19]])"
     ],
     "language": "python",
     "metadata": {},
     "outputs": [],
     "prompt_number": 5
    },
    {
     "cell_type": "code",
     "collapsed": false,
     "input": [
      "%timeit dist_py(coord[0], coord[1])\n",
      "%timeit dist(coord[0], coord[1])\n",
      "\n",
      "%timeit np.dot(coord[0], coord[1])\n",
      "%timeit _dot(coord[0], coord[1])\n",
      "\n",
      "%timeit np.cross(coord[0], coord[1])\n",
      "%timeit _cross(coord[0], coord[1])\n",
      "\n",
      "%timeit mod_py(coord[0])\n",
      "%timeit _mod(coord[0])"
     ],
     "language": "python",
     "metadata": {},
     "outputs": [
      {
       "output_type": "stream",
       "stream": "stdout",
       "text": [
        "100000 loops, best of 3: 10.3 \u00b5s per loop\n",
        "1000000 loops, best of 3: 1.09 \u00b5s per loop"
       ]
      },
      {
       "output_type": "stream",
       "stream": "stdout",
       "text": [
        "\n",
        "100000 loops, best of 3: 1.57 \u00b5s per loop"
       ]
      },
      {
       "output_type": "stream",
       "stream": "stdout",
       "text": [
        "\n",
        "1000000 loops, best of 3: 1.1 \u00b5s per loop"
       ]
      },
      {
       "output_type": "stream",
       "stream": "stdout",
       "text": [
        "\n",
        "100000 loops, best of 3: 12.7 \u00b5s per loop"
       ]
      },
      {
       "output_type": "stream",
       "stream": "stdout",
       "text": [
        "\n",
        "100000 loops, best of 3: 11.4 \u00b5s per loop"
       ]
      },
      {
       "output_type": "stream",
       "stream": "stdout",
       "text": [
        "\n",
        "100000 loops, best of 3: 9.66 \u00b5s per loop"
       ]
      },
      {
       "output_type": "stream",
       "stream": "stdout",
       "text": [
        "\n",
        "1000000 loops, best of 3: 629 ns per loop"
       ]
      },
      {
       "output_type": "stream",
       "stream": "stdout",
       "text": [
        "\n"
       ]
      }
     ],
     "prompt_number": 6
    },
    {
     "cell_type": "markdown",
     "metadata": {},
     "source": [
      "In my case the speed-ups of using Numba vs pure Python are; ~9, ~1.5, ~1.5, ~13 respectively."
     ]
    },
    {
     "cell_type": "markdown",
     "metadata": {},
     "source": [
      "## Force Fields\n",
      "\n",
      "A [force field](http://en.wikipedia.org/wiki/Force_field_%28chemistry%29) (FF) is a model of the potential energy of a system of particles like a molecular system, including the functional form and the parameters. Notice that while a FF do not explicitly model forces, the first derivative of the potential energy gives the force, so the _force_ part of the name can be easily justified.\n",
      "\n",
      "Most common FF have a similar functional form, some have less terms (like no bond or angle terms or even no electrostatic term) others have more terms (like explicitly representing hydrogens bonds or a term to penalize extended structures)\n",
      "\n",
      "$$\n",
      "U = \\sum_\\text{bonds} k_b (r-r_0)^2 + \\sum_\\text{angles} k_a (\\theta - \\theta_0)^2\n",
      "+ \\sum_\\text{torsions}  k_t [1-\\cos(n (\\chi - \\chi_0))] \\\\\n",
      "+ \\sum_\\text{non-bonded} \\biggl({\\frac{A_{ij}}{(r_{ij})^{12}} - \\frac{B_{ij}}{(r_{ij})^6} + \\frac{q_iq_j}{4\\pi \\epsilon_0 r_{ij}}\\biggr)}\n",
      "$$\n",
      "\n",
      "The non-bonded interactions (the last term) are computed only for atoms three or more bonds apart. Generally, 1-4 interactions are scaled down by a factor of 0.5.\n",
      "\n",
      "We can classify FF according to how detailed the system is modeled: \n",
      "\n",
      "* _All-atom_ FF. All the atoms, including hydrogens, and their interactions are modeled.\n",
      "* _United-atom_ FF. The non-polar carbons and their hydrogens are treated as single interaction centers.\n",
      "* _Coarse-grained_ FF. In this representation several atoms are treated as a single interaction center. Some authors use the terms _united-atom_ and _coarse_grain_ as synonyms.\n",
      "\n",
      "Some popular FF for biomolecules are [AMBER](http://ambermd.org/#ff), [CHARMM](http://www.charmm.org/), [OPLS](http://en.wikipedia.org/wiki/OPLS), [Rosetta](https://www.rosettacommons.org/), [MARTINI](http://md.chem.rug.nl/cgmartini/) and [Sirah](http://www.sirahff.com/). \n",
      "\n",
      "\n",
      "### Parametrization\n",
      "\n",
      "As you see from the above equation there are a lot of parameters in a FF that should be determined, like equilibrium values of bond lengths, bond angles and torsionals, van der Waals radii, and partial charges. The parameters are determined for atoms in functional groups. _i.e._ a carbon in a methyl and a carbon in a carboxyl groups will have different set of parameters. In most common FF the partial charges are fixed. Nevertheless, polarizable models (in which the charge responds to the environment) have been also developed and how to implement them in a computationally efficient way is an intensive area of research.\n",
      "\n",
      "Traditionally, parameters were derived from quantum mechanical computations and/or experimental measurement of small compounds. One problem with this approach is that by using small compounds is hard to correctly capture the properties of large biomolecules. One good [example](http://boscoh.com/protein/the-infidelity-of-the-theoretical-protein-backbone.html) of this is the difficulty that FF historically had to reproduce the ramachandran plot. Alternative, parameters can be derived by doing statistical analysis of experimentally solved biomolecular structures. Briefly, the main idea is that the probability to observe any state of a system is proportional to $e^{(\\frac{-E}{kT})}$ (i.e. the probability of the states follow a Boltzmann distribution), where $E$ is the energy, $T$ the absolute temperature and $k$ the Boltzmann constant. Thus, we can obtain energies by observing frequencies. FF derived using this type of approach are generally called _knowledge based scoring functions_ or  _knowledge based potentials_. This approach have been used for the Rosetta force field, that includes (among others) an hydrogen bond term, a _ramachandran_ term, a rotamer term for side chains, etc were the parameters were determined directly from high quality protein structures. You can read more about the energy terms in the _score_12_ scoring function [here](https://www.rosettacommons.org/manuals/rosetta3_user_guide/score_types.html). The _score12_ scoring function, was the default in Rosetta until the talaris2013 scoring function was created, unfortunately this new scoring function is not yet [well documented](https://www.rosettacommons.org/node/3508)."
     ]
    },
    {
     "cell_type": "markdown",
     "metadata": {},
     "source": [
      "## Writing your own (toy)-Force Field\n",
      "\n",
      "Now we are going to implement our very own FF. We are not going to do any fancy stuff, indeed chances are high that our FF will not be adequate for any other purpose than to learn a couple of things in this course. Our FF will have 4 terms, _bonds_, _angles_, _torsionals_ and _VdW_/hard_sphere.\n",
      "\n",
      "First we will load a small molecule, a blocked alanine residue."
     ]
    },
    {
     "cell_type": "code",
     "collapsed": false,
     "input": [
      "cmd.load('ala_blocked.pdb')"
     ],
     "language": "python",
     "metadata": {},
     "outputs": [],
     "prompt_number": 7
    },
    {
     "cell_type": "markdown",
     "metadata": {},
     "source": [
      "Then, we are going to define the parameters of our FF. These parameters are a very short and simplified version of what you will usually find in a modern FF. Notice that we have just four types of atoms (C,H,O and N) and in general the values, while inspired on values from a real FF (AMBER), we can't take them too seriously since we didn't have performed any test to check if the combination of parameters reproduce some experimentally observed or theoretically derived quantity."
     ]
    },
    {
     "cell_type": "code",
     "collapsed": false,
     "input": [
      "# some values are duplicated, because for example we can have a 'NC' bond or 'CN' bond\n",
      "# but both are the same!.\n",
      "\n",
      "par_bonds = { \n",
      "'CC':(303.1, 1.535),\n",
      "'CN':(390.5, 1.407),\n",
      "'CO':(623.0, 1.224),\n",
      "'CH':(344.3, 1.087),\n",
      "'NH':(451.2, 1.402),\n",
      "'OH':(294.6, 1.517),\n",
      "'NC':(390.5, 1.407),\n",
      "'OC':(623.0, 1.224),\n",
      "'HC':(344.3, 1.087),\n",
      "'HN':(451.2, 1.402),\n",
      "'HO':(294.6, 1.517)}\n",
      "\n",
      "par_angles = {\n",
      "'CCO':(68.0, 2.1485),\n",
      "'CCN':(65.8, 1.9565),\n",
      "'CCC':(63.8, 1.9198),\n",
      "'CCH':(46.4, 1.9198),\n",
      "'CNC':(63.9, 2.1170),\n",
      "'COH':(47.1, 1.8867),\n",
      "'CNH':(48.8, 2.0437),\n",
      "'NCO':(75.8, 2.1293),\n",
      "'NCH':(49.8, 1.9111),\n",
      "'OCH':(47.1, 1.8867),\n",
      "'OCO':(78.2, 2.2741),\n",
      "'HCH':(39.4, 1.8901),\n",
      "'OCC':(68.0, 2.1485),\n",
      "'NCC':(65.8, 1.9565),\n",
      "'HCC':(46.4, 1.9198),\n",
      "'HOC':(47.1, 1.8867),\n",
      "'HNC':(48.8, 2.0437),\n",
      "'OCN':(75.8, 2.1293),\n",
      "'HCN':(49.8, 1.9111),\n",
      "'HCO':(47.1, 1.8867),\n",
      "}\n",
      "\n",
      "par_torsionals = {\n",
      " 'CN':(2, 5.0, 3.1416),\n",
      " 'NC':(2, 5.0, 3.1416),\n",
      " 'CC':(3, 0.6, 3.1416),\n",
      "}\n",
      "\n",
      "\n",
      "par_vdw = {\n",
      "'H':(1.49, 0.015), \n",
      "'C':(1.90, 0.086), \n",
      "'O':(1.66, 0.210),\n",
      "'N':(1.82, 0.170),\n",
      "}"
     ],
     "language": "python",
     "metadata": {},
     "outputs": [],
     "prompt_number": 8
    },
    {
     "cell_type": "markdown",
     "metadata": {},
     "source": [
      "Now we will get the coordinates of our molecule using the PyMOL API."
     ]
    },
    {
     "cell_type": "code",
     "collapsed": false,
     "input": [
      "model = cmd.get_model('all')\n",
      "xyz = np.array(model.get_coord_list())\n",
      "# Python start counting on 0 PyMOL on 1, thus we add a dummy value '0' to the list.\n",
      "topo = {'types': [0,], 'bonds': []}"
     ],
     "language": "python",
     "metadata": {},
     "outputs": [],
     "prompt_number": 9
    },
    {
     "cell_type": "markdown",
     "metadata": {},
     "source": [
      "We will also need to have a record of the atoms types in our molecule. Remember that in our implementation the atom types are just the 4 elements C,H,O and N."
     ]
    },
    {
     "cell_type": "code",
     "collapsed": false,
     "input": [
      "def get_types():\n",
      "    \"\"\"\n",
      "    Get the types of the atoms in a molecule\n",
      "    \n",
      "    \"\"\"\n",
      "    cmd.iterate('all', 'types.append(elem)', space=topo)\n",
      "    return topo['types']"
     ],
     "language": "python",
     "metadata": {},
     "outputs": [],
     "prompt_number": 10
    },
    {
     "cell_type": "code",
     "collapsed": false,
     "input": [
      "types = get_types()\n",
      "print types"
     ],
     "language": "python",
     "metadata": {},
     "outputs": [
      {
       "output_type": "stream",
       "stream": "stdout",
       "text": [
        "[0, 'C', 'O', 'C', 'H', 'H', 'H', 'N', 'C', 'C', 'O', 'C', 'H', 'H', 'H', 'H', 'H', 'N', 'C', 'H', 'H', 'H', 'H']\n"
       ]
      }
     ],
     "prompt_number": 11
    },
    {
     "cell_type": "markdown",
     "metadata": {},
     "source": [
      "### BONDS\n",
      "\n",
      "Bonds can be parametrized using a simple harmonic potential. This approximation is OK if the bond length does not deviate too much from its equilibrium value.\n",
      "\n",
      "$$\n",
      "\\sum_\\text{bonds} k_b (r-r_0)^2\n",
      "$$\n",
      "\n",
      "Where:\n",
      "$K_b$ is a constant that controls how easy is for the length of a bond $r$ to deviates from its equilibrium value $r_0$. \n",
      "\n",
      "We need to list all bonds in our molecule. Since classical force fields does not model bond rupture/creation this list will not change for a given molecule during our computations/simulations."
     ]
    },
    {
     "cell_type": "code",
     "collapsed": false,
     "input": [
      "def get_bonds():\n",
      "    \"\"\"\n",
      "    List all bonds in a molecule.\n",
      "    \n",
      "    \"\"\"\n",
      "    model = cmd.get_model('all')\n",
      "    for at in model.atom:\n",
      "        cmd.iterate('neighbor index %s' % at.index, \n",
      "                    'bonds.append((%s, index))' % at.index, space=topo)\n",
      "    #remove duplicated bonds\n",
      "    bonds = list(set([tuple(sorted(i)) for i in topo['bonds']]))\n",
      "    return bonds"
     ],
     "language": "python",
     "metadata": {},
     "outputs": [],
     "prompt_number": 12
    },
    {
     "cell_type": "code",
     "collapsed": false,
     "input": [
      "bonds = get_bonds()\n",
      "print bonds"
     ],
     "language": "python",
     "metadata": {},
     "outputs": [
      {
       "output_type": "stream",
       "stream": "stdout",
       "text": [
        "[(1, 2), (9, 10), (1, 3), (8, 13), (11, 14), (7, 12), (7, 8), (8, 11), (8, 9), (17, 19), (18, 22), (9, 17), (3, 6), (1, 7), (11, 16), (11, 15), (18, 21), (17, 18), (3, 4), (18, 20), (3, 5)]\n"
       ]
      }
     ],
     "prompt_number": 13
    },
    {
     "cell_type": "code",
     "collapsed": false,
     "input": [
      "def nrg_bonds(bonds, xyz):\n",
      "    E_bonds = 0\n",
      "    for bond in bonds:\n",
      "        at_i, at_j = bond\n",
      "        key = types[at_i] + types[at_j]\n",
      "        k_bond, r0 = par_bonds[key]\n",
      "        r_ij = dist(xyz[at_i-1], xyz[at_j-1])\n",
      "        E_bonds += k_bond * (r_ij - r0)** 2 \n",
      "    return E_bonds"
     ],
     "language": "python",
     "metadata": {},
     "outputs": [],
     "prompt_number": 14
    },
    {
     "cell_type": "code",
     "collapsed": false,
     "input": [
      "nrg_bonds(bonds, xyz)"
     ],
     "language": "python",
     "metadata": {},
     "outputs": [
      {
       "metadata": {},
       "output_type": "pyout",
       "prompt_number": 15,
       "text": [
        "115.41665338606188"
       ]
      }
     ],
     "prompt_number": 15
    },
    {
     "cell_type": "markdown",
     "metadata": {},
     "source": [
      "## ANGLES\n",
      "\n",
      "Angles are parametrized in a similar fashion than bonds. \n",
      "\n",
      "$$\n",
      "\\sum_\\text{bonds} k_b (\\theta-\\theta_0)^2\n",
      "$$\n",
      "\n",
      "Where:\n",
      "$K_a$ is a constant that controls how easy is for the angle $\\theta$ deviates from its equilibrium value $\\theta_0$. "
     ]
    },
    {
     "cell_type": "code",
     "collapsed": false,
     "input": [
      "def get_angles(bonds):\n",
      "    \"\"\"\n",
      "    List all angles in a molecule.\n",
      "    \n",
      "    Parameters\n",
      "    ----------\n",
      "    bonds: List of tuples: containing the indices for all bonds in a molecule.\n",
      "    \n",
      "    \"\"\"    \n",
      "    angles = []\n",
      "    lenght = len(bonds)\n",
      "    for i in range(lenght):\n",
      "        for j in range(i+1, lenght):\n",
      "            s = set(bonds[i])\n",
      "            t = set(bonds[j])\n",
      "            # The vertex is the element common to both bonds\n",
      "            vertex = list(s & t) \n",
      "            if vertex:\n",
      "                # edges are the element in one bond but not in the other\n",
      "                # I use pop to retrieve the only element in each set\n",
      "                edge0 = (s - t).pop()  \n",
      "                edge1 = (t - s).pop()\n",
      "                angle = (edge0, vertex[0], edge1)\n",
      "                angles.append(angle)\n",
      "    return angles"
     ],
     "language": "python",
     "metadata": {},
     "outputs": [],
     "prompt_number": 16
    },
    {
     "cell_type": "code",
     "collapsed": false,
     "input": [
      "angles = get_angles(bonds)\n",
      "print angles"
     ],
     "language": "python",
     "metadata": {},
     "outputs": [
      {
       "output_type": "stream",
       "stream": "stdout",
       "text": [
        "[(2, 1, 3), (2, 1, 7), (10, 9, 8), (10, 9, 17), (1, 3, 6), (3, 1, 7), (1, 3, 4), (1, 3, 5), (13, 8, 7), (13, 8, 11), (13, 8, 9), (14, 11, 8), (14, 11, 16), (14, 11, 15), (12, 7, 8), (12, 7, 1), (7, 8, 11), (7, 8, 9), (8, 7, 1), (11, 8, 9), (8, 11, 16), (8, 11, 15), (8, 9, 17), (19, 17, 9), (19, 17, 18), (22, 18, 21), (22, 18, 17), (22, 18, 20), (9, 17, 18), (6, 3, 4), (6, 3, 5), (16, 11, 15), (21, 18, 17), (21, 18, 20), (17, 18, 20), (4, 3, 5)]\n"
       ]
      }
     ],
     "prompt_number": 17
    },
    {
     "cell_type": "markdown",
     "metadata": {},
     "source": [
      "Now we can compute the energy contribution of the angle term to the total energy"
     ]
    },
    {
     "cell_type": "code",
     "collapsed": false,
     "input": [
      "def comp_angle(a, b, c):\n",
      "    ba_mod = dist(xyz[b], xyz[a])\n",
      "    bc_mod = dist(xyz[b], xyz[c])\n",
      "    angle_rad = acos(_dot(xyz[b]-xyz[a], xyz[b]-xyz[c]) /\n",
      "                             (ba_mod * bc_mod))    \n",
      "    return angle_rad\n",
      "\n",
      "\n",
      "def nrg_angles(angles, xyz):\n",
      "    E_angles = 0\n",
      "    for angle in angles:\n",
      "        at_i, at_j, at_k = angle\n",
      "        key = types[at_i] + types[at_j] + types[at_k]\n",
      "        k_angle, theta0 = par_angles[key]\n",
      "        #angle_rad = cmd.get_angle('index %s' % at_i, 'index %s' % at_j, 'index %s' % at_k)\n",
      "        angle_rad = comp_angle(at_i-1, at_j-1, at_k-1)\n",
      "        E_angles += k_angle * (angle_rad - theta0)**2\n",
      "    return E_angles"
     ],
     "language": "python",
     "metadata": {},
     "outputs": [],
     "prompt_number": 18
    },
    {
     "cell_type": "code",
     "collapsed": false,
     "input": [
      "#%%timeit\n",
      "nrg_angles(angles, xyz)"
     ],
     "language": "python",
     "metadata": {},
     "outputs": [
      {
       "metadata": {},
       "output_type": "pyout",
       "prompt_number": 19,
       "text": [
        "17.48801091369462"
       ]
      }
     ],
     "prompt_number": 19
    },
    {
     "cell_type": "markdown",
     "metadata": {},
     "source": [
      "## Torsionals\n",
      "\n",
      "Since torsionals angles have more than one minimum value we could model the torsional contribution to the potential energy using a _cosine_ function.\n",
      "\n",
      "$$\n",
      "\\sum_\\text{torsions} k_t [1-\\cos(n (\\chi- \\chi_0))]\n",
      "$$\n",
      "\n",
      "Where:  \n",
      "$K_t$ is a constant that controls how easy is for the angle $\\chi$ deviates from its equilibrium value $\\chi_0$. Like in the case of the angles, the torsionals are measured in radians.\n",
      "$n$ is a parameter that controls the number of minima."
     ]
    },
    {
     "cell_type": "code",
     "collapsed": false,
     "input": [
      "def get_torsionals(angles):\n",
      "    \"\"\"\n",
      "    List all torsionals in a molecule.\n",
      "    \n",
      "    Parameters\n",
      "    ----------\n",
      "    angles: List of tuples: containing the indices for all angles in a molecule.\n",
      "    \n",
      "    \"\"\"\n",
      "    torsionals = []\n",
      "    lenght = len(angles)\n",
      "    for i in range(lenght):\n",
      "        for j in range(i+1, lenght):\n",
      "            ang_s = angles[i]\n",
      "            ang_t = angles[j]\n",
      "            if ang_s[1] == ang_t[0] and ang_s[2] == ang_t[1]:\n",
      "                a = ang_s[0]\n",
      "                b, c, d = ang_t\n",
      "                torsional = (a, b, c, d)\n",
      "                torsionals.append(torsional)\n",
      "            elif ang_s[1] == ang_t[2] and ang_s[2] == ang_t[1]:\n",
      "                a = ang_s[0]\n",
      "                b, c, d = ang_t[::-1]\n",
      "                torsional = (a, b, c, d)\n",
      "                torsionals.append(torsional)\n",
      "            elif ang_s[0] == ang_t[1] and ang_s[1] == ang_t[0]:\n",
      "                a = ang_s[2]\n",
      "                b, c, d = ang_t\n",
      "                torsional = (a, b, c, d)\n",
      "                torsionals.append(torsional)\n",
      "    return torsionals"
     ],
     "language": "python",
     "metadata": {},
     "outputs": [],
     "prompt_number": 20
    },
    {
     "cell_type": "code",
     "collapsed": false,
     "input": [
      "torsionals = get_torsionals(angles)\n",
      "print torsionals,"
     ],
     "language": "python",
     "metadata": {},
     "outputs": [
      {
       "output_type": "stream",
       "stream": "stdout",
       "text": [
        "[(2, 1, 3, 6), (2, 1, 3, 4), (2, 1, 3, 5), (2, 1, 7, 12), (2, 1, 7, 8), (10, 9, 8, 13), (10, 9, 8, 7), (10, 9, 8, 11), (10, 9, 17, 19), (10, 9, 17, 18), (6, 3, 1, 7), (7, 1, 3, 4), (7, 1, 3, 5), (3, 1, 7, 12), (3, 1, 7, 8), (13, 8, 7, 12), (13, 8, 7, 1), (13, 8, 11, 14), (13, 8, 11, 16), (13, 8, 11, 15), (13, 8, 9, 17), (14, 11, 8, 7), (14, 11, 8, 9), (12, 7, 8, 11), (12, 7, 8, 9), (11, 8, 7, 1), (7, 8, 11, 16), (7, 8, 11, 15), (9, 8, 7, 1), (7, 8, 9, 17), (9, 8, 11, 16), (9, 8, 11, 15), (11, 8, 9, 17), (8, 9, 17, 19), (8, 9, 17, 18), (19, 17, 18, 22), (19, 17, 18, 21), (19, 17, 18, 20), (22, 18, 17, 9), (9, 17, 18, 21), (9, 17, 18, 20)]\n"
       ]
      }
     ],
     "prompt_number": 21
    },
    {
     "cell_type": "code",
     "collapsed": false,
     "input": [
      "def comp_dihedral(a, b, c, d):\n",
      "    # Compute 3 vectors conecting the four points\n",
      "    ba = xyz[b]-xyz[a]\n",
      "    cb = xyz[c]-xyz[b]\n",
      "    dc = xyz[d]-xyz[c]\n",
      "\n",
      "    # Compute the normal vector to each plane\n",
      "    u_A = _cross(ba, cb)\n",
      "    u_B = _cross(cb, dc)\n",
      "\n",
      "    #Measure the angle between the two normal vectors\n",
      "    u_A_mod = _mod(u_A)\n",
      "    u_B_mod = _mod(u_B)\n",
      "\n",
      "    tor_rad = acos(_dot(u_A, u_B) /\n",
      "                             (u_A_mod * u_B_mod))\n",
      "\n",
      "    return tor_rad\n",
      "\n",
      "\n",
      "def nrg_torsionals(torsionals, xyz):\n",
      "    E_tor = 0.\n",
      "    for tor in torsionals:\n",
      "        at_i, at_j, at_k, at_l = tor\n",
      "        key = types[at_j] + types[at_k]\n",
      "        period, k_t, chi0 = par_torsionals[key]\n",
      "        #chi = cmd.get_dihedral('index %s' % at_i,'index %s' %  at_j,\n",
      "        #                       'index %s' %  at_k,'index %s' %  at_l)\n",
      "        chi = comp_dihedral(at_i-1, at_j-1, at_k-1, at_l-1)\n",
      "        E_tor += k_t * (1 - (cos(period*(chi - chi0))))\n",
      "    return E_tor"
     ],
     "language": "python",
     "metadata": {},
     "outputs": [],
     "prompt_number": 22
    },
    {
     "cell_type": "code",
     "collapsed": false,
     "input": [
      "%%timeit\n",
      "nrg_torsionals(torsionals, xyz)"
     ],
     "language": "python",
     "metadata": {},
     "outputs": [
      {
       "output_type": "stream",
       "stream": "stdout",
       "text": [
        "1000 loops, best of 3: 1.3 ms per loop\n"
       ]
      }
     ],
     "prompt_number": 23
    },
    {
     "cell_type": "markdown",
     "metadata": {},
     "source": [
      "# Van der Waals\n",
      "\n",
      "\n",
      "The van der Waals contribution to the potential energy describes the repulsion or attraction between atoms that are not directly bonded, besides does that involves the interaction of charges and partial charge. \n",
      "\n",
      "$$\n",
      "\\sum_\\text{torsions} \\biggl({\\frac{A_{ij}}{(r_{ij})^{12}} - \\frac{B_{ij}}{(r_{ij})^6} \\biggr)}\n",
      "$$\n",
      "\n",
      "The $r^{12}$ term, describes Pauli repulsion at short ranges due to overlapping electron orbitals and the $r^{6}$ term describes attraction at long ranges due the so-called dispersion forces.\n",
      "\n",
      "Is important to remark that the only justification for the exponents $12$ and $6$ is one of numerical convenience. Indeed there is evidence that other exponent and/or expression for the van der Waals energy are better suited."
     ]
    },
    {
     "cell_type": "code",
     "collapsed": false,
     "input": [
      "def get_nb():\n",
      "    \"\"\"\n",
      "    Computes the neighbors of each atom, that are at least 3 bonds appart.\n",
      "    \n",
      "    \"\"\"\n",
      "    nb_vdw_list = []\n",
      "    model = cmd.get_model('all')\n",
      "    for at in model.atom:\n",
      "        nb = cmd.index('not (index %s extend 3)' % at.index)\n",
      "        nb_vdw_list.extend([tuple(sorted([at.index, i[1]])) for i in nb])\n",
      "    nb_vdw = list(set(tuple(nb_vdw_list)))\n",
      "    return nb_vdw"
     ],
     "language": "python",
     "metadata": {},
     "outputs": [],
     "prompt_number": 24
    },
    {
     "cell_type": "code",
     "collapsed": false,
     "input": [
      "neighbors = get_nb()\n",
      "print neighbors,"
     ],
     "language": "python",
     "metadata": {},
     "outputs": [
      {
       "output_type": "stream",
       "stream": "stdout",
       "text": [
        "[(6, 9), (15, 20), (1, 17), (14, 17), (2, 22), (16, 19), (5, 8), (4, 19), (6, 10), (5, 18), (11, 22), (7, 19), (12, 17), (13, 20), (4, 10), (5, 11), (8, 21), (4, 16), (5, 21), (11, 21), (7, 22), (12, 22), (2, 17), (4, 15), (2, 11), (5, 14), (3, 18), (10, 14), (6, 13), (4, 21), (6, 16), (1, 21), (7, 21), (2, 18), (3, 11), (1, 15), (4, 12), (3, 17), (14, 22), (6, 14), (1, 16), (14, 19), (1, 10), (16, 17), (14, 21), (6, 11), (5, 17), (7, 18), (12, 18), (1, 19), (13, 19), (4, 11), (5, 10), (3, 22), (8, 22), (4, 17), (6, 20), (5, 20), (11, 20), (10, 20), (16, 20), (13, 22), (3, 15), (14, 18), (4, 8), (5, 13), (3, 21), (10, 15), (4, 22), (14, 20), (15, 19), (6, 17), (11, 19), (1, 20), (7, 20), (12, 20), (2, 19), (16, 22), (3, 10), (1, 14), (4, 13), (2, 13), (3, 16), (6, 15), (15, 22), (6, 18), (12, 14), (2, 20), (3, 9), (2, 14), (6, 8), (5, 16), (10, 16), (15, 21), (12, 19), (1, 18), (13, 18), (5, 9), (4, 18), (6, 21), (5, 19), (10, 21), (16, 21), (12, 16), (13, 21), (3, 14), (4, 9), (2, 9), (5, 12), (3, 20), (10, 12), (8, 20), (15, 18), (6, 22), (5, 22), (11, 18), (10, 22), (16, 18), (12, 21), (2, 16), (3, 13), (4, 14), (2, 10), (5, 15), (3, 19), (6, 12), (4, 20), (15, 17), (6, 19), (12, 15), (1, 22), (2, 21), (2, 15)]\n"
       ]
      }
     ],
     "prompt_number": 25
    },
    {
     "cell_type": "markdown",
     "metadata": {},
     "source": [
      "Now we can compute the van der Waals contribution to the total energy:"
     ]
    },
    {
     "cell_type": "code",
     "collapsed": false,
     "input": [
      "def nrg_vdw(neighbors, xyz, hard_sphere=True):\n",
      "    \"\"\"\n",
      "    Computes the a \"hard sphere\" energy or the van der Waals energy:\n",
      "    \n",
      "    Parameters\n",
      "    ----------\n",
      "    neighbors: List of tuples. \n",
      "        Containing the indices for all angles in a molecule.\n",
      "    xyz: array.\n",
      "        cartesian coordinates.\n",
      "    hard_sphere: bolean.\n",
      "        if True compute the energy using a hard sphere potential, if False\n",
      "        uses the Lennard-Jones potential\n",
      "        \n",
      "    \"\"\"\n",
      "    E_vdw = 0\n",
      "    for i,j in neighbors:\n",
      "        key_i = types[i]\n",
      "        key_j = types[j]\n",
      "        sum_vdw = par_vdw[key_i][0] + par_vdw[key_j][0]\n",
      "        r_ij = dist(xyz[i-1], xyz[j-1])\n",
      "        if hard_sphere:\n",
      "            if r_ij > sum_vdw:\n",
      "                E_vdw += 0.2 # arbitrary, non-tested value.\n",
      "        else:\n",
      "            epsilon_ij = (par_vdw[key_i][1] * par_vdw[key_j][1])**0.5\n",
      "            A_ij = epsilon_ij * (sum_vdw)**12\n",
      "            B_ij = 2 * epsilon_ij * (sum_vdw)**6\n",
      "            E_vdw += (A_ij / (r_ij)**12) - (B_ij / (r_ij)**6)\n",
      "    return E_vdw"
     ],
     "language": "python",
     "metadata": {},
     "outputs": [],
     "prompt_number": 26
    },
    {
     "cell_type": "code",
     "collapsed": false,
     "input": [
      "#%%timeit\n",
      "nrg_vdw(neighbors, xyz)"
     ],
     "language": "python",
     "metadata": {},
     "outputs": [
      {
       "metadata": {},
       "output_type": "pyout",
       "prompt_number": 27,
       "text": [
        "27.7195008782819"
       ]
      }
     ],
     "prompt_number": 27
    },
    {
     "cell_type": "markdown",
     "metadata": {},
     "source": [
      "The total energy of out molecule, according to out FF is:"
     ]
    },
    {
     "cell_type": "code",
     "collapsed": false,
     "input": [
      "print nrg_bonds(bonds, xyz) + nrg_angles(angles, xyz) + nrg_torsionals(torsionals, xyz) \\\n",
      "+ nrg_vdw(neighbors, xyz)"
     ],
     "language": "python",
     "metadata": {},
     "outputs": [
      {
       "output_type": "stream",
       "stream": "stdout",
       "text": [
        "225.465086571\n"
       ]
      }
     ],
     "prompt_number": 28
    },
    {
     "cell_type": "markdown",
     "metadata": {},
     "source": [
      "## Energy Minimization\n",
      "\n",
      "[Energy minimization](https://en.wikipedia.org/wiki/Energy_minimization) (AKA energy optimization or geometry optimization) is the process of finding an arrangement of a collection of atoms where, according to some model (force field, scoring function, etc), the net inter-atomic force on each atom is as close as possible to zero, i.e. the system is in a local minimum of the potential energy surface (PES).\n",
      "\n",
      "During an energy minimization the changes in the coordinates have not physical meaning. The minimization process do not produce a trajectory in the physical sense. Thus, different optimization algorithms could provide equivalent results for the minimum energy structure, but arrive at them trough different pathways.\n",
      "\n",
      "As we have already discussed, a molecule can be described by a coordinate vector $\\mathbf{r} = (r_1, r_2,...r_n)$. And the energy of a molecule can be computed as a function of its coordinates $E(r)$. And our objective is to find the value of $\\mathbf{r}$ for which $E(\\mathbf{r})$ is at a local minimum. This kind of problems are studied by a branch of mathematics called _optimization theory_. Optimization is a general term to refer to the maximization and minimization functions. Both operations are the equivalent since maximizing $f$ is the same as minimizing $-f$.\n",
      "\n",
      "\n",
      "There are several strategies to find the minimum of a function. One possibility, specially useful for very complicate problems that are difficult to deal analytically, is to compute the values of our functions are different points and use the lowest found value as the minimum value of the function. We can do this in a systematic fashion or moving randomly and we can move in a continuous space or use a grid to discreetize the problem. We will explore this type of solution when we see Markov Chain Monte Carlo. But know we will explore other alternatives based on using derivatives of our function.\n",
      "\n",
      "We know we are at a local minimum of a function because the derivative of the energy with respect to the position of the atoms, $\\frac{\\partial E}{\\partial \\mathbf{r}}$, is zero and the second derivative, $\\frac{\\partial^2E}{\\partial^2r_i}$, is positive. This should sound familiar too you. When we are dealing with multiple dimensions people it is more convenient to talk about the gradient of a function $\\nabla  E(r) = (\\frac{\\partial E}{\\partial r_1}, \\frac{\\partial E}{\\partial r_2},...\\frac{\\partial E}{\\partial r_n})$ insteade of the first derivative and about the [Hessian matrix](https://en.wikipedia.org/wiki/Hessian_matrix) \n",
      "\n",
      "$$\n",
      "    \\mathbf{H} E(r) = \\begin{bmatrix} \\dfrac{\\partial^2 E}{\\partial r_1^2} & \\dfrac{\\partial^2 E}{\\partial r_1\\,\\partial r_2} & \\cdots & \\dfrac{\\partial^2 E}{\\partial r_1\\,\\partial r_n} \\\\[2.2ex] \\dfrac{\\partial^2 E}{\\partial r_2\\,\\partial r_1} & \\dfrac{\\partial^2 E}{\\partial r_2^2} & \\cdots & \\dfrac{\\partial^2 E}{\\partial r_2\\,\\partial r_n} \\\\[2.2ex] \\vdots & \\vdots & \\ddots & \\vdots \\\\[2.2ex] \\dfrac{\\partial^2 E}{\\partial r_n\\,\\partial r_1} & \\dfrac{\\partial^2 E}{\\partial x_n\\,\\partial r_2} & \\cdots & \\dfrac{\\partial^2 E}{\\partial r_n^2} \\end{bmatrix}.\n",
      "$$    \n",
      "\n",
      "which describes the curvature of the PES at $\\mathbf{r}$, has all positive eigenvalues we are at a minimum.\n",
      "\n",
      "The computational model that provides a value for $E(\\mathbf{r})$ could be based on quantum mechanics, classical force fields or statistical potentials. Using any of these computational models and an initial guess of the correct geometry, an iterative optimization procedure is followed, for example:\n",
      "\n",
      "1. calculate the force on each atom (that is, $\\frac{\\partial E}{\\partial r}$)\n",
      "2. if the force is less than some threshold, finish\n",
      "3. otherwise, move the atoms by some computed step $\\Delta r$ that is predicted to reduce the force\n",
      "4. repeat from the start\n",
      "\n",
      "All methods described in this section are dedicated to find the local minimum and can't guaranteed to find the global minimum. Latter we will study strategies to find the global minimum.\n",
      "\n",
      "Now we will explore some basic optimization methods, that will serve to understand the general ideas behind the subject of _Optimization_. You should keep in mind that this is a topic that could quickly become very complex such as with algorithms for constrained optimization (when you keep some of the variable at a fixed value, like constant bond length and bond angle). Anyway, chance are high that you will never need to implement you own minimization algorithm, and in general you shouldn't! Several trusted implementations already exists (like [the routines](http://docs.scipy.org/doc/scipy/reference/optimize.html) that come with scipy). \n",
      "\n",
      "A special case of energy minimization, that we will not discuss here, is the search for the geometry of transition states. For this particular case the goal is to find a saddle point on the PES and not a local (or global) minimum. \n",
      "\n",
      "In the next section we will explore 3 different numerical methods to minimize functions. Just to keep things simple, we will minimize the energy of a single bond. If you have more than one variable you should apply the same procedure for each dimension."
     ]
    },
    {
     "cell_type": "code",
     "collapsed": false,
     "input": [
      "def nrg(r_ij):\n",
      "    k_bond = 485\n",
      "    r0 = 1.39\n",
      "    return 0.5 * k_bond * (r_ij - r0)**2"
     ],
     "language": "python",
     "metadata": {},
     "outputs": [],
     "prompt_number": 29
    },
    {
     "cell_type": "markdown",
     "metadata": {},
     "source": [
      "## Steepest Descent\n",
      "\n",
      "Steepest Descent (or gradient descent) is a greedy optimization routine frequently used on structural bioinformatics and at the hart of many machine learning algorithms. The premise is that at each point of our function the minus derivative (or minus gradient) tells us the direction we should move to find the local minimum. This algorithm works as follows:\n",
      "\n",
      "\n",
      "1. calculate the derivative (or gradient) at each point.\n",
      "2. move in the direction of the minus derivative\n",
      "4. repeat until convergence"
     ]
    },
    {
     "cell_type": "code",
     "collapsed": false,
     "input": [
      "def steepest_descent_numerical(nrg, r=1.55, learning_rate=.0001, steps=500, tol=1E-4):\n",
      "    force = derivative(nrg, r)\n",
      "    for i in range(steps):                         \n",
      "        r = r - learning_rate * force                             \n",
      "        force =  derivative(nrg, r)\n",
      "        if abs(force) < tol: \n",
      "            break\n",
      "    return i, r, nrg(r), force"
     ],
     "language": "python",
     "metadata": {},
     "outputs": [],
     "prompt_number": 30
    },
    {
     "cell_type": "markdown",
     "metadata": {},
     "source": [
      "Steepest Descent, if done right it will always moves toward the local minimum. It has, however, two main problems: \n",
      "\n",
      "* When optimizing a function with more that one variable/dimension every step is necessarily orthogonal to the one before it. The steepest descent algorithm therefore has a tendency to partly undone the energy minimization obtained from the previous step.\n",
      "\n",
      "* As the steepest descent approach to the minimum the rate of convergence slows down. Strictly, it will never reach the minimum. Although, in practical terms the minimum is reached.\n",
      "\n",
      "<img src=\"img/Steepest_descent.png\" width=400 />\n",
      "\n",
      "In the context of structural bioinformatics and chemoinformatics, steepest descent it is used to quickly relax a _bad_ conformation, followed by a minimization using a different algorithm. Alternatively, steepest descent is used when more sophisticated algorithms fails or are impractical to apply.\n",
      "\n",
      "Before discussing other minimization methods. We will compare the time consumed by a steepest descent that relies on numerical derivatives vs one that relies on analytical ones."
     ]
    },
    {
     "cell_type": "code",
     "collapsed": false,
     "input": [
      "def steepest_descent_analytical(nrg, r=1.55, learning_rate=.0001, steps=500, tol=1E-4):\n",
      "    force = 485 * (r - 1.39)\n",
      "    for i in range(steps):                         \n",
      "        r = r - learning_rate * force                             \n",
      "        force =  485 * (r - 1.39)\n",
      "        if abs(force) < tol: \n",
      "            break\n",
      "    return i, r, nrg(r), force"
     ],
     "language": "python",
     "metadata": {},
     "outputs": [],
     "prompt_number": 31
    },
    {
     "cell_type": "code",
     "collapsed": false,
     "input": [
      "print steepest_descent_numerical(nrg, r=1.55)\n",
      "print steepest_descent_analytical(nrg, r=1.55)"
     ],
     "language": "python",
     "metadata": {},
     "outputs": [
      {
       "output_type": "stream",
       "stream": "stdout",
       "text": [
        "(272, 1.3900002040423745, 1.0096072973604604e-11, 9.8960551696336552e-05)\n",
        "(272, 1.3900002040423745, 1.0096072973604604e-11, 9.896055165770079e-05)\n"
       ]
      }
     ],
     "prompt_number": 32
    },
    {
     "cell_type": "code",
     "collapsed": false,
     "input": [
      "%timeit steepest_descent_numerical(nrg, r=1.55)\n",
      "%timeit steepest_descent_analytical(nrg, r=1.55)"
     ],
     "language": "python",
     "metadata": {},
     "outputs": [
      {
       "output_type": "stream",
       "stream": "stdout",
       "text": [
        "100 loops, best of 3: 10.8 ms per loop\n",
        "10000 loops, best of 3: 123 \u00b5s per loop"
       ]
      },
      {
       "output_type": "stream",
       "stream": "stdout",
       "text": [
        "\n"
       ]
      }
     ],
     "prompt_number": 33
    },
    {
     "cell_type": "markdown",
     "metadata": {},
     "source": [
      "As you can see computing the derivative numerically can be time-consuming, hence it is always a good idea to compute derivatives analytically. And in fact thats the way force-field are minimized.\n",
      "\n",
      "Lets see now how to use steepest descent minimizer to fix a line too a set of data. Supose that we have a data vector $\\mathbf{x}$ and we want to use it to predict $\\mathbf{y}$ and we are going to use a simple linear model, hence:\n",
      "\n",
      "$$\n",
      "y = \\alpha + \\beta x\n",
      "$$\n",
      "\n",
      "Where:  \n",
      "$\\alpha$ is the y-intercept  \n",
      "$\\beta$ is the slope  \n",
      "\n",
      "One way to find the best line that fit this data is to define an error function and minimize that function. Other options, that we will not see here, will be to solve the problem analytically and another is to treat the problem as a Bayesian inference problem.\n",
      "\n",
      "An error function that makes sense is:  \n",
      "\n",
      "$$Error = \\frac{1}{2N} \\sum_{i=1}^{N} (y_{i} - \\alpha + \\beta x_{i})^2$$\n",
      "\n",
      "Since we have 2 parameters to minimize we need to compute two derivatives:\n",
      "\n",
      "$$\\frac{\\partial}{\\partial \\alpha} = - \\frac{1}{N} \\sum_{i=1}^{N} (y_{i} - \\alpha + \\beta x_{i})$$\n",
      "\n",
      "$$\\frac{\\partial}{\\partial \\beta} = - \\frac{1}{N} \\sum_{i=1}^{N} x_{i} (y_{i} - \\alpha + \\beta x_{i})$$\n",
      "\n"
     ]
    },
    {
     "cell_type": "markdown",
     "metadata": {},
     "source": [
      "Now we will create some synthetic data, that follows a linear relationship."
     ]
    },
    {
     "cell_type": "code",
     "collapsed": false,
     "input": [
      "#np.random.seed(1234)\n",
      "n_points = 50\n",
      "true_alpha = 5\n",
      "true_beta = 2\n",
      "\n",
      "x = np.linspace(0, 1, n_points)\n",
      "# obtain y by fitting y = a + b*x\n",
      "y = true_alpha + true_beta * x + np.random.normal(scale=.3, size=n_points)\n",
      "\n",
      "plt.scatter(x, y);"
     ],
     "language": "python",
     "metadata": {},
     "outputs": [
      {
       "metadata": {},
       "output_type": "display_data",
       "png": "[encoded data removed]",
       "text": [
        "<matplotlib.figure.Figure at 0x7f966c8f9a50>"
       ]
      }
     ],
     "prompt_number": 34
    },
    {
     "cell_type": "markdown",
     "metadata": {},
     "source": [
      "Now we will write a steepest descent for our problem."
     ]
    },
    {
     "cell_type": "code",
     "collapsed": false,
     "input": [
      "def sd_fit_line(x, y, alpha=0, beta=1, learning_rate=1, steps=500, tol=1E-4):\n",
      "    alpha_gradient = -np.average(y - (alpha + beta * x))\n",
      "    beta_gradient = -np.average(x* (y - (alpha + beta * x)))\n",
      "    for i in range(steps):\n",
      "        alpha = alpha - learning_rate * alpha_gradient\n",
      "        beta = beta - learning_rate * beta_gradient\n",
      "        alpha_gradient = -np.average(y - (alpha + beta * x))\n",
      "        beta_gradient = -np.average(x* (y - (alpha + beta * x)))\n",
      "        if abs(alpha_gradient) < tol and abs(beta_gradient) < tol: \n",
      "            break\n",
      "    return alpha, beta, i"
     ],
     "language": "python",
     "metadata": {},
     "outputs": [],
     "prompt_number": 35
    },
    {
     "cell_type": "code",
     "collapsed": false,
     "input": [
      "alpha, beta , total_steps = sd_fit_line(x, y, alpha=0, beta=1)\n",
      "print alpha, beta, total_steps"
     ],
     "language": "python",
     "metadata": {},
     "outputs": [
      {
       "output_type": "stream",
       "stream": "stdout",
       "text": [
        "5.14119745717 1.85645557606 97\n"
       ]
      }
     ],
     "prompt_number": 97
    },
    {
     "cell_type": "markdown",
     "metadata": {},
     "source": [
      "Now we will visually check the results. Feel free to compare how well the $\\alpha$ and $\\beta$ values compare against values obtained by other methods/implementations such as [numpy polyfit](http://docs.scipy.org/doc/numpy/reference/generated/numpy.polyfit.html) or [statsmodels](http://statsmodels.sourceforge.net/devel/examples/notebooks/generated/ols.html)"
     ]
    },
    {
     "cell_type": "code",
     "collapsed": false,
     "input": [
      "fitted_line = alpha + beta * x\n",
      "plt.scatter(x, y)\n",
      "plt.plot(x, fitted_line, 'r');"
     ],
     "language": "python",
     "metadata": {},
     "outputs": [
      {
       "metadata": {},
       "output_type": "display_data",
       "png": "[encoded data removed]",
       "text": [
        "<matplotlib.figure.Figure at 0x7f966c8c13d0>"
       ]
      }
     ],
     "prompt_number": 37
    },
    {
     "cell_type": "markdown",
     "metadata": {},
     "source": [
      "Analitically this problem can be solved using the _normal equation_:\n",
      "\n",
      "$$\n",
      "\\theta = (X X^T)^{-1} y X^T\n",
      "$$\n",
      "\n",
      "in that case we have:"
     ]
    },
    {
     "cell_type": "code",
     "collapsed": false,
     "input": [
      "k = np.array([1]*len(x)) \n",
      "X = np.vstack((k,x))\n",
      "print np.dot(np.linalg.inv(np.dot(X, X.T)), np.dot(y, X.T))"
     ],
     "language": "python",
     "metadata": {},
     "outputs": [
      {
       "output_type": "stream",
       "stream": "stdout",
       "text": [
        "[ 5.142  1.855]\n"
       ]
      }
     ],
     "prompt_number": 161
    },
    {
     "cell_type": "markdown",
     "metadata": {},
     "source": [
      "For low-dimensional problems linear regression it is generally done using the normal equation. This analytical solution involves inverting a matrix, an operation that is expensive,  when the number of dimensions/variables is greater than ~1000 (something common in some machine learning applications) using steepest descent could become a preferred choice.\n",
      "\n",
      "As mention before another option is to perform a linear regression as a Bayesian inference problem, that in general involves sampling the posterior distribution (in htis case the distribution of $\\alpha$ and $\\beta$ values) by using a Markov Chain Monte Carlo method."
     ]
    },
    {
     "cell_type": "markdown",
     "metadata": {},
     "source": [
      "## Conjugate Gradient\n",
      "\n",
      "[Conjugate gradient](http://en.wikipedia.org/wiki/Conjugate_gradient_method) (CG) is a method that tries to avoid the oscillatory behaviour of the steepest descent algorithm. The first step of both methods are the same, but from step two onward CG will move in a direction that is a mix of the previous gradient and the one indicated by the current gradient. Several _recipes_ for mixing both directions have been proposed."
     ]
    },
    {
     "cell_type": "markdown",
     "metadata": {},
     "source": [
      "## Newton-Raphson\n",
      "\n",
      "The [Newton-Raphson](http://en.wikipedia.org/wiki/Newton%27s_method_in_optimization) algorithm use the first derivative (or gradient) and the second derivative matrix (know as Hessian matrix). The idea is similar to steepest descent but instead of updating the new position using only the first derivative we use:\n",
      "\n",
      "$$r_{i+1} = r - f'/f''$$\n",
      "\n",
      "\n",
      "In our example of the bond, the energy is given by $0.5 k_{bond} (r_{i} - r_{eq})^2$, hence:\n",
      "\n",
      "$$r_{i+1} = r_{i} - \\frac{k_{bond} (r_{i} - r_{eq})}{k_{bond}}$$\n",
      "\n",
      "$$r_{i+1} = r_{i} - r_{i} - r_{eq}$$\n",
      "\n",
      "$$r_{i+1} = r_{eq}$$\n",
      "\n",
      "For quadratic functions, the Newton-Raphson (_theoretically_) locates the local minimum in just one step!\n",
      "\n",
      "For some problems it could not be possible to provide the Hessian matrix analytically so we have to found it numerically. This could be really time-consuming for some types of functions. Additionally, for problems with a large  number of variables storing and manipulating the Hessian could be too expensive (in terms or memory and/or CPU) and hence other methods should be used. One common heuristics applied is to compute an approximated Hessian."
     ]
    },
    {
     "cell_type": "markdown",
     "metadata": {},
     "source": [
      "## Minimize our own FF (_sort of_)\n",
      "\n",
      "Now we are going to minimize the energy of the blocked alanine. And we are going to use our own FF to do it. We are going to use the conjugate gradient minimizer as implemented in the _minimize_ function provided by SciPy. All The gradient vector will be computed analytically, something impractical for real purpose applications.\n",
      "\n",
      "The first thing we need to do is to create a function that we will pass to the _minimize_ function. In out case that function is simple the sum of the four terms derived previously. The argument of this function will be the flatten coordinate array."
     ]
    },
    {
     "cell_type": "code",
     "collapsed": false,
     "input": [
      "def function(flat_xyz):\n",
      "    xyz = flat_xyz.reshape(-1,3)\n",
      "    e = nrg_bonds(bonds, xyz) + nrg_angles(angles, xyz) + nrg_torsionals(torsionals, xyz) \\\n",
      "    + nrg_vdw(neighbors, xyz)\n",
      "    return e"
     ],
     "language": "python",
     "metadata": {},
     "outputs": [],
     "prompt_number": 38
    },
    {
     "cell_type": "code",
     "collapsed": false,
     "input": [
      "flat_xyz = xyz.flatten()\n",
      "result = minimize(function, xyz, method='CG')\n",
      "stored.updated = list(result['x'].reshape(-1,3))\n",
      "cmd.alter_state(1, 'all',\"(x,y,z)=stored.updated.pop(0)\")\n",
      "cmd.sort()\n",
      "print result['fun']"
     ],
     "language": "python",
     "metadata": {},
     "outputs": [
      {
       "output_type": "stream",
       "stream": "stdout",
       "text": [
        "110.248433185\n"
       ]
      }
     ],
     "prompt_number": 39
    },
    {
     "cell_type": "code",
     "collapsed": false,
     "input": [
      "model = cmd.get_model('all')\n",
      "xyz = np.array(model.get_coord_list())\n",
      "print nrg_bonds(bonds, xyz) + nrg_angles(angles, xyz) + nrg_torsionals(torsionals, xyz) \\\n",
      "+ nrg_vdw(neighbors, xyz)"
     ],
     "language": "python",
     "metadata": {},
     "outputs": [
      {
       "output_type": "stream",
       "stream": "stdout",
       "text": [
        "105.572161061\n"
       ]
      }
     ],
     "prompt_number": 40
    },
    {
     "cell_type": "code",
     "collapsed": false,
     "input": [
      "# code to randomize the cartesian coordinates\n",
      "# xyz = xyz + np.random.uniform(0, 0.2, size=xyz.shape)\n",
      "# stored.updated = list(xyz)\n",
      "# cmd.alter_state(1, 'all',\"(x,y,z)=stored.updated.pop(0)\")\n",
      "# cmd.sort()\n",
      "# print nrg_bonds(bonds, xyz) + nrg_angles(angles, xyz) + nrg_torsionals(torsionals, xyz) \\"
     ],
     "language": "python",
     "metadata": {},
     "outputs": [],
     "prompt_number": 41
    },
    {
     "cell_type": "markdown",
     "metadata": {},
     "source": [
      "to be continued..."
     ]
    }
   ],
   "metadata": {}
  }
 ]
}