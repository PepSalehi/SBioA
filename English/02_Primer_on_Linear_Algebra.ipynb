{
 "metadata": {
  "name": "",
  "signature": "sha256:a91ac2ea5bbedf35b5c507821ef4afdbca11038c8ad78ef28f10935bc1c96b28"
 },
 "nbformat": 3,
 "nbformat_minor": 0,
 "worksheets": [
  {
   "cells": [
    {
     "cell_type": "markdown",
     "metadata": {},
     "source": [
      "# Primer on Linear Algebra"
     ]
    },
    {
     "cell_type": "code",
     "collapsed": false,
     "input": [
      "# The line below enables plots inside the notebook\n",
      "%matplotlib inline\n",
      "from __future__ import division  # division always returns a float!\n",
      "import numpy as np\n",
      "import matplotlib.pyplot as plt  # standard way to import matplotlib\n",
      "import seaborn as sns    # standard way to import seaborn"
     ],
     "language": "python",
     "metadata": {},
     "outputs": [],
     "prompt_number": 1
    },
    {
     "cell_type": "markdown",
     "metadata": {},
     "source": [
      "[Linear algebra](https://en.wikipedia.org/wiki/Linear_algebra) is the branch of mathematics concerning vector spaces and linear mappings between such spaces. Linear algebra is also about solving systems of linear equations including numerical methods to solve those systems.\n",
      "\n",
      "A matrix is a rectangular array of numbers. The dimension of a matrix is determined by the number of rows and columns. A matrix of $m$ rows and $n$ columns is said to have dimensions $m \u00d7 n$. Each entity inside a matrix is call an _element_ of that matrix. Elements are referenced using two subscripts, hence the element $a_{ij}$ lies in the $i^{th}$ row and $j^{th}$ column.\n",
      "\n",
      "An array of numbers arranged in a single column is called a column vector, or simply a vector. If the numbers are set out in a row, the term row vector is used. Thus, a column vector is a matrix of dimensions $n \\times 1$, and a row vector can be viewed as a matrix of dimensions $1 \\times n$. As you can see vectors are just a special case of matrices.\n",
      "\n",
      "A particular important matrix is the square matrix, which has the same number of rows and columns. In such a matrix, the elements $a_{ij}$ for $i=j$ ($a_{00}$, $a_{01}$, $a_{02}$...  $a_{nn}$) are called the diagonal elements of the matrix. The rest of the elements, _i.e_ those for which $i \\neq j$ are called the off-diagonal elements. Most people start counting elements from 1. Instead, and to keep it Pythonic, we will start counting from 0.\n",
      "\n",
      "A common notation is to use boldface uppercase letters for matrices and boldface lowercase letters for vectors.\n",
      "\n",
      "$$\n",
      "\\mathbf{A}  = \\begin{bmatrix} a_{00} & a_{01} & a_{02} \\\\ a_{10} & a_{11} & a_{12} \\\\ a_{20} & a_{21} & a_{22} \\end{bmatrix}   \\mathbf{b} = \\begin{bmatrix} a_{0} \\\\ a_{1} \\\\ a_{2} \\end{bmatrix} \n",
      "$$\n",
      "\n",
      "In NumPy we can use the _array_ object to work with mathematical matrices. Altough as we will explore soon a NumPy array does not behaves _exactly_ as a mathematical matrix. "
     ]
    },
    {
     "cell_type": "code",
     "collapsed": false,
     "input": [
      "A = np.arange(9).reshape(3,3)\n",
      "b = np.array([[0, 1, 2]])\n",
      "c = np.array([0, -1, 2])\n",
      "\n",
      "print A\n",
      "print b\n",
      "print c"
     ],
     "language": "python",
     "metadata": {},
     "outputs": [
      {
       "output_type": "stream",
       "stream": "stdout",
       "text": [
        "[[0 1 2]\n",
        " [3 4 5]\n",
        " [6 7 8]]\n",
        "[[0 1 2]]\n",
        "[ 0 -1  2]\n"
       ]
      }
     ],
     "prompt_number": 2
    },
    {
     "cell_type": "markdown",
     "metadata": {},
     "source": [
      "NumPy array have dimensions defined in the same way as a matrix."
     ]
    },
    {
     "cell_type": "code",
     "collapsed": false,
     "input": [
      "A.shape, b.shape, c.shape"
     ],
     "language": "python",
     "metadata": {},
     "outputs": [
      {
       "metadata": {},
       "output_type": "pyout",
       "prompt_number": 3,
       "text": [
        "((3, 3), (1, 3), (3,))"
       ]
      }
     ],
     "prompt_number": 3
    },
    {
     "cell_type": "markdown",
     "metadata": {},
     "source": [
      "## Trace\n",
      "\n",
      "The trace of square matrix is the sum of the elements on the principal diagonal.\n",
      "\n",
      "$$\n",
      "\\mathbf{A}=\\begin{bmatrix} A_{00} & A_{01} & \\cdots & A_{0n} \\\\ A_{10} & A_{11} & \\cdots & A_{1n} \\\\ \\vdots & \\vdots & \\ddots & \\vdots \\\\ A_{n0} & A_{n1} & \\cdots & A_{nn} \\\\ \\end{bmatrix}\n",
      "$$\n",
      "\n",
      "$$\n",
      "Tr(\\mathbf{A}) = A_{00} + A_{11} + \\dots + A_{nn}=\\sum_{i=0}^{n} A_{ii}\n",
      "$$\n",
      "\n",
      "For our purposes the trace has no special meaning. It is introduced here, solely, because it is a useful concept to simplify other matrix calculations."
     ]
    },
    {
     "cell_type": "code",
     "collapsed": false,
     "input": [
      "print A\n",
      "np.trace(A)"
     ],
     "language": "python",
     "metadata": {},
     "outputs": [
      {
       "output_type": "stream",
       "stream": "stdout",
       "text": [
        "[[0 1 2]\n",
        " [3 4 5]\n",
        " [6 7 8]]\n"
       ]
      },
      {
       "metadata": {},
       "output_type": "pyout",
       "prompt_number": 4,
       "text": [
        "12"
       ]
      }
     ],
     "prompt_number": 4
    },
    {
     "cell_type": "markdown",
     "metadata": {},
     "source": [
      "## Determinants\n",
      "\n",
      "Determinants is another scalar that can be obtained from a square matrix. \n",
      "\n",
      "The determinant of a matrix is zero if the rows of that matrix are linearly dependent. Linearly dependent, means that it is possible to write any row as a linear function of the other rows. For example:\n",
      "\n",
      "$$\\det(\\mathbf{A}) = \\begin{pmatrix} 1 & 2 \\\\ 3 & 6 \\end{pmatrix} = 0$$\n",
      "\n",
      "Because, the second row is the first one multiplied by 3 (or the first row is the second one multiplied by $\\frac{1}{3}$)."
     ]
    },
    {
     "cell_type": "code",
     "collapsed": false,
     "input": [
      "B = np.array([[1,2], [3, 6]])\n",
      "np.linalg.det(B)"
     ],
     "language": "python",
     "metadata": {},
     "outputs": [
      {
       "metadata": {},
       "output_type": "pyout",
       "prompt_number": 5,
       "text": [
        "0.0"
       ]
      }
     ],
     "prompt_number": 5
    },
    {
     "cell_type": "markdown",
     "metadata": {},
     "source": [
      "The determinant can be used, for example, to find out if if a system on linear equations has a unique solution (non-zero determinant), otherwise the are no solution or more than one solution (zero determinant). \n",
      "\n",
      "Historically, determinants predates linear algebra by more than a century. And for a long time the study of linear algebra had a strong focus on dealing with determinants (and computing them by hand!). Now, with the extensive use of numerical methods to solve problems in linear algebra determinants has become somehow less important than before. Still determinants are very important from a theoretical point of view."
     ]
    },
    {
     "cell_type": "markdown",
     "metadata": {},
     "source": [
      "## Inverse\n",
      "\n",
      "The inverse of a matrix **$A$** (noted as **$A^{-1}$**) is the matrix that when multiplied by **$A$** gives the indentity matrix\n",
      "\n",
      "$$A \\cdot A^{-1} = I$$\n",
      "\n",
      "where:  \n",
      "\n",
      "$I = \\begin{bmatrix} 1 & 0 & \\cdots & 0 \\\\ 0 & 1 & \\cdots & 0 \\\\ \\vdots & \\vdots & \\ddots & \\vdots \\\\ 0 & 0 & \\cdots & 1 \\end{bmatrix}$\n",
      "\n",
      "Only square matrices with non-zero determinant are invertible. A not invertible matrix is called _singular_. Singular matrices does not occur very often, a square matrix constructed by taking its elements from a continuous uniform distribution will rarely be singular.\n",
      "\n",
      "In geometrical terms the inverse matrix **$A^{-1}$** reverses the stretching and rotating accomplished by the matrix, **$A$**."
     ]
    },
    {
     "cell_type": "code",
     "collapsed": false,
     "input": [
      "C = np.random.rand(3,3)\n",
      "C_inv = np.linalg.inv(C)\n",
      "print C_inv"
     ],
     "language": "python",
     "metadata": {},
     "outputs": [
      {
       "output_type": "stream",
       "stream": "stdout",
       "text": [
        "[[ 1.30836823 -0.13617794 -0.9344409 ]\n",
        " [-0.06286031 -5.21526423  5.96250459]\n",
        " [-0.09730141  2.29096669 -0.92775095]]\n"
       ]
      }
     ],
     "prompt_number": 6
    },
    {
     "cell_type": "markdown",
     "metadata": {},
     "source": [
      "Now we can check that the above computation was correct by multiplying the matrix and its inverse (we will se more on matrix multiplication soon). Notice that the off-diagonal elements are zero (at least for all practical purposes)."
     ]
    },
    {
     "cell_type": "code",
     "collapsed": false,
     "input": [
      "np.dot(C, C_inv)"
     ],
     "language": "python",
     "metadata": {},
     "outputs": [
      {
       "metadata": {},
       "output_type": "pyout",
       "prompt_number": 7,
       "text": [
        "array([[  1.00000000e+00,   0.00000000e+00,   5.55111512e-17],\n",
        "       [  0.00000000e+00,   1.00000000e+00,   0.00000000e+00],\n",
        "       [ -6.93889390e-18,   2.22044605e-16,   1.00000000e+00]])"
       ]
      }
     ],
     "prompt_number": 7
    },
    {
     "cell_type": "markdown",
     "metadata": {},
     "source": [
      "## Matrix equality\n",
      "\n",
      "Two matrices are equal if they have the same dimensions and their corresponding elements are equal. Two check if two NumPy arrays are equal you have to use the _array_equal_ function."
     ]
    },
    {
     "cell_type": "code",
     "collapsed": false,
     "input": [
      "np.array_equal(A, C)"
     ],
     "language": "python",
     "metadata": {},
     "outputs": [
      {
       "metadata": {},
       "output_type": "pyout",
       "prompt_number": 8,
       "text": [
        "False"
       ]
      }
     ],
     "prompt_number": 8
    },
    {
     "cell_type": "markdown",
     "metadata": {},
     "source": [
      "For two arrays the == operator returns and array of booleans, if both arrays have the same dimensions as in"
     ]
    },
    {
     "cell_type": "code",
     "collapsed": false,
     "input": [
      "A == C"
     ],
     "language": "python",
     "metadata": {},
     "outputs": [
      {
       "metadata": {},
       "output_type": "pyout",
       "prompt_number": 9,
       "text": [
        "array([[False, False, False],\n",
        "       [False, False, False],\n",
        "       [False, False, False]], dtype=bool)"
       ]
      }
     ],
     "prompt_number": 9
    },
    {
     "cell_type": "markdown",
     "metadata": {},
     "source": [
      "Otherwise the result is just a simple boolean, _True_ or _False_. "
     ]
    },
    {
     "cell_type": "code",
     "collapsed": false,
     "input": [
      "A == [1,2]"
     ],
     "language": "python",
     "metadata": {},
     "outputs": [
      {
       "metadata": {},
       "output_type": "pyout",
       "prompt_number": 10,
       "text": [
        "False"
       ]
      }
     ],
     "prompt_number": 10
    },
    {
     "cell_type": "markdown",
     "metadata": {},
     "source": [
      "But you can also get and array of boolean even if the dimensions do not agree"
     ]
    },
    {
     "cell_type": "code",
     "collapsed": false,
     "input": [
      "A == 1"
     ],
     "language": "python",
     "metadata": {},
     "outputs": [
      {
       "metadata": {},
       "output_type": "pyout",
       "prompt_number": 11,
       "text": [
        "array([[False,  True, False],\n",
        "       [False, False, False],\n",
        "       [False, False, False]], dtype=bool)"
       ]
      }
     ],
     "prompt_number": 11
    },
    {
     "cell_type": "code",
     "collapsed": false,
     "input": [
      "A == [0,1,2]"
     ],
     "language": "python",
     "metadata": {},
     "outputs": [
      {
       "metadata": {},
       "output_type": "pyout",
       "prompt_number": 12,
       "text": [
        "array([[ True,  True,  True],\n",
        "       [False, False, False],\n",
        "       [False, False, False]], dtype=bool)"
       ]
      }
     ],
     "prompt_number": 12
    },
    {
     "cell_type": "markdown",
     "metadata": {},
     "source": [
      "This is possible because NumPy [broadcast](http://docs.scipy.org/doc/numpy/user/basics.broadcasting.html) (_stretch_) the smaller array across the larger array so that they have compatible shapes. Two dimensions are compatible when:\n",
      "\n",
      "1. They are equal, or\n",
      "2. One of them is 1\n",
      "\n",
      "Comparing floating point numbers for equality can be tricky. Computers have finite memory to represents numbers and when they are manipulated, truncation and round errors are introduced. In general, is a good idea to compare if two floats are _equal within certain tolerance_. If we need to compare arrays of floats we could use the function _allclose_ instead of the function _array_equal_"
     ]
    },
    {
     "cell_type": "markdown",
     "metadata": {},
     "source": [
      "## Matrix and vector adition\n",
      "\n",
      "The usual matrix addition is defined for two matrices of the same dimensions. The sum of two $m \u00d7 n$ matrices $\\mathbf{A}$ and $\\mathbf{A}$, denoted by $\\mathbf{A} + \\mathbf{A}$, is again an $m \u00d7 n$ matrix computed by adding corresponding elements:\n",
      "\n",
      "\n",
      "$$ \\mathbf{A}+\\mathbf{B}  = \\begin{bmatrix} a_{00} & a_{01} & \\cdots & a_{0n} \\\\ a_{10} & a_{11} & \\cdots & a_{1n} \\\\ \\vdots & \\vdots & \\ddots & \\vdots \\\\ a_{m0} & a_{m1} & \\cdots & a_{mn} \\\\ \\end{bmatrix} + \\begin{bmatrix} b_{00} & b_{01} & \\cdots & b_{0n} \\\\ b_{10} & b_{11} & \\cdots & b_{1n} \\\\ \\vdots & \\vdots & \\ddots & \\vdots \\\\ b_{m0} & b_{m1} & \\cdots & b_{mn} \\\\ \\end{bmatrix} $$\n",
      "\n",
      "$$\\mathbf{A}+\\mathbf{B}   = \\begin{bmatrix} a_{00} + b_{00} & a_{01} + b_{01} & \\cdots & a_{0n} + b_{0n} \\\\ a_{10} + b_{10} & a_{11} + b_{11} & \\cdots & a_{1n} + b_{1n} \\\\ \\vdots & \\vdots & \\ddots & \\vdots \\\\ a_{m0} + b_{m0} & a_{m1} + b_{m1} & \\cdots & a_{mn} + b_{mn} \\\\ \\end{bmatrix} $$\n",
      "\n",
      "\n",
      "for example:"
     ]
    },
    {
     "cell_type": "code",
     "collapsed": false,
     "input": [
      "A+A"
     ],
     "language": "python",
     "metadata": {},
     "outputs": [
      {
       "metadata": {},
       "output_type": "pyout",
       "prompt_number": 13,
       "text": [
        "array([[ 0,  2,  4],\n",
        "       [ 6,  8, 10],\n",
        "       [12, 14, 16]])"
       ]
      }
     ],
     "prompt_number": 13
    },
    {
     "cell_type": "code",
     "collapsed": false,
     "input": [
      "A-A"
     ],
     "language": "python",
     "metadata": {},
     "outputs": [
      {
       "metadata": {},
       "output_type": "pyout",
       "prompt_number": 14,
       "text": [
        "array([[0, 0, 0],\n",
        "       [0, 0, 0],\n",
        "       [0, 0, 0]])"
       ]
      }
     ],
     "prompt_number": 14
    },
    {
     "cell_type": "markdown",
     "metadata": {},
     "source": [
      "CAUTION: Matrix addition (and subtraction) is defined **only** for matrices with the **same** dimensionality. Nevertheless, within NumPy is possible to add arrays with different dimensionality. This is possible because of broadcasting as we see when we were comparing arrays for equality.\n",
      "\n",
      "For example in mathematical notation you can write $\\mathbf{A} + 2$, but this is a shorthand (or an abuse of notation) for writing:\n",
      "\n",
      "$$\\begin{bmatrix} a_{00} & a_{01} & \\cdots & a_{0n} \\\\ a_{10} & a_{11} & \\cdots & a_{1n} \\\\ \\vdots & \\vdots & \\ddots & \\vdots \\\\ a_{m0} & a_{m1} & \\cdots & a_{mn} \\\\ \\end{bmatrix} + \\begin{bmatrix} 2 & 0 & \\cdots & 0 \\\\ 0 & 2 & \\cdots & 0 \\\\ \\vdots & \\vdots & \\ddots & \\vdots \\\\ 0 & 0 & \\cdots & 2 \\\\ \\end{bmatrix} $$\n",
      "\n",
      "Instead NumPy Broadcast the scalar to match the shape of the array."
     ]
    },
    {
     "cell_type": "code",
     "collapsed": false,
     "input": [
      "A + 2"
     ],
     "language": "python",
     "metadata": {},
     "outputs": [
      {
       "metadata": {},
       "output_type": "pyout",
       "prompt_number": 15,
       "text": [
        "array([[ 2,  3,  4],\n",
        "       [ 5,  6,  7],\n",
        "       [ 8,  9, 10]])"
       ]
      }
     ],
     "prompt_number": 15
    },
    {
     "cell_type": "code",
     "collapsed": false,
     "input": [
      "A + b"
     ],
     "language": "python",
     "metadata": {},
     "outputs": [
      {
       "metadata": {},
       "output_type": "pyout",
       "prompt_number": 16,
       "text": [
        "array([[ 0,  2,  4],\n",
        "       [ 3,  5,  7],\n",
        "       [ 6,  8, 10]])"
       ]
      }
     ],
     "prompt_number": 16
    },
    {
     "cell_type": "markdown",
     "metadata": {},
     "source": [
      "### Vector addition and forces\n",
      "\n",
      "Vectors can be seen as arrow in an n-dimensional space starting at the origin. Thus, vectors can be used so represent forces. A classic example of the application of vector addition is computing the resultant force when more than one force is applied to an object."
     ]
    },
    {
     "cell_type": "code",
     "collapsed": false,
     "input": [
      "f1 = np.array([1, 5])\n",
      "f2 = np.array([6, 4])\n",
      "f3 = f1 + f2\n",
      "print 'f3 = %s' % f3\n",
      "\n",
      "for f, color in zip([f1, f2, f3], ['red', 'blue', 'violet']):\n",
      "    plt.arrow(0, 0, f[0], f[1], color=color, lw=2, \n",
      "              length_includes_head=True, head_width=.2)\n",
      "\n",
      "plt.xlim(0, 8)\n",
      "plt.ylim(0, 10);"
     ],
     "language": "python",
     "metadata": {},
     "outputs": [
      {
       "output_type": "stream",
       "stream": "stdout",
       "text": [
        "f3 = [7 9]\n"
       ]
      },
      {
       "metadata": {},
       "output_type": "display_data",
       "png": "[encoded data removed]",
       "text": [
        "<matplotlib.figure.Figure at 0x7fea0f452590>"
       ]
      }
     ],
     "prompt_number": 17
    },
    {
     "cell_type": "markdown",
     "metadata": {},
     "source": [
      "## Scalar Multiplication\n",
      "\n",
      "The scalar multiplication of a matrix is defined as:  \n",
      "\n",
      "$$\\mathbf{A}\\lambda = \\begin{bmatrix} A_{00} & A_{01} & \\cdots & A_{0m} \\\\ A_{10} & A_{11} & \\cdots & A_{1m} \\\\ \\vdots & \\vdots & \\ddots & \\vdots \\\\ A_{n0} & A_{n1} & \\cdots & A_{nm} \\\\ \\end{bmatrix}\\lambda = \\begin{bmatrix} A_{00} \\lambda & A_{01} \\lambda & \\cdots & A_{0m} \\lambda \\\\ A_{10} \\lambda & A_{11} \\lambda & \\cdots & A_{1m} \\lambda \\\\ \\vdots & \\vdots & \\ddots & \\vdots \\\\ A_{n0} \\lambda & A_{n1} \\lambda & \\cdots & A_{nm} \\lambda \\\\ \\end{bmatrix}$$\n",
      "    \n",
      "The geometrical interpretation of scalar multiplication corresponds to stretching or compressing a vector (changing its magnitude) without changing its direction. Hence, _scalars_ are what scales vectors."
     ]
    },
    {
     "cell_type": "code",
     "collapsed": false,
     "input": [
      "A*10"
     ],
     "language": "python",
     "metadata": {},
     "outputs": [
      {
       "metadata": {},
       "output_type": "pyout",
       "prompt_number": 18,
       "text": [
        "array([[ 0, 10, 20],\n",
        "       [30, 40, 50],\n",
        "       [60, 70, 80]])"
       ]
      }
     ],
     "prompt_number": 18
    },
    {
     "cell_type": "code",
     "collapsed": false,
     "input": [
      "b*0.5"
     ],
     "language": "python",
     "metadata": {},
     "outputs": [
      {
       "metadata": {},
       "output_type": "pyout",
       "prompt_number": 19,
       "text": [
        "array([[ 0. ,  0.5,  1. ]])"
       ]
      }
     ],
     "prompt_number": 19
    },
    {
     "cell_type": "code",
     "collapsed": false,
     "input": [
      "f4 = f1 * 2\n",
      "f5 = f2 * -0.5\n",
      "\n",
      "for f, color, ls in zip([f1, f2, f4, f5], ['red', 'blue']*2, \n",
      "                    ['solid', 'solid', 'dotted', 'dotted']):\n",
      "    plt.arrow(0, 0, f[0], f[1], color=color, lw=1, ls=ls, \n",
      "              length_includes_head=True, head_width=.2)\n",
      "\n",
      "plt.xlim(-5, 6)\n",
      "plt.ylim(-2, 10);"
     ],
     "language": "python",
     "metadata": {},
     "outputs": [
      {
       "metadata": {},
       "output_type": "display_data",
       "png": "[encoded data removed]",
       "text": [
        "<matplotlib.figure.Figure at 0x7fea40301150>"
       ]
      }
     ],
     "prompt_number": 20
    },
    {
     "cell_type": "markdown",
     "metadata": {},
     "source": [
      "## Matrix and vector multiplication\n",
      "\n",
      "### The dot product (or scalar product or inner product)\n",
      "\n",
      "This [product](http://en.wikipedia.org/wiki/Dot_product) can be defined in geometrical terms:\n",
      "\n",
      "$$\n",
      "\\mathbf{a} \\cdot \\mathbf{b} = \\left\\|a \\right\\| \\left\\|b \\right\\| cos \\theta\n",
      "$$\n",
      "\n",
      "where:  \n",
      "$\\|$ a $\\|$ and $\\|$ b $\\|$ are the magnitudes (or length or euclidean [norm](http://en.wikipedia.org/wiki/Norm_%28mathematics%29)) of the vectors $\\mathbf{a}$ and $\\mathbf{b}$  \n",
      "and $\\theta$ is the angle bewteen $\\mathbf{a}$ and $\\mathbf{b}$  \n",
      "\n",
      "In NumPy, the _*_ operator is used to perform a _term by term_ multiplication. If you need to do a dot product it is necessary to call the _dot_ function."
     ]
    },
    {
     "cell_type": "code",
     "collapsed": false,
     "input": [
      "print b, c\n",
      "print b*c\n",
      "print np.dot(b, c)  # this is NOT the same as the above operation!"
     ],
     "language": "python",
     "metadata": {},
     "outputs": [
      {
       "output_type": "stream",
       "stream": "stdout",
       "text": [
        "[[0 1 2]] [ 0 -1  2]\n",
        "[[ 0 -1  4]]\n",
        "[3]\n"
       ]
      }
     ],
     "prompt_number": 21
    },
    {
     "cell_type": "markdown",
     "metadata": {},
     "source": [
      "From the definition of the dot product is possible to compute the angle between two vectors. The ($180 \\over \\pi$) factor is there to convert from radians to degrees. Alternativelly you can use the NumPy function _degrees_."
     ]
    },
    {
     "cell_type": "code",
     "collapsed": false,
     "input": [
      "angle = np.arccos(np.dot(f1, f2) \n",
      "                  / (np.linalg.norm(f1)*np.linalg.norm(f2)))*180/np.pi\n",
      "\n",
      "for f, color in zip([f1, f2], ['red', 'blue']):\n",
      "    plt.arrow(0, 0, f[0], f[1], color=color, lw=2, \n",
      "              length_includes_head=True, head_width=.2)\n",
      "\n",
      "\n",
      "plt.xlim(0, 6)\n",
      "plt.ylim(0, 6)\n",
      "plt.plot(0, label=r'$\\theta = %.1f^\\circ$' % angle, alpha=0)\n",
      "plt.legend(loc=0, fontsize=20);"
     ],
     "language": "python",
     "metadata": {},
     "outputs": [
      {
       "metadata": {},
       "output_type": "display_data",
       "png": "[encoded data removed]",
       "text": [
        "<matplotlib.figure.Figure at 0x7fea0b9eaf90>"
       ]
      }
     ],
     "prompt_number": 22
    },
    {
     "cell_type": "markdown",
     "metadata": {},
     "source": [
      "The product of two matrices can be defined in very different ways (each definition providing a different result). The most common definition of a matrix multiplication is a generalization of the dot product. This definition is the most common because has many applications in mathematics, engineering and science. The dot product can also be defined using and algebraic definition, a definition that is more easy to understand (for matrices) than the geometrical one:\n",
      "\n",
      "$$\n",
      "\\mathbf{a}=\\begin{bmatrix} a_{0} & a_{1} & \\cdots & a_{m} \\\\ \\end{bmatrix},\\quad\\mathbf{b}=\\begin{bmatrix} b_{0} \\\\ b_{1} \\\\ \\vdots \\\\ b_{m} \\\\ \\end{bmatrix} \n",
      "$$\n",
      "\n",
      "$$\n",
      "\\mathbf{a} \\cdot \\mathbf{b} =\\begin{bmatrix}\n",
      "a_{0}b_{0} + a_{1}b_{1} + \\cdots a_{m}b_{m} \n",
      "\\\\ \\end{bmatrix}  \n",
      "$$\n",
      "\n",
      "In a shorter form\n",
      "$$\\mathbf{a} \\cdot \\mathbf{b} = \\sum_{i=0}^m a_{i}b_{i}$$\n",
      "\n",
      "And now for matrices  \n",
      "\n",
      "$$\\mathbf{A}=\\begin{bmatrix} A_{00} & A_{01} & \\cdots & A_{0m} \\\\ A_{10} & A_{11} & \\cdots & A_{1m} \\\\ \\vdots & \\vdots & \\ddots & \\vdots \\\\ A_{n0} & A_{n1} & \\cdots & A_{nm} \\\\ \\end{bmatrix},\\quad\\mathbf{B}=\\begin{bmatrix} B_{00} & B_{01} & \\cdots & B_{0p} \\\\ B_{10} & B_{11} & \\cdots & B_{1p} \\\\ \\vdots & \\vdots & \\ddots & \\vdots \\\\ B_{m0} & B_{m1} & \\cdots & B_{mp} \\\\ \\end{bmatrix}$$\n",
      "\n",
      "$$\\mathbf{A} \\cdot \\mathbf{B} =\n",
      "\\begin{bmatrix} \n",
      "\\sum_{i=0}^m A_{0i}B_{i0}  & \\sum_{i=0}^m A_{0i}B_{i1}  & \\cdots & \\sum_{i=0}^m A_{0i}B_{ip}  \\\\ \n",
      "\\sum_{i=0}^m A_{1i}B_{i0}  & \\sum_{i=0}^m A_{1i}B_{i1}  & \\cdots & \\sum_{i=0}^m A_{1i}B_{ip}  \\\\ \n",
      "\\vdots & \\vdots & \\ddots & \\vdots \\\\ \n",
      "\\sum_{i=0}^m A_{ni}B_{i0}  & \\sum_{i=0}^m A_{ni}B_{i1}  & \\cdots & \\sum_{i=0}^m A_{ni}B_{ip}  \\\\ \n",
      "\\end{bmatrix}$$"
     ]
    },
    {
     "cell_type": "code",
     "collapsed": false,
     "input": [
      "print A\n",
      "print A*A\n",
      "print np.dot(A, A)"
     ],
     "language": "python",
     "metadata": {},
     "outputs": [
      {
       "output_type": "stream",
       "stream": "stdout",
       "text": [
        "[[0 1 2]\n",
        " [3 4 5]\n",
        " [6 7 8]]\n",
        "[[ 0  1  4]\n",
        " [ 9 16 25]\n",
        " [36 49 64]]\n",
        "[[ 15  18  21]\n",
        " [ 42  54  66]\n",
        " [ 69  90 111]]\n"
       ]
      }
     ],
     "prompt_number": 23
    },
    {
     "cell_type": "markdown",
     "metadata": {},
     "source": [
      "Notice that the matrix product $\\mathbf{A} \\cdot \\mathbf{B}$ is defined only if the number of columns of $\\mathbf{A}$ is equal to the number of rows of $\\mathbf{B}$. If $\\mathbf{A}$ has dimensions $n \\times m$ and $\\mathbf{B}$ dimensions $m \\times p$ then, $\\mathbf{A} \\cdot \\mathbf{B}$ will have dimensions $n \\times p$."
     ]
    },
    {
     "cell_type": "markdown",
     "metadata": {},
     "source": [
      "The matrix product have some properties that could be counterintuitive given what you know from _high school_ algebra. For example \n",
      "\n",
      "* In genereral the matrix product is non-commutative, _i.e._$\\mathbf{A}\\mathbf{B} \\neq \\mathbf{B}\\mathbf{A}$. Only square matrices can be commutative.\n",
      "\n"
     ]
    },
    {
     "cell_type": "markdown",
     "metadata": {},
     "source": [
      "For example if we have the matrices $\\mathbf{b}$ and $\\mathbf{A}$ with shapes:"
     ]
    },
    {
     "cell_type": "code",
     "collapsed": false,
     "input": [
      "b.shape, A.shape"
     ],
     "language": "python",
     "metadata": {},
     "outputs": [
      {
       "metadata": {},
       "output_type": "pyout",
       "prompt_number": 24,
       "text": [
        "((1, 3), (3, 3))"
       ]
      }
     ],
     "prompt_number": 24
    },
    {
     "cell_type": "markdown",
     "metadata": {},
     "source": [
      "We can multiple them in the order $\\mathbf{bA}$, but not $\\mathbf{Ab}$"
     ]
    },
    {
     "cell_type": "code",
     "collapsed": false,
     "input": [
      "np.dot(b, A)  # This is a valid operation"
     ],
     "language": "python",
     "metadata": {},
     "outputs": [
      {
       "metadata": {},
       "output_type": "pyout",
       "prompt_number": 25,
       "text": [
        "array([[15, 18, 21]])"
       ]
      }
     ],
     "prompt_number": 25
    },
    {
     "cell_type": "code",
     "collapsed": false,
     "input": [
      "np.dot(A, b)  # This is not a valid operation"
     ],
     "language": "python",
     "metadata": {},
     "outputs": [
      {
       "ename": "ValueError",
       "evalue": "objects are not aligned",
       "output_type": "pyerr",
       "traceback": [
        "\u001b[0;31m---------------------------------------------------------------------------\u001b[0m\n\u001b[0;31mValueError\u001b[0m                                Traceback (most recent call last)",
        "\u001b[0;32m<ipython-input-26-5e57adadb135>\u001b[0m in \u001b[0;36m<module>\u001b[0;34m()\u001b[0m\n\u001b[0;32m----> 1\u001b[0;31m \u001b[0mnp\u001b[0m\u001b[0;34m.\u001b[0m\u001b[0mdot\u001b[0m\u001b[0;34m(\u001b[0m\u001b[0mA\u001b[0m\u001b[0;34m,\u001b[0m \u001b[0mb\u001b[0m\u001b[0;34m)\u001b[0m  \u001b[0;31m# This is not a valid operation\u001b[0m\u001b[0;34m\u001b[0m\u001b[0m\n\u001b[0m",
        "\u001b[0;31mValueError\u001b[0m: objects are not aligned"
       ]
      }
     ],
     "prompt_number": 26
    },
    {
     "cell_type": "markdown",
     "metadata": {},
     "source": [
      "Sience $\\mathbf{A}$ is a square matrix we can multiply it by its transpose (since the dimensions agree)"
     ]
    },
    {
     "cell_type": "code",
     "collapsed": false,
     "input": [
      "np.dot(A, A.T)"
     ],
     "language": "python",
     "metadata": {},
     "outputs": []
    },
    {
     "cell_type": "markdown",
     "metadata": {},
     "source": [
      "But even when dimensions agree this does not mean that matrix multiplication is _necessary_ commutative."
     ]
    },
    {
     "cell_type": "code",
     "collapsed": false,
     "input": [
      "np.dot(A.T, A)"
     ],
     "language": "python",
     "metadata": {},
     "outputs": []
    },
    {
     "cell_type": "markdown",
     "metadata": {},
     "source": [
      "* $\\mathbf{A}\\mathbf{V} = \\mathbf{S}\\mathbf{V}$, does not necessarily imply that $\\mathbf{A} = \\mathbf{S}$"
     ]
    },
    {
     "cell_type": "code",
     "collapsed": false,
     "input": [
      "v = np.array([ 0.16476382,  0.50577448,  0.84678513])\n",
      "s = 13.34846922834954\n",
      "\n",
      "print A\n",
      "print np.dot(A, v)\n",
      "print np.dot(s, v)\n",
      "\n",
      "np.allclose(np.dot(A, v), np.dot(s, v))"
     ],
     "language": "python",
     "metadata": {},
     "outputs": [
      {
       "output_type": "stream",
       "stream": "stdout",
       "text": [
        "[[0 1 2]\n",
        " [3 4 5]\n",
        " [6 7 8]]\n",
        "[  2.19934474   6.75131503  11.30328532]\n",
        "[  2.19934478   6.75131508  11.30328525]\n"
       ]
      },
      {
       "metadata": {},
       "output_type": "pyout",
       "prompt_number": 27,
       "text": [
        "True"
       ]
      }
     ],
     "prompt_number": 27
    },
    {
     "cell_type": "markdown",
     "metadata": {},
     "source": [
      "If $\\mathbf{Y}\\mathbf{Z}$ equals the zero matrix, then it is not necessarily true that $\\mathbf{Y} = 0 $ or $\\mathbf{Z} = 0$"
     ]
    },
    {
     "cell_type": "code",
     "collapsed": false,
     "input": [
      "Y = np.array([[2, 3, -2],[0, 0, 0],[0, 0,0]])\n",
      "Z = np.array([[0, 0,  0],[0, 0, 2],[0, 0,3]])"
     ],
     "language": "python",
     "metadata": {},
     "outputs": [],
     "prompt_number": 28
    },
    {
     "cell_type": "code",
     "collapsed": false,
     "input": [
      "np.dot(Y, Z)"
     ],
     "language": "python",
     "metadata": {},
     "outputs": [
      {
       "metadata": {},
       "output_type": "pyout",
       "prompt_number": 29,
       "text": [
        "array([[0, 0, 0],\n",
        "       [0, 0, 0],\n",
        "       [0, 0, 0]])"
       ]
      }
     ],
     "prompt_number": 29
    },
    {
     "cell_type": "markdown",
     "metadata": {},
     "source": [
      "## The cross product (or vector product)\n",
      "\n",
      "The [cross product](http://en.wikipedia.org/wiki/Cross_product) of the vectors $a \u00d7 b$ is defined as the vector $c$ that is perpendicular to both $a$ and $b$, with a direction given by the right-hand rule and a magnitude equal to the area of the parallelogram that the vectors span.\n",
      "\n",
      "\\begin{equation}\n",
      "\\mathbf{a} \\times \\mathbf{b} = \\left\\| \\mathbf{a} \\right\\| \\left\\| \\mathbf{b} \\right\\| \\sin \\theta \\ \\mathbf{n} \n",
      "\\end{equation}    \n",
      "\n",
      "where:  \n",
      "\n",
      "$\\theta$ is the angle between $\\mathbf{a}$ and $\\mathbf{b}$ in the plane containing them.  \n",
      "$\\|$a$\\|$ and $\\|$b$\\|$ are the magnitudes of vectors $\\mathbf{a}$ and $\\mathbf{b}$  \n",
      "$\\mathbf{n}$ is a unit vector perpendicular to the plane containing $\\mathbf{a}$ and $\\mathbf{b}$ in the direction given by the right-hand rule.\n",
      "\n",
      "<img src=\"img/Right_hand_rule.png\" width=200 height=200>\n",
      "\n",
      "The vector product is not commutative (it is anti-commutative) as can be seen from the animation below.\n",
      "\n",
      "<img src=\"img/Cross_product.gif\" width=200 height=200>"
     ]
    },
    {
     "cell_type": "code",
     "collapsed": false,
     "input": [
      "print b, c\n",
      "print np.cross(b, c)\n",
      "print np.cross(-c, b)\n",
      "print np.cross(b, b)"
     ],
     "language": "python",
     "metadata": {},
     "outputs": [
      {
       "output_type": "stream",
       "stream": "stdout",
       "text": [
        "[[0 1 2]] [ 0 -1  2]\n",
        "[[4 0 0]]\n",
        "[[4 0 0]]\n",
        "[[0 0 0]]\n"
       ]
      }
     ],
     "prompt_number": 30
    },
    {
     "cell_type": "markdown",
     "metadata": {},
     "source": [
      "## Linear transformations\n",
      "\n",
      "Matrix algebra originated to describe coordinate transformations. In the following examples we explore how to apply transformations to a set of points. Just for fun, let the set of points be a _smiley face_."
     ]
    },
    {
     "cell_type": "code",
     "collapsed": false,
     "input": [
      "# Define a funtion that draws circles, and circular sections\n",
      "def circle(r=1., phi_a=0., phi_b=2*np.pi):\n",
      "    \"\"\"\n",
      "    A function to create arcs.\n",
      "    \n",
      "    Parameters\n",
      "    ----------\n",
      "    r : float. \n",
      "        Radius of the circular section\n",
      "    phi_a: float. \n",
      "        Initial point\n",
      "    phi_b: float. \n",
      "        Final point\n",
      "    \n",
      "    Returns\n",
      "    -------\n",
      "    Two arrays proving the x and y coordiantes for the arc. The default \n",
      "    values corresponds to a circle of unitary radius.\n",
      "    \n",
      "    \"\"\"\n",
      "    phi = np.arange(phi_a, phi_b, 0.05)\n",
      "    x_ori, y_ori = 0, 0\n",
      "    # change from polar to cartesian coordinates\n",
      "    x = r*np.cos(phi) + x_ori\n",
      "    y = r*np.sin(phi) + y_ori\n",
      "    return x, y\n",
      "\n",
      "# draw the face\n",
      "x0, y0 = circle()\n",
      "# draw the mouth\n",
      "x1, y1 = circle(r=.5, phi_a=np.pi, phi_b=2*np.pi)\n",
      "x0 = np.append(x0, x1)\n",
      "y0 = np.append(y0, y1)\n",
      "# draw the eyes\n",
      "x = np.append(x0, (-0.5, 0.5))\n",
      "y = np.append(y0, (0.5, 0.5))\n",
      "# create the face matrix\n",
      "face = np.vstack((x,y))\n",
      "# Plot the results\n",
      "plt.plot(face[0], face[1], 'ko' )\n",
      "plt.axis('equal');"
     ],
     "language": "python",
     "metadata": {},
     "outputs": [
      {
       "metadata": {},
       "output_type": "display_data",
       "png": "[encoded data removed]",
       "text": [
        "<matplotlib.figure.Figure at 0x7fea0b80d390>"
       ]
      }
     ],
     "prompt_number": 31
    },
    {
     "cell_type": "markdown",
     "metadata": {},
     "source": [
      "Now we will rotate the _smiley face_ by applying to it the matrix \n",
      "\n",
      "$$\\mathbf{B} = \\begin{bmatrix} cos \\theta & -sin \\theta &  \\\\\n",
      "sin \\theta & cos \\theta &  \\\\\n",
      "\\end{bmatrix}$$"
     ]
    },
    {
     "cell_type": "code",
     "collapsed": false,
     "input": [
      "theta = np.radians(30)\n",
      "B = np.array([[np.cos(theta), -np.sin(theta)], \n",
      "            [np.sin(theta),  np.cos(theta)]])\n",
      "\n",
      "new_face = np.dot(B, face)\n",
      "plt.plot(new_face[0], new_face[1], 'ko')\n",
      "plt.axis('equal');"
     ],
     "language": "python",
     "metadata": {},
     "outputs": [
      {
       "metadata": {},
       "output_type": "display_data",
       "png": "[encoded data removed]",
       "text": [
        "<matplotlib.figure.Figure at 0x7fea0b98a7d0>"
       ]
      }
     ],
     "prompt_number": 32
    },
    {
     "cell_type": "markdown",
     "metadata": {},
     "source": [
      "We can also scale our face (notice how the numbers on the axes change)"
     ]
    },
    {
     "cell_type": "code",
     "collapsed": false,
     "input": [
      "B = np.array([[4, 0], \n",
      "            [0,  4]])\n",
      "\n",
      "new_face = np.dot(B, face)\n",
      "plt.plot(new_face[0], new_face[1], 'ko')\n",
      "plt.axis('equal');"
     ],
     "language": "python",
     "metadata": {},
     "outputs": [
      {
       "metadata": {},
       "output_type": "display_data",
       "png": "[encoded data removed]",
       "text": [
        "<matplotlib.figure.Figure at 0x7fea0b913550>"
       ]
      }
     ],
     "prompt_number": 33
    },
    {
     "cell_type": "markdown",
     "metadata": {},
     "source": [
      "The scaling does not necessary have to be symmetric."
     ]
    },
    {
     "cell_type": "code",
     "collapsed": false,
     "input": [
      "B = np.array([[8, 0], \n",
      "            [0,  2]])\n",
      "\n",
      "new_face = np.dot(B, face)\n",
      "plt.plot(new_face[0], new_face[1], 'ko')\n",
      "plt.axis('equal');"
     ],
     "language": "python",
     "metadata": {},
     "outputs": [
      {
       "metadata": {},
       "output_type": "display_data",
       "png": "[encoded data removed]",
       "text": [
        "<matplotlib.figure.Figure at 0x7fea0b834ad0>"
       ]
      }
     ],
     "prompt_number": 34
    },
    {
     "cell_type": "markdown",
     "metadata": {},
     "source": [
      "We can also shear our face vertically or either horizontally as show next."
     ]
    },
    {
     "cell_type": "code",
     "collapsed": false,
     "input": [
      "B = np.array([[1, 2], \n",
      "            [0,  1]])\n",
      "\n",
      "new_face = np.dot(B, face)\n",
      "plt.plot(new_face[0], new_face[1], 'ko')\n",
      "plt.axis('equal');"
     ],
     "language": "python",
     "metadata": {},
     "outputs": [
      {
       "metadata": {},
       "output_type": "display_data",
       "png": "[encoded data removed]",
       "text": [
        "<matplotlib.figure.Figure at 0x7fea0b831290>"
       ]
      }
     ],
     "prompt_number": 35
    },
    {
     "cell_type": "markdown",
     "metadata": {},
     "source": [
      "### Orthogonal matrices and orthogonal transformations\n",
      "\n",
      "If we have a a square matrix $\\mathbf{A}$ for which: its inverse $\\mathbf{A}^{-1}$ is equal to its transpose $\\mathbf{A}.T$, then $\\mathbf{A}$ is an orthogonal matrix. For example, the rotation matrix discussed earlier,\n",
      "\n",
      "$$A = \\begin{bmatrix} \\cos \\theta & -\\sin \\theta \\\\ \\sin \\theta & \\cos \\theta \\\\ \\end{bmatrix}$$\n",
      "\n",
      "is orthogonal:\n",
      "\n",
      "$$A^{T} = A^{-1} = \\begin{bmatrix} \\cos \\theta & \\sin \\theta \\\\ -\\sin \\theta & \\cos \\theta \\\\ \\end{bmatrix}$$\n",
      "\n",
      "The columns and rows of an orthogonal matrix form a system of orthogonal unit vectors (orthonormal vectors).\n",
      "\n",
      "An orthogonal transformation is a linear transformation whose transformation matrix is orthogonal. Orthogonal transformations are\n",
      "important because they preserve the lengths and the angles between vectors. All orthogonal transformations in a two or three dimensional space are either rotations or reflections (or combinations of both)."
     ]
    },
    {
     "cell_type": "markdown",
     "metadata": {},
     "source": [
      "## Eigenvalues and eigenvectors\n",
      "\n",
      "An [eigenvector](https://en.wikipedia.org/wiki/Eigenvalues_and_eigenvectors) (_eigen_ means characteristic, unique, proper...) of a square matrix $\\mathbf{A}$ is a vector $\\mathbf{v}$ (other than the null vector) that satisfy the following equation:\n",
      "\n",
      "$$\\mathbf{A} \\mathbf{v} = \\lambda \\mathbf{v}$$\n",
      "\n",
      "Where:  \n",
      "$\\lambda$ is the eigenvalue (scalar) associated with the eigenvector $\\mathbf{v}$.\n",
      "\n",
      "\n",
      "Solving the above equation (_i.e._ finding the eigenvalues and eigenvectors) is know as the eigenvalue problem, and is of central importance in many branches of science and engineering.\n",
      "\n",
      "Notice from the above equation that $\\lambda$ _scales_ $\\mathbf{v}$ and that $\\mathbf{A}$ is also scaling $\\mathbf{v}$ (because both terms are equal). One way to visualize eigenvectors and eigenvalues is to think about them in terms of the linear transformations we saw above. In that context, an eigenvector is a vector (other than the null vector), which does not change its direction when a linear transformation is applied (or is exactly reversed). Eigenvectors can change in length, and the magnitude of the change is indicated by its associated eigenvalue.\n",
      "\n",
      "If you need to compute eigenvalues with NumPy you can use the linalg.eigh function:"
     ]
    },
    {
     "cell_type": "code",
     "collapsed": false,
     "input": [
      "np.linalg.eigh(A)"
     ],
     "language": "python",
     "metadata": {},
     "outputs": [
      {
       "metadata": {},
       "output_type": "pyout",
       "prompt_number": 36,
       "text": [
        "(array([ -3.33909113,  -0.67331402,  16.01240515]),\n",
        " array([[ 0.81444558,  0.43629207, -0.38252793],\n",
        "        [ 0.18999877, -0.82344058, -0.53464575],\n",
        "        [-0.54825072,  0.36276003, -0.7535425 ]]))"
       ]
      }
     ],
     "prompt_number": 36
    },
    {
     "cell_type": "markdown",
     "metadata": {},
     "source": [
      "The first array contains the eigenvalues and the second the corresponding eigenvector, in general but not always the eigenvalues are ordered from low to high.\n",
      "\n",
      "There is also another function called _linalg.eig_ (notice the lack of the _h_ at the end). The function _linalg.eig()_ is for non-symmetric matrices and the result could be complex numbers _linalg.eigh_ is for symmetric (AKA hermitian matrices) and the results are always real numbers. Although _linalg.eig_ will also works for symmetric matrices it is a better idea to use _linalg.eigh_ for those matrices.\n",
      "\n",
      "As we have already seen a vector may be seen as an arrow in an n-dimensional space. In that case, an eigenvector $\\mathbf{v}$ is an arrow whose direction is either preserved or exactly reversed after multiplication by $\\mathbf{A}$. The corresponding eigenvalue $\\lambda$ determines how the length of the arrow is modified, the length of the arrow will increase if $|\\lambda| > 1$, remain the same if $|\\lambda| = 1$, and decrease it if $|\\lambda|< 1$. The direction will be reversed if eigenvalue is negative or will be the same if positive.\n",
      "\n",
      "As examples, we can compute the eigenvalues and eigenvectors for the transformations matrices we see before."
     ]
    },
    {
     "cell_type": "code",
     "collapsed": false,
     "input": [
      "# Symetric scaling\n",
      "B = np.array([[4, 0], \n",
      "            [0,  4]])\n",
      "eigen_vals, eigen_vecs = np.linalg.eig(B)\n",
      "f1, f2 = eigen_vals * eigen_vecs\n",
      "\n",
      "print eigen_vals\n",
      "print eigen_vecs\n",
      "\n",
      "plt.axis('equal')\n",
      "for f, color in zip([f1, f2], ['red', 'blue']):\n",
      "    plt.arrow(0, 0, f[0], f[1], color=color, lw=2, \n",
      "              length_includes_head=True, head_width=.2)\n",
      "\n",
      "new_face = np.dot(B, face)\n",
      "plt.plot(new_face[0], new_face[1], 'ko')\n",
      "plt.axis('equal');"
     ],
     "language": "python",
     "metadata": {},
     "outputs": [
      {
       "output_type": "stream",
       "stream": "stdout",
       "text": [
        "[ 4.  4.]\n",
        "[[ 1.  0.]\n",
        " [ 0.  1.]]\n"
       ]
      },
      {
       "metadata": {},
       "output_type": "display_data",
       "png": "[encoded data removed]",
       "text": [
        "<matplotlib.figure.Figure at 0x7fea0b864390>"
       ]
      }
     ],
     "prompt_number": 37
    },
    {
     "cell_type": "code",
     "collapsed": false,
     "input": [
      "# Asymetric scaling\n",
      "B = np.array([[8, 0], \n",
      "            [0,  2]])\n",
      "eigen_vals, eigen_vecs = np.linalg.eig(B)\n",
      "f0 = eigen_vals[0] * eigen_vecs[0]\n",
      "f1 = eigen_vals[1] * eigen_vecs[1]\n",
      "\n",
      "print eigen_vals\n",
      "print eigen_vecs\n",
      "\n",
      "plt.axis('equal')\n",
      "for f, color in zip([f0, f1], ['red', 'blue']):\n",
      "    plt.arrow(0, 0, f[0], f[1], color=color, lw=2, \n",
      "              length_includes_head=True, head_width=.2)\n",
      "\n",
      "new_face = np.dot(B, face)\n",
      "plt.plot(new_face[0], new_face[1], 'ko')\n",
      "plt.axis('equal');"
     ],
     "language": "python",
     "metadata": {},
     "outputs": [
      {
       "output_type": "stream",
       "stream": "stdout",
       "text": [
        "[ 8.  2.]\n",
        "[[ 1.  0.]\n",
        " [ 0.  1.]]\n"
       ]
      },
      {
       "metadata": {},
       "output_type": "display_data",
       "png": "[encoded data removed]",
       "text": [
        "<matplotlib.figure.Figure at 0x7fea0b7a4d90>"
       ]
      }
     ],
     "prompt_number": 38
    },
    {
     "cell_type": "code",
     "collapsed": false,
     "input": [
      "# horizontal shear\n",
      "B = np.array([[1, 2], \n",
      "            [0,  1]])\n",
      "\n",
      "eigen_vals, eigen_vecs = np.linalg.eig(B)\n",
      "f0 = eigen_vals[0] * eigen_vecs[0]\n",
      "f1 = eigen_vals[1] * eigen_vecs[1]\n",
      "\n",
      "print eigen_vals\n",
      "print eigen_vecs\n",
      "\n",
      "plt.axis('equal')\n",
      "for f, color in zip([f0, f1], ['red', 'blue']):\n",
      "    plt.arrow(0, 0, f[0], f[1], color=color, lw=2, \n",
      "              length_includes_head=True, head_width=.2)\n",
      "\n",
      "new_face = np.dot(B, face)\n",
      "plt.plot(new_face[0], new_face[1], 'ko')\n",
      "plt.axis('equal');"
     ],
     "language": "python",
     "metadata": {},
     "outputs": [
      {
       "output_type": "stream",
       "stream": "stdout",
       "text": [
        "[ 1.  1.]\n",
        "[[  1.00000000e+00  -1.00000000e+00]\n",
        " [  0.00000000e+00   1.11022302e-16]]\n"
       ]
      },
      {
       "metadata": {},
       "output_type": "display_data",
       "png": "[encoded data removed]",
       "text": [
        "<matplotlib.figure.Figure at 0x7fea0b7ee250>"
       ]
      }
     ],
     "prompt_number": 39
    },
    {
     "cell_type": "markdown",
     "metadata": {},
     "source": [
      "**Here we have a problem!!! the eigenvector should be [1, 0]**"
     ]
    },
    {
     "cell_type": "code",
     "collapsed": false,
     "input": [
      "B = np.array([[1, 2], \n",
      "            [0,  1]])\n",
      "\n",
      "np.linalg.eig(B)"
     ],
     "language": "python",
     "metadata": {},
     "outputs": [
      {
       "metadata": {},
       "output_type": "pyout",
       "prompt_number": 40,
       "text": [
        "(array([ 1.,  1.]), array([[  1.00000000e+00,  -1.00000000e+00],\n",
        "        [  0.00000000e+00,   1.11022302e-16]]))"
       ]
      }
     ],
     "prompt_number": 40
    },
    {
     "cell_type": "markdown",
     "metadata": {},
     "source": [
      "### Rotation\n",
      "\n",
      "Eigenvalues and eigenvectors are not restricted to real values. For example the eigenvalues and eigenvectors of rotation matrices are complex number (except when $\\theta = 0$, but that's not a rotation!)"
     ]
    },
    {
     "cell_type": "code",
     "collapsed": false,
     "input": [
      "theta = np.radians(30)\n",
      "B = np.array([[np.cos(theta), -np.sin(theta)], \n",
      "            [np.sin(theta),  np.cos(theta)]])\n",
      "\n",
      "np.linalg.eig(B)"
     ],
     "language": "python",
     "metadata": {},
     "outputs": [
      {
       "metadata": {},
       "output_type": "pyout",
       "prompt_number": 41,
       "text": [
        "(array([ 0.8660254+0.5j,  0.8660254-0.5j]),\n",
        " array([[ 0.70710678+0.j        ,  0.70710678-0.j        ],\n",
        "        [ 0.00000000-0.70710678j,  0.00000000+0.70710678j]]))"
       ]
      }
     ],
     "prompt_number": 41
    },
    {
     "cell_type": "markdown",
     "metadata": {},
     "source": [
      "Apart from real and complex numbers, eigenvectors could be functions. In such contexts people sometimes talk about, [eigenfunction](https://en.wikipedia.org/wiki/Eigenfunction), [eigenface](https://en.wikipedia.org/wiki/Eigenface), [eigenstate](https://en.wikipedia.org/wiki/Introduction_to_eigenstates), and _[eigenstuff](http://www.xkcd.com/872/)_.\n",
      "\n",
      "One of the reasons that eigenvectors are ubiquitous in science is that they can be used as alternative (and in general more useful) coordinate system to represent our data/models. We will see an example of this idea when we discuss Principal Component analysis (PCA) in chapter 4."
     ]
    },
    {
     "cell_type": "markdown",
     "metadata": {},
     "source": [
      "## Further reading\n",
      "\n",
      " * [The chemistry maths book](http://global.oup.com/uk/orc/chemistry/steiner2e/)\n",
      " * [Coding the Matrix](https://www.coursera.org/course/matrix)\n",
      " * [Linear Algebra and Its Applications](http://www.amazon.com/Linear-Algebra-Its-Applications-4th/dp/0321385179)"
     ]
    }
   ],
   "metadata": {}
  }
 ]
}