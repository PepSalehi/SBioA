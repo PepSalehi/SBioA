{
 "metadata": {
  "name": "",
  "signature": "sha256:e721fc20a5c4c55232b66a2ea1939301557bba6071e6e806fbec9fc99c1f1eff"
 },
 "nbformat": 3,
 "nbformat_minor": 0,
 "worksheets": [
  {
   "cells": [
    {
     "cell_type": "markdown",
     "metadata": {},
     "source": [
      "# NumPy Introduction\n",
      "\n",
      "NumPy (Numerical Python) is a library for scientific computing. The library contains many mathematical functions for performing operations of linear algebra, Fourier transforms, pseudo-random numbers generators, etc. NumPy can use BLAS and LAPACK (if you have them installed on your system). BLAS and LAPACK are libraries written in Fortran that provides linear algebra routines. NumPy was born with the idea of bringing the functionality of environments like Matlab and Mathematica to Python.\n",
      "\n",
      "Overall, the code written in NumPy can be shorter and (arguably) clearer than pure Python. The use of loops is reduced because many operations are applied directly on arrays. In addition, there are many mathematical/scientific functions already defined, so it is posible to write less code and more important, those functions are implemted used very efficient and reliable algorithms."
     ]
    },
    {
     "cell_type": "code",
     "collapsed": false,
     "input": [
      "import numpy as np  # the standard way to import numpy"
     ],
     "language": "python",
     "metadata": {},
     "outputs": [],
     "prompt_number": 1
    },
    {
     "cell_type": "markdown",
     "metadata": {},
     "source": [
      "## Arrays\n",
      "\n",
      "NumPy uses a data structure called array. NumPy arrays are similar to Python lists but are more efficient for numerical tasks. This efficiency come from the following facts:\n",
      "\n",
      "* Python lists are very general and can contain any type of object. Besides, the types of objects are dynamically allocated. This makes lists inefficient for mathematical operations.\n",
      "* NumPy arrays are **static** and **homogeneous**. The type of elements is determined when the array is created (or can the user can provide it).\n",
      "* NumPy arrays make efficient use of memory.\n",
      "\n",
      "Furthermore arrays are similar to mathematical vectors and matrices."
     ]
    },
    {
     "cell_type": "markdown",
     "metadata": {},
     "source": [
      "### Creating arrays\n",
      "\n",
      "There are several routines to [create](http://docs.scipy.org/doc/numpy/reference/routines.array-creation.html) NumPy arrays:  \n",
      "\n",
      "* From Python list and tuples\n",
      "* Filled with a numerical range\n",
      "* Filled with with random numbers\n",
      "* Filled with zeros and ones\n",
      "* From files\n",
      "\n",
      "#### From lists and tuples  \n",
      "\n",
      "To create arrays from Python list (or tuples) we ca use the **array** function. "
     ]
    },
    {
     "cell_type": "code",
     "collapsed": false,
     "input": [
      "v = np.array([1, 2, 3, 4 , 5, 6])\n",
      "v"
     ],
     "language": "python",
     "metadata": {},
     "outputs": [
      {
       "metadata": {},
       "output_type": "pyout",
       "prompt_number": 2,
       "text": [
        "array([1, 2, 3, 4, 5, 6])"
       ]
      }
     ],
     "prompt_number": 2
    },
    {
     "cell_type": "code",
     "collapsed": false,
     "input": [
      "M = np.array([[1, 2], [3, 4], [5, 6]])\n",
      "M"
     ],
     "language": "python",
     "metadata": {},
     "outputs": [
      {
       "metadata": {},
       "output_type": "pyout",
       "prompt_number": 3,
       "text": [
        "array([[1, 2],\n",
        "       [3, 4],\n",
        "       [5, 6]])"
       ]
      }
     ],
     "prompt_number": 3
    },
    {
     "cell_type": "markdown",
     "metadata": {},
     "source": [
      "Objects **v** and **M** are both of the same type; **ndarray** as you can easily check."
     ]
    },
    {
     "cell_type": "code",
     "collapsed": false,
     "input": [
      "type(v), type(M)"
     ],
     "language": "python",
     "metadata": {},
     "outputs": [
      {
       "metadata": {},
       "output_type": "pyout",
       "prompt_number": 4,
       "text": [
        "(numpy.ndarray, numpy.ndarray)"
       ]
      }
     ],
     "prompt_number": 4
    },
    {
     "cell_type": "markdown",
     "metadata": {},
     "source": [
      "The difference between array **v** and **M** us that they have different shapes. We can get the shape of an array using the method **shape**."
     ]
    },
    {
     "cell_type": "code",
     "collapsed": false,
     "input": [
      "v.shape  # equivalent to np.shape(v)"
     ],
     "language": "python",
     "metadata": {},
     "outputs": [
      {
       "metadata": {},
       "output_type": "pyout",
       "prompt_number": 5,
       "text": [
        "(6,)"
       ]
      }
     ],
     "prompt_number": 5
    },
    {
     "cell_type": "code",
     "collapsed": false,
     "input": [
      "M.shape  # equivalent to np.shape(M)"
     ],
     "language": "python",
     "metadata": {},
     "outputs": [
      {
       "metadata": {},
       "output_type": "pyout",
       "prompt_number": 6,
       "text": [
        "(3, 2)"
       ]
      }
     ],
     "prompt_number": 6
    },
    {
     "cell_type": "markdown",
     "metadata": {},
     "source": [
      " **size** tell us the number of elements of an array."
     ]
    },
    {
     "cell_type": "code",
     "collapsed": false,
     "input": [
      "v.size, M.size  # or np.size(M) "
     ],
     "language": "python",
     "metadata": {},
     "outputs": [
      {
       "metadata": {},
       "output_type": "pyout",
       "prompt_number": 6,
       "text": [
        "(6, 6)"
       ]
      }
     ],
     "prompt_number": 6
    },
    {
     "cell_type": "markdown",
     "metadata": {},
     "source": [
      "In the same way the number of dimensions of and array are obtained using **ndim**"
     ]
    },
    {
     "cell_type": "code",
     "collapsed": false,
     "input": [
      "v.ndim, M.ndim"
     ],
     "language": "python",
     "metadata": {},
     "outputs": [
      {
       "metadata": {},
       "output_type": "pyout",
       "prompt_number": 8,
       "text": [
        "(1, 2)"
       ]
      }
     ],
     "prompt_number": 8
    },
    {
     "cell_type": "markdown",
     "metadata": {},
     "source": [
      "Using the method **dtype**, we can ask for the **type** of the elements stored in an array."
     ]
    },
    {
     "cell_type": "code",
     "collapsed": false,
     "input": [
      "M.dtype"
     ],
     "language": "python",
     "metadata": {},
     "outputs": [
      {
       "metadata": {},
       "output_type": "pyout",
       "prompt_number": 9,
       "text": [
        "dtype('int64')"
       ]
      }
     ],
     "prompt_number": 9
    },
    {
     "cell_type": "markdown",
     "metadata": {},
     "source": [
      "Using Python list we can mix different types of data in a same list. Instead, with arrays we get an error."
     ]
    },
    {
     "cell_type": "code",
     "collapsed": false,
     "input": [
      "v[0] = \"hello world\""
     ],
     "language": "python",
     "metadata": {},
     "outputs": [
      {
       "ename": "ValueError",
       "evalue": "invalid literal for long() with base 10: 'hello world'",
       "output_type": "pyerr",
       "traceback": [
        "\u001b[0;31m---------------------------------------------------------------------------\u001b[0m\n\u001b[0;31mValueError\u001b[0m                                Traceback (most recent call last)",
        "\u001b[0;32m<ipython-input-10-2ffc3c5d7654>\u001b[0m in \u001b[0;36m<module>\u001b[0;34m()\u001b[0m\n\u001b[0;32m----> 1\u001b[0;31m \u001b[0mv\u001b[0m\u001b[0;34m[\u001b[0m\u001b[0;36m0\u001b[0m\u001b[0;34m]\u001b[0m \u001b[0;34m=\u001b[0m \u001b[0;34m\"hello world\"\u001b[0m\u001b[0;34m\u001b[0m\u001b[0m\n\u001b[0m",
        "\u001b[0;31mValueError\u001b[0m: invalid literal for long() with base 10: 'hello world'"
       ]
      }
     ],
     "prompt_number": 10
    },
    {
     "cell_type": "markdown",
     "metadata": {},
     "source": [
      "Or we could get something we didn't expect"
     ]
    },
    {
     "cell_type": "code",
     "collapsed": false,
     "input": [
      "v[0] = 3.14\n",
      "v"
     ],
     "language": "python",
     "metadata": {},
     "outputs": [
      {
       "metadata": {},
       "output_type": "pyout",
       "prompt_number": 11,
       "text": [
        "array([3, 2, 3, 4, 5, 6])"
       ]
      }
     ],
     "prompt_number": 11
    },
    {
     "cell_type": "markdown",
     "metadata": {},
     "source": [
      "It is possible to explicitelly define the type of the data when creating an array."
     ]
    },
    {
     "cell_type": "code",
     "collapsed": false,
     "input": [
      "np.array([[1, 2], [3, 4]], dtype=complex)"
     ],
     "language": "python",
     "metadata": {},
     "outputs": [
      {
       "metadata": {},
       "output_type": "pyout",
       "prompt_number": 12,
       "text": [
        "array([[ 1.+0.j,  2.+0.j],\n",
        "       [ 3.+0.j,  4.+0.j]])"
       ]
      }
     ],
     "prompt_number": 12
    },
    {
     "cell_type": "markdown",
     "metadata": {},
     "source": [
      "Some common types are: **int**, **float**, **complex**, **bool**\n",
      "\n",
      "It is also possible to define the number of bits for each type: **int64**, **int16**, **float64**, **complex64**."
     ]
    },
    {
     "cell_type": "markdown",
     "metadata": {},
     "source": [
      "#### Filled with a numerical range\n",
      "\n",
      "It is possible to create arrays from scratch. For example we can directly create an array containing evenly spaced values within the half-open interval [from, to), using **arange**"
     ]
    },
    {
     "cell_type": "code",
     "collapsed": false,
     "input": [
      "np.arange(0, 10, 1) # from, to, step (from and step are optional)"
     ],
     "language": "python",
     "metadata": {},
     "outputs": [
      {
       "metadata": {},
       "output_type": "pyout",
       "prompt_number": 18,
       "text": [
        "array([0, 1, 2, 3, 4, 5, 6, 7, 8, 9])"
       ]
      }
     ],
     "prompt_number": 18
    },
    {
     "cell_type": "markdown",
     "metadata": {},
     "source": [
      "Unlike the python _range_ function _arange_ support floats"
     ]
    },
    {
     "cell_type": "code",
     "collapsed": false,
     "input": [
      "np.arange(-1, 1, 0.25)"
     ],
     "language": "python",
     "metadata": {},
     "outputs": [
      {
       "metadata": {},
       "output_type": "pyout",
       "prompt_number": 21,
       "text": [
        "array([-1.  , -0.75, -0.5 , -0.25,  0.  ,  0.25,  0.5 ,  0.75])"
       ]
      }
     ],
     "prompt_number": 21
    },
    {
     "cell_type": "markdown",
     "metadata": {},
     "source": [
      "**linspace**  returns evenly spaced numbers, calculated over the interval [from, to]. Works similar to **arange** but instead of specifying the _step_ we specify the total number of elements we want."
     ]
    },
    {
     "cell_type": "code",
     "collapsed": false,
     "input": [
      "np.linspace(1, 10, 25) # from, to, elements (elements is optional)"
     ],
     "language": "python",
     "metadata": {},
     "outputs": [
      {
       "metadata": {},
       "output_type": "pyout",
       "prompt_number": 22,
       "text": [
        "array([  1.   ,   1.375,   1.75 ,   2.125,   2.5  ,   2.875,   3.25 ,\n",
        "         3.625,   4.   ,   4.375,   4.75 ,   5.125,   5.5  ,   5.875,\n",
        "         6.25 ,   6.625,   7.   ,   7.375,   7.75 ,   8.125,   8.5  ,\n",
        "         8.875,   9.25 ,   9.625,  10.   ])"
       ]
      }
     ],
     "prompt_number": 22
    },
    {
     "cell_type": "markdown",
     "metadata": {},
     "source": [
      "**logspace** return numbers spaced evenly on a logaritmic scale."
     ]
    },
    {
     "cell_type": "code",
     "collapsed": false,
     "input": [
      "np.logspace(0, 1.5, 5, base=np.e)"
     ],
     "language": "python",
     "metadata": {},
     "outputs": [
      {
       "metadata": {},
       "output_type": "pyout",
       "prompt_number": 25,
       "text": [
        "array([ 1.        ,  1.45499141,  2.11700002,  3.08021685,  4.48168907])"
       ]
      }
     ],
     "prompt_number": 25
    },
    {
     "cell_type": "markdown",
     "metadata": {},
     "source": [
      "#### Filled with random numbers\n",
      "\n",
      "Random numbers are widely used in scientific applications. In practice computers generate **pseudo random numbers**, _i.e._ numbers that, for most intents and purposes, _looks like_ random numbers.\n",
      "\n",
      "All the routines to generate random number live inside the [random](http://docs.scipy.org/doc/numpy/reference/routines.random.html) module. Python uses the [Mersenne Twister](https://en.wikipedia.org/wiki/Mersenne_twister) pseudo-random generator.\n",
      "\n",
      "The most basic function is **rand**. This function creates an array from a uniform distribution over the range [0, 1)."
     ]
    },
    {
     "cell_type": "code",
     "collapsed": false,
     "input": [
      "np.random.rand(2, 5)  # array with shape (2, 5)"
     ],
     "language": "python",
     "metadata": {},
     "outputs": [
      {
       "metadata": {},
       "output_type": "pyout",
       "prompt_number": 26,
       "text": [
        "array([[ 0.43798235,  0.86769434,  0.7147619 ,  0.77742946,  0.41092599],\n",
        "       [ 0.44203703,  0.78522308,  0.81420706,  0.81669504,  0.26645185]])"
       ]
      }
     ],
     "prompt_number": 26
    },
    {
     "cell_type": "markdown",
     "metadata": {},
     "source": [
      "**randn** returns samples from the _standard normal_ distribution."
     ]
    },
    {
     "cell_type": "code",
     "collapsed": false,
     "input": [
      "np.random.randn(3)"
     ],
     "language": "python",
     "metadata": {},
     "outputs": [
      {
       "metadata": {},
       "output_type": "pyout",
       "prompt_number": 27,
       "text": [
        "array([-0.99403535, -0.20511807, -0.38448433])"
       ]
      }
     ],
     "prompt_number": 27
    },
    {
     "cell_type": "markdown",
     "metadata": {},
     "source": [
      "While in a lot of applications we need random numbers, randomness could be problematic, for example during _debugging_. We can solve this by _seeding_ the pseudo-random generator. In this way each time we ask for a random number we will get the same result."
     ]
    },
    {
     "cell_type": "code",
     "collapsed": false,
     "input": [
      "np.random.seed(31415)\n",
      "np.random.randn(3)"
     ],
     "language": "python",
     "metadata": {},
     "outputs": [
      {
       "metadata": {},
       "output_type": "pyout",
       "prompt_number": 31,
       "text": [
        "array([ 1.36242188,  1.13410818,  2.36307449])"
       ]
      }
     ],
     "prompt_number": 31
    },
    {
     "cell_type": "markdown",
     "metadata": {},
     "source": [
      "#### Filled with zeros and ones \n",
      "\n",
      "Sometimes it is handy to create arrays filled with ones or zeros (or other numbers)."
     ]
    },
    {
     "cell_type": "code",
     "collapsed": false,
     "input": [
      "np.zeros((2,5))"
     ],
     "language": "python",
     "metadata": {},
     "outputs": [
      {
       "metadata": {},
       "output_type": "pyout",
       "prompt_number": 35,
       "text": [
        "array([[ 0.,  0.,  0.,  0.,  0.],\n",
        "       [ 0.,  0.,  0.,  0.,  0.]])"
       ]
      }
     ],
     "prompt_number": 35
    },
    {
     "cell_type": "code",
     "collapsed": false,
     "input": [
      "np.ones((2,5))"
     ],
     "language": "python",
     "metadata": {},
     "outputs": [
      {
       "metadata": {},
       "output_type": "pyout",
       "prompt_number": 34,
       "text": [
        "array([[ 1.,  1.,  1.,  1.,  1.],\n",
        "       [ 1.,  1.,  1.,  1.,  1.]])"
       ]
      }
     ],
     "prompt_number": 34
    },
    {
     "cell_type": "code",
     "collapsed": false,
     "input": [
      "np.empty((2,5))"
     ],
     "language": "python",
     "metadata": {},
     "outputs": [
      {
       "metadata": {},
       "output_type": "pyout",
       "prompt_number": 36,
       "text": [
        "array([[  6.93095835e-310,   6.93095835e-310,   0.00000000e+000,\n",
        "          0.00000000e+000,   0.00000000e+000],\n",
        "       [  0.00000000e+000,   0.00000000e+000,   0.00000000e+000,\n",
        "          0.00000000e+000,   0.00000000e+000]])"
       ]
      }
     ],
     "prompt_number": 36
    },
    {
     "cell_type": "code",
     "collapsed": false,
     "input": [
      "np.full((2,5), 42)  "
     ],
     "language": "python",
     "metadata": {},
     "outputs": [
      {
       "metadata": {},
       "output_type": "pyout",
       "prompt_number": 37,
       "text": [
        "array([[ 42.,  42.,  42.,  42.,  42.],\n",
        "       [ 42.,  42.,  42.,  42.,  42.]])"
       ]
      }
     ],
     "prompt_number": 37
    },
    {
     "cell_type": "markdown",
     "metadata": {},
     "source": [
      "#### From files\n",
      "\n",
      "A common format for data files is the comma separated values, or related formats, such as TSV (tab separated values). To read data from such files into an array using NumPy we can use the **genfromtxt ** function. For example,"
     ]
    },
    {
     "cell_type": "code",
     "collapsed": false,
     "input": [
      "!head sample.dat  # Shows the first lines of a file"
     ],
     "language": "python",
     "metadata": {},
     "outputs": [
      {
       "output_type": "stream",
       "stream": "stdout",
       "text": [
        "   X       Y       Z     occ  b-f\r\n",
        "45.885  29.085  -0.349  1.00 27.21\r\n",
        "45.402  28.249  -1.361  1.00 25.24\r\n",
        "44.792  26.870  -1.153  1.00 23.54\r\n",
        "45.647  25.988  -1.415  1.00 20.94\r\n",
        "46.415  28.104  -2.539  1.00 26.89\r\n",
        "47.432  29.136  -2.674  1.00 27.10\r\n",
        "43.440  26.778  -0.893  1.00 20.65\r\n",
        "43.049  25.297  -0.723  1.00 18.63\r\n",
        "42.868  24.450  -1.968  1.00 16.36\r\n"
       ]
      }
     ],
     "prompt_number": 38
    },
    {
     "cell_type": "code",
     "collapsed": false,
     "input": [
      "data = np.genfromtxt('sample.dat', skip_header=True)\n",
      "data"
     ],
     "language": "python",
     "metadata": {},
     "outputs": [
      {
       "metadata": {},
       "output_type": "pyout",
       "prompt_number": 39,
       "text": [
        "array([[ 45.885,  29.085,  -0.349,   1.   ,  27.21 ],\n",
        "       [ 45.402,  28.249,  -1.361,   1.   ,  25.24 ],\n",
        "       [ 44.792,  26.87 ,  -1.153,   1.   ,  23.54 ],\n",
        "       [ 45.647,  25.988,  -1.415,   1.   ,  20.94 ],\n",
        "       [ 46.415,  28.104,  -2.539,   1.   ,  26.89 ],\n",
        "       [ 47.432,  29.136,  -2.674,   1.   ,  27.1  ],\n",
        "       [ 43.44 ,  26.778,  -0.893,   1.   ,  20.65 ],\n",
        "       [ 43.049,  25.297,  -0.723,   1.   ,  18.63 ],\n",
        "       [ 42.868,  24.45 ,  -1.968,   1.   ,  16.36 ],\n",
        "       [ 41.96 ,  24.535,  -2.773,   1.   ,  15.9  ],\n",
        "       [ 41.931,  25.472,   0.263,   1.   ,  17.29 ],\n",
        "       [ 41.735,  24.893,   1.591,   1.   ,  17.13 ],\n",
        "       [ 40.229,  24.874,   1.889,   1.   ,  15.26 ]])"
       ]
      }
     ],
     "prompt_number": 39
    },
    {
     "cell_type": "code",
     "collapsed": false,
     "input": [
      "data.shape"
     ],
     "language": "python",
     "metadata": {},
     "outputs": [
      {
       "metadata": {},
       "output_type": "pyout",
       "prompt_number": 41,
       "text": [
        "(13, 5)"
       ]
      }
     ],
     "prompt_number": 41
    },
    {
     "cell_type": "markdown",
     "metadata": {},
     "source": [
      "Using **numpy.savetxt** we can  save a NumPy array to a csv file."
     ]
    },
    {
     "cell_type": "code",
     "collapsed": false,
     "input": [
      "M = np.random.rand(3,3)\n",
      "M"
     ],
     "language": "python",
     "metadata": {},
     "outputs": [
      {
       "metadata": {},
       "output_type": "pyout",
       "prompt_number": 42,
       "text": [
        "array([[ 0.64351246,  0.40036957,  0.87521911],\n",
        "       [ 0.60860645,  0.10669999,  0.25430889],\n",
        "       [ 0.03547   ,  0.50116423,  0.6174447 ]])"
       ]
      }
     ],
     "prompt_number": 42
    },
    {
     "cell_type": "code",
     "collapsed": false,
     "input": [
      "np.savetxt(\"random_matrix.csv\", M, fmt='%.2f')"
     ],
     "language": "python",
     "metadata": {},
     "outputs": [],
     "prompt_number": 43
    },
    {
     "cell_type": "code",
     "collapsed": false,
     "input": [
      "!head random_matrix.csv"
     ],
     "language": "python",
     "metadata": {},
     "outputs": [
      {
       "output_type": "stream",
       "stream": "stdout",
       "text": [
        "0.64 0.40 0.88\r\n",
        "0.61 0.11 0.25\r\n",
        "0.04 0.50 0.62\r\n"
       ]
      }
     ],
     "prompt_number": 44
    },
    {
     "cell_type": "markdown",
     "metadata": {},
     "source": [
      "Alternatively, is also possible to save a NumPy array using the _npy_ format. It is useful for storing arrays of data that will then be read with NumPy."
     ]
    },
    {
     "cell_type": "code",
     "collapsed": false,
     "input": [
      "np.save(\"random_matrix.npy\", M)\n",
      "!ls *.npy"
     ],
     "language": "python",
     "metadata": {},
     "outputs": [
      {
       "output_type": "stream",
       "stream": "stdout",
       "text": [
        "random_matrix.npy\r\n"
       ]
      }
     ],
     "prompt_number": 45
    },
    {
     "cell_type": "markdown",
     "metadata": {},
     "source": [
      "To load the saved file we use the **load** function, as you may have guessed."
     ]
    },
    {
     "cell_type": "code",
     "collapsed": false,
     "input": [
      "np.load(\"random_matrix.npy\")"
     ],
     "language": "python",
     "metadata": {},
     "outputs": [
      {
       "metadata": {},
       "output_type": "pyout",
       "prompt_number": 46,
       "text": [
        "array([[ 0.64351246,  0.40036957,  0.87521911],\n",
        "       [ 0.60860645,  0.10669999,  0.25430889],\n",
        "       [ 0.03547   ,  0.50116423,  0.6174447 ]])"
       ]
      }
     ],
     "prompt_number": 46
    },
    {
     "cell_type": "markdown",
     "metadata": {},
     "source": [
      "### Indexing\n",
      "\n",
      "Indexing of NumPy arrays works in a similar fashion to indexing Python lists."
     ]
    },
    {
     "cell_type": "code",
     "collapsed": false,
     "input": [
      "v = np.array([1, 2, 3, 4, 5, 6])\n",
      "M = np.array([[1, 2], [3, 4], [5, 6]])\n",
      "print v\n",
      "print M"
     ],
     "language": "python",
     "metadata": {},
     "outputs": [
      {
       "output_type": "stream",
       "stream": "stdout",
       "text": [
        "[1 2 3 4 5 6]\n",
        "[[1 2]\n",
        " [3 4]\n",
        " [5 6]]\n"
       ]
      }
     ],
     "prompt_number": 61
    },
    {
     "cell_type": "markdown",
     "metadata": {},
     "source": [
      "**v** is a 1D array (like a vector) and hence each element is indexed using just one number."
     ]
    },
    {
     "cell_type": "code",
     "collapsed": false,
     "input": [
      "v[0]"
     ],
     "language": "python",
     "metadata": {},
     "outputs": [
      {
       "metadata": {},
       "output_type": "pyout",
       "prompt_number": 48,
       "text": [
        "1"
       ]
      }
     ],
     "prompt_number": 48
    },
    {
     "cell_type": "markdown",
     "metadata": {},
     "source": [
      "**M** is a 2D array (like a matrix) and hence each element is indexed using two numbers."
     ]
    },
    {
     "cell_type": "code",
     "collapsed": false,
     "input": [
      "M[1,1]  # this is equivalent to M[1][1]"
     ],
     "language": "python",
     "metadata": {},
     "outputs": [
      {
       "metadata": {},
       "output_type": "pyout",
       "prompt_number": 49,
       "text": [
        "4"
       ]
      }
     ],
     "prompt_number": 49
    },
    {
     "cell_type": "markdown",
     "metadata": {},
     "source": [
      "If we omit an index when indexing a multidimensional array, NumPy delivers the entire row (or, in general, the array of dimension N-1)"
     ]
    },
    {
     "cell_type": "code",
     "collapsed": false,
     "input": [
      "M[1]"
     ],
     "language": "python",
     "metadata": {},
     "outputs": [
      {
       "metadata": {},
       "output_type": "pyout",
       "prompt_number": 50,
       "text": [
        "array([3, 4])"
       ]
      }
     ],
     "prompt_number": 50
    },
    {
     "cell_type": "markdown",
     "metadata": {},
     "source": [
      "The same results is obtained using **:**"
     ]
    },
    {
     "cell_type": "code",
     "collapsed": false,
     "input": [
      "M[1,:]  # row 1"
     ],
     "language": "python",
     "metadata": {},
     "outputs": [
      {
       "metadata": {},
       "output_type": "pyout",
       "prompt_number": 51,
       "text": [
        "array([3, 4])"
       ]
      }
     ],
     "prompt_number": 51
    },
    {
     "cell_type": "code",
     "collapsed": false,
     "input": [
      "M[:,1]  # column 1"
     ],
     "language": "python",
     "metadata": {},
     "outputs": [
      {
       "metadata": {},
       "output_type": "pyout",
       "prompt_number": 52,
       "text": [
        "array([2, 4, 6])"
       ]
      }
     ],
     "prompt_number": 52
    },
    {
     "cell_type": "markdown",
     "metadata": {},
     "source": [
      "We can assign element to an array specifing the desired index"
     ]
    },
    {
     "cell_type": "code",
     "collapsed": false,
     "input": [
      "M[0,0] = -1\n",
      "M"
     ],
     "language": "python",
     "metadata": {},
     "outputs": [
      {
       "metadata": {},
       "output_type": "pyout",
       "prompt_number": 53,
       "text": [
        "array([[-1,  2],\n",
        "       [ 3,  4],\n",
        "       [ 5,  6]])"
       ]
      }
     ],
     "prompt_number": 53
    },
    {
     "cell_type": "markdown",
     "metadata": {},
     "source": [
      "The same idea works for entire rows and columns"
     ]
    },
    {
     "cell_type": "code",
     "collapsed": false,
     "input": [
      "M[1,:] = 0\n",
      "M"
     ],
     "language": "python",
     "metadata": {},
     "outputs": [
      {
       "metadata": {},
       "output_type": "pyout",
       "prompt_number": 54,
       "text": [
        "array([[-1,  2],\n",
        "       [ 0,  0],\n",
        "       [ 5,  6]])"
       ]
      }
     ],
     "prompt_number": 54
    },
    {
     "cell_type": "code",
     "collapsed": false,
     "input": [
      "M[:,1] = -2\n",
      "M"
     ],
     "language": "python",
     "metadata": {},
     "outputs": [
      {
       "metadata": {},
       "output_type": "pyout",
       "prompt_number": 55,
       "text": [
        "array([[-1, -2],\n",
        "       [ 0, -2],\n",
        "       [ 5, -2]])"
       ]
      }
     ],
     "prompt_number": 55
    },
    {
     "cell_type": "markdown",
     "metadata": {},
     "source": [
      "### Slicing\n",
      "\n",
      "Slicing is also possible when working with arrays."
     ]
    },
    {
     "cell_type": "code",
     "collapsed": false,
     "input": [
      "print v\n",
      "v[1:3]"
     ],
     "language": "python",
     "metadata": {},
     "outputs": [
      {
       "output_type": "stream",
       "stream": "stdout",
       "text": [
        "[ 1 -2 -3  4  5  6]\n"
       ]
      },
      {
       "metadata": {},
       "output_type": "pyout",
       "prompt_number": 60,
       "text": [
        "array([-2, -3])"
       ]
      }
     ],
     "prompt_number": 60
    },
    {
     "cell_type": "markdown",
     "metadata": {},
     "source": [
      "Slices can also be used in assigning new values."
     ]
    },
    {
     "cell_type": "code",
     "collapsed": false,
     "input": [
      "v[1:3] = -2,-3\n",
      "v"
     ],
     "language": "python",
     "metadata": {},
     "outputs": [
      {
       "metadata": {},
       "output_type": "pyout",
       "prompt_number": 65,
       "text": [
        "array([ 1, -2, -3, -4,  5,  6])"
       ]
      }
     ],
     "prompt_number": 65
    },
    {
     "cell_type": "markdown",
     "metadata": {},
     "source": [
      "Is possible to slice an array using _steps_"
     ]
    },
    {
     "cell_type": "code",
     "collapsed": false,
     "input": [
      "v[::2]  # from and to takes defaults values (the entire array)"
     ],
     "language": "python",
     "metadata": {},
     "outputs": [
      {
       "metadata": {},
       "output_type": "pyout",
       "prompt_number": 66,
       "text": [
        "array([ 1, -3,  5])"
       ]
      }
     ],
     "prompt_number": 66
    },
    {
     "cell_type": "markdown",
     "metadata": {},
     "source": [
      "or take the first **N** elements"
     ]
    },
    {
     "cell_type": "code",
     "collapsed": false,
     "input": [
      "v[:3]"
     ],
     "language": "python",
     "metadata": {},
     "outputs": [
      {
       "metadata": {},
       "output_type": "pyout",
       "prompt_number": 69,
       "text": [
        "array([ 1, -2, -3])"
       ]
      }
     ],
     "prompt_number": 69
    },
    {
     "cell_type": "markdown",
     "metadata": {},
     "source": [
      "or start from the **$i^{th}$** element"
     ]
    },
    {
     "cell_type": "code",
     "collapsed": false,
     "input": [
      "v[3:]"
     ],
     "language": "python",
     "metadata": {},
     "outputs": [
      {
       "metadata": {},
       "output_type": "pyout",
       "prompt_number": 68,
       "text": [
        "array([-4,  5,  6])"
       ]
      }
     ],
     "prompt_number": 68
    },
    {
     "cell_type": "markdown",
     "metadata": {},
     "source": [
      "or just take the last element"
     ]
    },
    {
     "cell_type": "code",
     "collapsed": false,
     "input": [
      "v[-1]"
     ],
     "language": "python",
     "metadata": {},
     "outputs": [
      {
       "metadata": {},
       "output_type": "pyout",
       "prompt_number": 70,
       "text": [
        "6"
       ]
      }
     ],
     "prompt_number": 70
    },
    {
     "cell_type": "markdown",
     "metadata": {},
     "source": [
      "or the last **N** elements"
     ]
    },
    {
     "cell_type": "code",
     "collapsed": false,
     "input": [
      "v[-3:]  # the las three elements"
     ],
     "language": "python",
     "metadata": {},
     "outputs": [
      {
       "metadata": {},
       "output_type": "pyout",
       "prompt_number": 72,
       "text": [
        "array([-4,  5,  6])"
       ]
      }
     ],
     "prompt_number": 72
    },
    {
     "cell_type": "markdown",
     "metadata": {},
     "source": [
      "As we have already seen arrays are not restricted to 1 or 2 dimensions. Arrays can have many dimensions. As size increases the complexity of the **slices** also increases."
     ]
    },
    {
     "cell_type": "code",
     "collapsed": false,
     "input": [
      "c = np.array([[[ 0,  1,  2,  3], [ 4,  5,  6,  7], [ 8,  9, 10, 11]],\n",
      "       [[12, 13, 14, 15], [16, 17, 18, 19], [20, 21, 22, 23]]])\n",
      "c"
     ],
     "language": "python",
     "metadata": {},
     "outputs": [
      {
       "metadata": {},
       "output_type": "pyout",
       "prompt_number": 74,
       "text": [
        "array([[[ 0,  1,  2,  3],\n",
        "        [ 4,  5,  6,  7],\n",
        "        [ 8,  9, 10, 11]],\n",
        "\n",
        "       [[12, 13, 14, 15],\n",
        "        [16, 17, 18, 19],\n",
        "        [20, 21, 22, 23]]])"
       ]
      }
     ],
     "prompt_number": 74
    },
    {
     "cell_type": "code",
     "collapsed": false,
     "input": [
      "np.shape(c)"
     ],
     "language": "python",
     "metadata": {},
     "outputs": [
      {
       "metadata": {},
       "output_type": "pyout",
       "prompt_number": 75,
       "text": [
        "(2, 3, 4)"
       ]
      }
     ],
     "prompt_number": 75
    },
    {
     "cell_type": "code",
     "collapsed": false,
     "input": [
      "c[0]"
     ],
     "language": "python",
     "metadata": {},
     "outputs": [
      {
       "metadata": {},
       "output_type": "pyout",
       "prompt_number": 76,
       "text": [
        "array([[ 0,  1,  2,  3],\n",
        "       [ 4,  5,  6,  7],\n",
        "       [ 8,  9, 10, 11]])"
       ]
      }
     ],
     "prompt_number": 76
    },
    {
     "cell_type": "code",
     "collapsed": false,
     "input": [
      "c[0, 2]"
     ],
     "language": "python",
     "metadata": {},
     "outputs": [
      {
       "metadata": {},
       "output_type": "pyout",
       "prompt_number": 77,
       "text": [
        "array([ 8,  9, 10, 11])"
       ]
      }
     ],
     "prompt_number": 77
    },
    {
     "cell_type": "markdown",
     "metadata": {},
     "source": [
      "Let extract the zeroth elements from the second dimension (axis=1)"
     ]
    },
    {
     "cell_type": "code",
     "collapsed": false,
     "input": [
      "c[:,0]  # equivalent to c[:,0,:]"
     ],
     "language": "python",
     "metadata": {},
     "outputs": [
      {
       "metadata": {},
       "output_type": "pyout",
       "prompt_number": 78,
       "text": [
        "array([[ 0,  1,  2,  3],\n",
        "       [12, 13, 14, 15]])"
       ]
      }
     ],
     "prompt_number": 78
    },
    {
     "cell_type": "markdown",
     "metadata": {},
     "source": [
      "Let extract the first elements from the third dimension (axis=2)"
     ]
    },
    {
     "cell_type": "code",
     "collapsed": false,
     "input": [
      "c[:,:,1]"
     ],
     "language": "python",
     "metadata": {},
     "outputs": [
      {
       "metadata": {},
       "output_type": "pyout",
       "prompt_number": 79,
       "text": [
        "array([[ 1,  5,  9],\n",
        "       [13, 17, 21]])"
       ]
      }
     ],
     "prompt_number": 79
    },
    {
     "cell_type": "code",
     "collapsed": false,
     "input": [
      "c[0,:,1]"
     ],
     "language": "python",
     "metadata": {},
     "outputs": [
      {
       "metadata": {},
       "output_type": "pyout",
       "prompt_number": 80,
       "text": [
        "array([1, 5, 9])"
       ]
      }
     ],
     "prompt_number": 80
    },
    {
     "cell_type": "markdown",
     "metadata": {},
     "source": [
      "Any subset of element can be obtained from a NumPy array using, for example.\n",
      "\n",
      "* Take the zeroth element of the first dimension\n",
      "* Then, the first element of the second dimension\n",
      "* Finally all the elements in the third dimension by taking steps of 2 elements"
     ]
    },
    {
     "cell_type": "code",
     "collapsed": false,
     "input": [
      "c[0,1,::2]"
     ],
     "language": "python",
     "metadata": {},
     "outputs": [
      {
       "metadata": {},
       "output_type": "pyout",
       "prompt_number": 81,
       "text": [
        "array([4, 6])"
       ]
      }
     ],
     "prompt_number": 81
    },
    {
     "cell_type": "markdown",
     "metadata": {},
     "source": [
      "Reverse the order"
     ]
    },
    {
     "cell_type": "code",
     "collapsed": false,
     "input": [
      "c[::-1]"
     ],
     "language": "python",
     "metadata": {},
     "outputs": [
      {
       "metadata": {},
       "output_type": "pyout",
       "prompt_number": 83,
       "text": [
        "array([[[12, 13, 14, 15],\n",
        "        [16, 17, 18, 19],\n",
        "        [20, 21, 22, 23]],\n",
        "\n",
        "       [[ 0,  1,  2,  3],\n",
        "        [ 4,  5,  6,  7],\n",
        "        [ 8,  9, 10, 11]]])"
       ]
      }
     ],
     "prompt_number": 83
    },
    {
     "cell_type": "markdown",
     "metadata": {},
     "source": [
      "Another example of a complex slicing.  \n",
      "* Take the zeroth element from the first dimension\n",
      "* Then the element from the second dimension in reverse order \n",
      "* Finally the last element from the third dimension"
     ]
    },
    {
     "cell_type": "code",
     "collapsed": false,
     "input": [
      "c[0,::-1, -1]"
     ],
     "language": "python",
     "metadata": {},
     "outputs": [
      {
       "metadata": {},
       "output_type": "pyout",
       "prompt_number": 84,
       "text": [
        "array([11,  7,  3])"
       ]
      }
     ],
     "prompt_number": 84
    },
    {
     "cell_type": "markdown",
     "metadata": {},
     "source": [
      "## Array manipulation\n",
      "\n",
      "Sometimes it is convenient to change the shape of the arrays or combine two or more arrays together, for that there are several functions."
     ]
    },
    {
     "cell_type": "code",
     "collapsed": false,
     "input": [
      "c = np.arange(24).reshape(2,3,4)\n",
      "c"
     ],
     "language": "python",
     "metadata": {},
     "outputs": [
      {
       "metadata": {},
       "output_type": "pyout",
       "prompt_number": 85,
       "text": [
        "array([[[ 0,  1,  2,  3],\n",
        "        [ 4,  5,  6,  7],\n",
        "        [ 8,  9, 10, 11]],\n",
        "\n",
        "       [[12, 13, 14, 15],\n",
        "        [16, 17, 18, 19],\n",
        "        [20, 21, 22, 23]]])"
       ]
      }
     ],
     "prompt_number": 85
    },
    {
     "cell_type": "markdown",
     "metadata": {},
     "source": [
      "May be we need to delete part of our array"
     ]
    },
    {
     "cell_type": "code",
     "collapsed": false,
     "input": [
      "np.delete(c, (0,2), axis=2)"
     ],
     "language": "python",
     "metadata": {},
     "outputs": [
      {
       "metadata": {},
       "output_type": "pyout",
       "prompt_number": 86,
       "text": [
        "array([[[ 1,  3],\n",
        "        [ 5,  7],\n",
        "        [ 9, 11]],\n",
        "\n",
        "       [[13, 15],\n",
        "        [17, 19],\n",
        "        [21, 23]]])"
       ]
      }
     ],
     "prompt_number": 86
    },
    {
     "cell_type": "markdown",
     "metadata": {},
     "source": [
      "If we need to reduce our n-dimensional array to a 1D array we could use **flatten** or **ravel**."
     ]
    },
    {
     "cell_type": "code",
     "collapsed": false,
     "input": [
      "c.flatten()  # flatten is method not a function"
     ],
     "language": "python",
     "metadata": {},
     "outputs": [
      {
       "metadata": {},
       "output_type": "pyout",
       "prompt_number": 93,
       "text": [
        "array([ 0,  1,  2,  3,  4,  5,  6,  7,  8,  9, 10, 11, 12, 13, 14, 15, 16,\n",
        "       17, 18, 19, 20, 21, 22, 23])"
       ]
      }
     ],
     "prompt_number": 93
    },
    {
     "cell_type": "code",
     "collapsed": false,
     "input": [
      "c.ravel() # equivalent to np.ravel(c)"
     ],
     "language": "python",
     "metadata": {},
     "outputs": [
      {
       "metadata": {},
       "output_type": "pyout",
       "prompt_number": 94,
       "text": [
        "array([ 0,  1,  2,  3,  4,  5,  6,  7,  8,  9, 10, 11, 12, 13, 14, 15, 16,\n",
        "       17, 18, 19, 20, 21, 22, 23])"
       ]
      }
     ],
     "prompt_number": 94
    },
    {
     "cell_type": "markdown",
     "metadata": {},
     "source": [
      "### Stacking\n",
      "\n",
      "Two arrays can be combined by stacking one onto the other."
     ]
    },
    {
     "cell_type": "code",
     "collapsed": false,
     "input": [
      "d = np.arange(16).reshape(4, 4)\n",
      "e = d * 2\n",
      "print d\n",
      "print e"
     ],
     "language": "python",
     "metadata": {},
     "outputs": [
      {
       "output_type": "stream",
       "stream": "stdout",
       "text": [
        "[[ 0  1  2  3]\n",
        " [ 4  5  6  7]\n",
        " [ 8  9 10 11]\n",
        " [12 13 14 15]]\n",
        "[[ 0  2  4  6]\n",
        " [ 8 10 12 14]\n",
        " [16 18 20 22]\n",
        " [24 26 28 30]]\n"
       ]
      }
     ],
     "prompt_number": 95
    },
    {
     "cell_type": "code",
     "collapsed": false,
     "input": [
      "np.concatenate((d, e), axis=0)  # equivalent to np.vstack((d, e))"
     ],
     "language": "python",
     "metadata": {},
     "outputs": [
      {
       "metadata": {},
       "output_type": "pyout",
       "prompt_number": 96,
       "text": [
        "array([[ 0,  1,  2,  3],\n",
        "       [ 4,  5,  6,  7],\n",
        "       [ 8,  9, 10, 11],\n",
        "       [12, 13, 14, 15],\n",
        "       [ 0,  2,  4,  6],\n",
        "       [ 8, 10, 12, 14],\n",
        "       [16, 18, 20, 22],\n",
        "       [24, 26, 28, 30]])"
       ]
      }
     ],
     "prompt_number": 96
    },
    {
     "cell_type": "code",
     "collapsed": false,
     "input": [
      "np.concatenate((d, e), axis=1)  # equivalent to np.hstack((d, e))"
     ],
     "language": "python",
     "metadata": {},
     "outputs": [
      {
       "metadata": {},
       "output_type": "pyout",
       "prompt_number": 97,
       "text": [
        "array([[ 0,  1,  2,  3,  0,  2,  4,  6],\n",
        "       [ 4,  5,  6,  7,  8, 10, 12, 14],\n",
        "       [ 8,  9, 10, 11, 16, 18, 20, 22],\n",
        "       [12, 13, 14, 15, 24, 26, 28, 30]])"
       ]
      }
     ],
     "prompt_number": 97
    },
    {
     "cell_type": "markdown",
     "metadata": {},
     "source": [
      "### Splitting\n",
      "\n",
      "The inverse operation of stacking is splitting"
     ]
    },
    {
     "cell_type": "code",
     "collapsed": false,
     "input": [
      "np.split(d, 2, axis=0)"
     ],
     "language": "python",
     "metadata": {},
     "outputs": [
      {
       "metadata": {},
       "output_type": "pyout",
       "prompt_number": 98,
       "text": [
        "[array([[0, 1, 2, 3],\n",
        "        [4, 5, 6, 7]]), array([[ 8,  9, 10, 11],\n",
        "        [12, 13, 14, 15]])]"
       ]
      }
     ],
     "prompt_number": 98
    },
    {
     "cell_type": "code",
     "collapsed": false,
     "input": [
      "np.split(d, 2, axis=1)"
     ],
     "language": "python",
     "metadata": {},
     "outputs": [
      {
       "metadata": {},
       "output_type": "pyout",
       "prompt_number": 99,
       "text": [
        "[array([[ 0,  1],\n",
        "        [ 4,  5],\n",
        "        [ 8,  9],\n",
        "        [12, 13]]), array([[ 2,  3],\n",
        "        [ 6,  7],\n",
        "        [10, 11],\n",
        "        [14, 15]])]"
       ]
      }
     ],
     "prompt_number": 99
    },
    {
     "cell_type": "markdown",
     "metadata": {},
     "source": [
      "## Mathematical functions\n",
      "\n",
      "NumPy provides several mathematical functions. This could seems redundand since the Python's Standard Library already provides this type of functions. But the interesting thing is that NumPy's matemathical functions (as well as other functions) work on the whole array in an element-wise fashion.\n",
      "\n",
      "For example if we would like to compute the square root of all element in a Python list we should build a for-loop and compute the square root for each element, one at a time. With NumPy we can just doing in one line.\n",
      "\n",
      "First lets define a new array"
     ]
    },
    {
     "cell_type": "code",
     "collapsed": false,
     "input": [
      "f = np.arange(4).reshape(2, 2)\n",
      "f"
     ],
     "language": "python",
     "metadata": {},
     "outputs": [
      {
       "metadata": {},
       "output_type": "pyout",
       "prompt_number": 101,
       "text": [
        "array([[0, 1],\n",
        "       [2, 3]])"
       ]
      }
     ],
     "prompt_number": 101
    },
    {
     "cell_type": "markdown",
     "metadata": {},
     "source": [
      "and now compute the square root"
     ]
    },
    {
     "cell_type": "code",
     "collapsed": false,
     "input": [
      "np.sqrt(f)"
     ],
     "language": "python",
     "metadata": {},
     "outputs": [
      {
       "metadata": {},
       "output_type": "pyout",
       "prompt_number": 102,
       "text": [
        "array([[ 0.        ,  1.        ],\n",
        "       [ 1.41421356,  1.73205081]])"
       ]
      }
     ],
     "prompt_number": 102
    },
    {
     "cell_type": "markdown",
     "metadata": {},
     "source": [
      "Functions like _sqrt_ that operates on arrays in an element-by-element fashion are call [universal functions](http://docs.scipy.org/doc/numpy/reference/ufuncs.html) (or ufunc for short).\n",
      "\n",
      "One of the advantages of using ufuncs is that allows for shorter code. Another advantage is that computations are faster than when using a Python loop. Under the hood NumPy is still performing a loop, but the loop is done in a compiled language (C or Fortran) and even further the compiled code has been generally optimized to take advantage of vectorization routines."
     ]
    },
    {
     "cell_type": "markdown",
     "metadata": {},
     "source": [
      "Another example of a ufunc is _sum_"
     ]
    },
    {
     "cell_type": "code",
     "collapsed": false,
     "input": [
      "np.sum(f)"
     ],
     "language": "python",
     "metadata": {},
     "outputs": [
      {
       "metadata": {},
       "output_type": "pyout",
       "prompt_number": 103,
       "text": [
        "6"
       ]
      }
     ],
     "prompt_number": 103
    },
    {
     "cell_type": "markdown",
     "metadata": {},
     "source": [
      "Sometimes we don't want to sum over the flattened array but over one of it's axis."
     ]
    },
    {
     "cell_type": "code",
     "collapsed": false,
     "input": [
      "np.sum(f, axis=0)"
     ],
     "language": "python",
     "metadata": {},
     "outputs": [
      {
       "metadata": {},
       "output_type": "pyout",
       "prompt_number": 104,
       "text": [
        "array([2, 4])"
       ]
      }
     ],
     "prompt_number": 104
    },
    {
     "cell_type": "code",
     "collapsed": false,
     "input": [
      "np.sum(f, axis=1)"
     ],
     "language": "python",
     "metadata": {},
     "outputs": [
      {
       "metadata": {},
       "output_type": "pyout",
       "prompt_number": 105,
       "text": [
        "array([1, 5])"
       ]
      }
     ],
     "prompt_number": 105
    },
    {
     "cell_type": "markdown",
     "metadata": {},
     "source": [
      "The speed-gain of using ufuncs depends on several factors, typical gains could be around 1 to 3 order of magnitudes (unless you apply ufuncs to scalar instead of arrays!)."
     ]
    },
    {
     "cell_type": "code",
     "collapsed": false,
     "input": [
      "from math import sqrt\n",
      "g_arr = np.arange(0, 1000)\n",
      "g_list = range(0, 1000)"
     ],
     "language": "python",
     "metadata": {},
     "outputs": [],
     "prompt_number": 106
    },
    {
     "cell_type": "code",
     "collapsed": false,
     "input": [
      "%%timeit\n",
      "for i in g_list:\n",
      "    sqrt(i)"
     ],
     "language": "python",
     "metadata": {},
     "outputs": [
      {
       "output_type": "stream",
       "stream": "stdout",
       "text": [
        "10000 loops, best of 3: 106 \u00b5s per loop\n"
       ]
      }
     ],
     "prompt_number": 107
    },
    {
     "cell_type": "code",
     "collapsed": false,
     "input": [
      "%%timeit\n",
      "np.sqrt(g_arr)"
     ],
     "language": "python",
     "metadata": {},
     "outputs": [
      {
       "output_type": "stream",
       "stream": "stdout",
       "text": [
        "100000 loops, best of 3: 10.9 \u00b5s per loop\n"
       ]
      }
     ],
     "prompt_number": 108
    },
    {
     "cell_type": "code",
     "collapsed": false,
     "input": [
      "%%timeit\n",
      "sqrt(1)"
     ],
     "language": "python",
     "metadata": {},
     "outputs": [
      {
       "output_type": "stream",
       "stream": "stdout",
       "text": [
        "10000000 loops, best of 3: 103 ns per loop\n"
       ]
      }
     ],
     "prompt_number": 109
    },
    {
     "cell_type": "code",
     "collapsed": false,
     "input": [
      "%%timeit\n",
      "np.sqrt(1)"
     ],
     "language": "python",
     "metadata": {},
     "outputs": [
      {
       "output_type": "stream",
       "stream": "stdout",
       "text": [
        "100000 loops, best of 3: 2.77 \u00b5s per loop\n"
       ]
      }
     ],
     "prompt_number": 110
    },
    {
     "cell_type": "markdown",
     "metadata": {},
     "source": [
      "### Fancy indexing\n",
      "\n",
      "In addition to indexing by integers and slices, as we saw before, arrays can be indexed by arrays of integers and arrays of booleans. "
     ]
    },
    {
     "cell_type": "code",
     "collapsed": false,
     "input": [
      "h = np.arange(10)**2 \n",
      "h"
     ],
     "language": "python",
     "metadata": {},
     "outputs": [
      {
       "metadata": {},
       "output_type": "pyout",
       "prompt_number": 111,
       "text": [
        "array([ 0,  1,  4,  9, 16, 25, 36, 49, 64, 81])"
       ]
      }
     ],
     "prompt_number": 111
    },
    {
     "cell_type": "code",
     "collapsed": false,
     "input": [
      "idx = np.array([0,2,3,3])\n",
      "h[idx]"
     ],
     "language": "python",
     "metadata": {},
     "outputs": [
      {
       "metadata": {},
       "output_type": "pyout",
       "prompt_number": 112,
       "text": [
        "array([0, 4, 9, 9])"
       ]
      }
     ],
     "prompt_number": 112
    },
    {
     "cell_type": "code",
     "collapsed": false,
     "input": [
      "I = np.arange(9).reshape(3, 3)\n",
      "I"
     ],
     "language": "python",
     "metadata": {},
     "outputs": [
      {
       "metadata": {},
       "output_type": "pyout",
       "prompt_number": 113,
       "text": [
        "array([[0, 1, 2],\n",
        "       [3, 4, 5],\n",
        "       [6, 7, 8]])"
       ]
      }
     ],
     "prompt_number": 113
    },
    {
     "cell_type": "code",
     "collapsed": false,
     "input": [
      "idx_row = np.array([0,2])\n",
      "idx_col = np.array([1])\n",
      "\n",
      "I[idx_row, idx_col]"
     ],
     "language": "python",
     "metadata": {},
     "outputs": [
      {
       "metadata": {},
       "output_type": "pyout",
       "prompt_number": 114,
       "text": [
        "array([1, 7])"
       ]
      }
     ],
     "prompt_number": 114
    },
    {
     "cell_type": "markdown",
     "metadata": {},
     "source": [
      "We can also use and array of boolean for indexing, for example if we want to get all the values that are even, we can do:"
     ]
    },
    {
     "cell_type": "code",
     "collapsed": false,
     "input": [
      "I[I % 2 == 0]"
     ],
     "language": "python",
     "metadata": {},
     "outputs": [
      {
       "metadata": {},
       "output_type": "pyout",
       "prompt_number": 115,
       "text": [
        "array([0, 2, 4, 6, 8])"
       ]
      }
     ],
     "prompt_number": 115
    },
    {
     "cell_type": "markdown",
     "metadata": {},
     "source": [
      "And as you can check, the expression inside de brackets is a array of booleans"
     ]
    },
    {
     "cell_type": "code",
     "collapsed": false,
     "input": [
      "I % 2 == 0"
     ],
     "language": "python",
     "metadata": {},
     "outputs": [
      {
       "metadata": {},
       "output_type": "pyout",
       "prompt_number": 116,
       "text": [
        "array([[ True, False,  True],\n",
        "       [False,  True, False],\n",
        "       [ True, False,  True]], dtype=bool)"
       ]
      }
     ],
     "prompt_number": 116
    },
    {
     "cell_type": "markdown",
     "metadata": {},
     "source": [
      "## Constants\n",
      "\n",
      "Some constants like $\\pi$ and $e$ can be accessed from NumPy. If you need other constants you could probably find them at [scipy.constants](http://docs.scipy.org/doc/scipy-0.14.0/reference/constants.html)"
     ]
    },
    {
     "cell_type": "code",
     "collapsed": false,
     "input": [
      "np.pi"
     ],
     "language": "python",
     "metadata": {},
     "outputs": [
      {
       "metadata": {},
       "output_type": "pyout",
       "prompt_number": 117,
       "text": [
        "3.141592653589793"
       ]
      }
     ],
     "prompt_number": 117
    },
    {
     "cell_type": "code",
     "collapsed": false,
     "input": [
      "np.e"
     ],
     "language": "python",
     "metadata": {},
     "outputs": [
      {
       "metadata": {},
       "output_type": "pyout",
       "prompt_number": 118,
       "text": [
        "2.718281828459045"
       ]
      }
     ],
     "prompt_number": 118
    },
    {
     "cell_type": "markdown",
     "metadata": {},
     "source": [
      "## Beyond NumPy\n",
      "\n",
      "NumPy is a great library for numerical computing and we have just barely scratch the surface of what is possible to do with it. For scientific computing sometimes you will need access to numerical routines for interpolation, integration, optimization, statistics, audio and image processing, etc. Chances are big that this routines are already implemented in SciPy, a scientific computing library built on top of NumPy. As with NumPy in SciPy fast and reliable routines are implemented and is always a good idea to search if the routine you need is available in SciPy (do not waste time reinventing the wheel, unless you need a very special wheel!). SciPy is also the name of a group of related conferences for users and developers of scientific computing in python. In the following chapters we will use a very few of the whole stack of SciPy functions.\n",
      "\n",
      "If you problem is less of the numerical-crunching-physics-style of computing and more related to statistics and data analysis probably you will be better using [Pandas:](http://pandas.pydata.org/). Pandas is another library build on top of NumPy that provides easy-to-use data structures and data analysis tools. If the main part of your work involves manipulating and reshaping data, dealing with missing values, and then performing statistical analysis and data visualization Pandas is the library for you."
     ]
    },
    {
     "cell_type": "markdown",
     "metadata": {},
     "source": [
      "## Further Reading\n",
      "\n",
      "* [scientific-python-lectures](http://github.com/jrjohansson/scientific-python-lectures).\n",
      "* [Numpy](http://numpy.scipy.org)\n",
      "* http://scipy.org/Tentative_NumPy_Tutorial\n",
      "* http://scipy.org/NumPy_for_Matlab_Users\n",
      "* [NumPy's Beginners guide](https://www.packtpub.com/big-data-and-business-intelligence/numpy-beginner%E2%80%99s-guide-second-edition)\n",
      "* [Learning SciPy for Numerical and Scientific Computing](https://www.packtpub.com/big-data-and-business-intelligence/learning-scipy-numerical-and-scientific-computing)"
     ]
    }
   ],
   "metadata": {}
  }
 ]
}