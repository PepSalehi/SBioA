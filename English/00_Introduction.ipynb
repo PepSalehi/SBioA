{
 "metadata": {
  "name": "",
  "signature": "sha256:b2218fcdf4a77a4c9b76114e9ba0decb1d935f3d4ccb94dd63b22427fac74a93"
 },
 "nbformat": 3,
 "nbformat_minor": 0,
 "worksheets": [
  {
   "cells": [
    {
     "cell_type": "markdown",
     "metadata": {},
     "source": [
      "# Structural Bioinformatic Algorithms."
     ]
    },
    {
     "cell_type": "markdown",
     "metadata": {},
     "source": [
      "## About the course  "
     ]
    },
    {
     "cell_type": "markdown",
     "metadata": {},
     "source": [
      "The development of algorithms in structural bioinformatics requires knowledge in biology, physics, chemistry, mathematics and computing. Concepts from linear algebra, numerical methods and programming are usually absent in the curricula of life-sciences. This course is intended as an introduction to those topics motivated by the implementation of common/classical Structural Bioinformatics algorithms. \n",
      "\n",
      "The course's material consist of IPython notebooks and the course is mainly hands-on. I hope this format will help students to engage in the topics and most important to continue studying on their own.\n",
      "\n",
      "During the course we will visit several classic algorithms in bioinformatics. Each algorithm will be explained in conceptual terms, followed by their implementation using the Python programming language. It is a requisite for the course to be familiar with this programming language. A good introduction to Python can be found [here](http://www.greenteapress.com/thinkpython/). Any prior knowledge of scientific libraries like NumPy, SciPy, Matplotlib, etc is not required. These libraries will be presented during the course."
     ]
    },
    {
     "cell_type": "markdown",
     "metadata": {},
     "source": [
      "## Computing in science  \n",
      "\n",
      "Historically, science has been divided into experimental and theoretical knowledge (or empirism and rationalism). Consequently, a great number of studies in the philosophy of science have been dedicated to the inter-relationship of this two modes of doing science. During the last few decades computing has emerged as a very important part of science and by doing so it have disrupted this two-side view of science. \n",
      "\n",
      "Computer simulation have emerged as a [third scientific practice](http://press.uchicago.edu/ucp/books/book/chicago/S/bo9003670.html) that while is related to theoretical knowledge _is not just theory_ as involves elements from more than one theory or that are not part of any theory (like approximations, domain-knowledge-intuition an even _fictions_), and at the same time it also has many characteristics in common with experiments. After all simulations are used in general when experimental or observational data from a phenoma is sparse.\n",
      "\n",
      "Computers has also enable the storage, processing and analysis of large amount of data in what could be regarded in general terms as _computational observation_ (but people prefer names like _data science_). \n",
      "\n",
      "Nowadays an increasingly number of papers include experiments along with numerical calculations, simulations or computer modeling and almost all fields of science has now a computational branch:\n",
      "*  [Computational mathematics](https://en.wikipedia.org/wiki/Computational_mathematics)  \n",
      "* [Computational statistics](https://en.wikipedia.org/wiki/Computational_statistics)  \n",
      "* [Computational physics](https://en.wikipedia.org/wiki/Computational_physics)\n",
      "* [Computational chemistry](https://en.wikipedia.org/wiki/Computational_chemistry)\n",
      "* [Chemoinformatics](https://en.wikipedia.org/wiki/Cheminformatics)\n",
      "* [Geoinformatics](https://en.wikipedia.org/wiki/Geoinformatics)\n",
      "* [Computational biology](https://en.wikipedia.org/wiki/Computational_biology)\n",
      "* [Bioinformatics](https://en.wikipedia.org/wiki/Bioinformatics)\n",
      "* [Computational linguistics](https://en.wikipedia.org/wiki/Computational_linguistics)\n",
      "* [Computational sociology](https://en.wikipedia.org/wiki/Computational_sociology)\n",
      "  "
     ]
    },
    {
     "cell_type": "markdown",
     "metadata": {},
     "source": [
      "## Reproducible research  \n",
      "\n",
      "Reproducible Research is the idea that scientific papers must be published not only with the results and methods, but with the data (raw and processed) and the code used for analysis and/or simulation/modeling. This would facilitate the analysis and verification of results and also facilitate further progress.\n",
      "\n",
      "The scientific data and analysis are increasingly complex so simple descriptions in the style of _materials and methods_ become increasingly complicated to explain and to understand, making them unsuitable. Reducing the barriers for third parties to check the data, first would reduce fraud and will also contribute to the validation of data and published results and finally facilitate the construction of new ideas and analysis from the data and results already published.\n",
      "\n",
      "It is important to note that much of the literature the terms _replication_ and _reproducibility_ are used interchangeably and to add confusion some authors establish a difference in those terms, but some authors call _replication_ to what others call _reproducibility_  \n",
      "\n",
      "Speaking specifically of computing disciplines we can say that:\n",
      "\n",
      "* Replication: The author of a scientific article that involves numerical calculations should be able to run repeatedly simulations and analysis will always get the same (or equivalent) results. Another scientist must also be able to perform the same calculations and get the same results, given the information provided in the publication.\n",
      "\n",
      "* Reproducibility: Using an independent implementation of the method, or using a totally different method the same results as in the original publication are obtained.\n",
      "\n",
      "There are still no well-established guidelines for how it should be handled the source code, data generated (and raw data). For example, it is relatively rare that the source code used in simulations becomes available to readers along with the published article. Furthermore, it is common that the source code is regarded as a competitive advantage and therefore not made public.\n",
      "\n",
      "However, this view has begun to be questioned, some scientific publishers and individual scientist have called for greater transparency in the computational sciences. Some journals have begun to require authors to make the source and/or raw data used in publications available upon request.\n",
      "\n",
      "It is also under discussion how to facilitate the distribution of scientific software as a supplementary material.\n",
      "\n",
      "Bottom line: A solid scientific study must be reproducible, and replicable.\n",
      "\n",
      "To achieve these objectives, it is necessary:\n",
      "\n",
      "* Keep and take note of exactly which source code and version was used to produce data and figures in published papers.\n",
      "\n",
      "* Record information of the environment and which version of external software did you use.\n",
      "\n",
      "* Make sure that old codes and notes are backed up and kept for future reference.\n",
      "\n",
      "* Be ready to give additional information about the methods used, and perhaps also the simulation codes, to an interested reader who requests it (even years after the paper was published!).\n",
      "\n",
      "* Ideally code should be published online (like on github[https://github.com]), to make it easier for other scientists to access it."
     ]
    },
    {
     "cell_type": "markdown",
     "metadata": {},
     "source": [
      "## Python in science  \n",
      "\n",
      "[Python](http://www.python.org/) is a modern, general-purpose, object-oriented, high-level programming language. \n",
      "\n",
      "<img src=\"http://imgs.xkcd.com/comics/python.png\">\n",
      "\n",
      "\n",
      "* Simple language: Easy to learn, write, read and mantain.\n",
      "\n",
      "* It is open-source and free!\n",
      "\n",
      "* Documentation tightly integrated with the code.\n",
      "\n",
      "* Good performance (trough specialized libraries) due to close integration with time-tested and highly optimized codes written in C and Fortran:\n",
      "    * blas, altas blas, lapack, arpack, Intel MKL, ...\n",
      "\n",
      "* Large community of users, easy to find help and documentation. eg [StackOverflow](stackoverflow.com).\n",
      "\n",
      "* Python has already an strong position in scientific computing\n",
      "\n",
      "* Extensive ecosystem of scientific libraries and environments\n",
      "    * [Numpy:](http://numpy.scipy.org) - Numeric Python\n",
      "    * [Scipy:](http://www.scipy.org) -  Scientific Python\n",
      "    * [Matplotlib:](http://www.matplotlib.org) - Scientific plots\n",
      "    * [Seaborn:](http://web.stanford.edu/~mwaskom/software/seaborn/) - Attractive statistical graphics (based on Matplotlib)\n",
      "    * [Ipython:](http://ipython.org/) - Interactive Computing\n",
      "    * [Pandas:](http://pandas.pydata.org/) - Data Analysis\n",
      "    * [PyMC:](http://pymc-devs.github.io) - Bayesian Statistics\n",
      "    * [Scikit-learn:](http://scikit-learn.org/) - Machine Learning \n",
      "    * [Statsmodels:](http://statsmodels.sourceforge.net/) Statistics ( complements SciPy)\n",
      "    * _Insert your favorite package here_  "
     ]
    },
    {
     "cell_type": "markdown",
     "metadata": {},
     "source": [
      "### IPython  \n",
      "\n",
      "[IPython](http://ipython.org/)  is a command shell for interactive computing. It was originnaly developed for the Python programing language (and hence the name), but now supports multiple programming languages. Including for example Julia. Furthermore IPython allows to easily combines Python code with Cython, R, Octave, Bash, Perl or Ruby. Recently the [Jupyter-Project](http://jupyter.org/) has been proposed as the next step in the development of IPython."
     ]
    },
    {
     "cell_type": "markdown",
     "metadata": {},
     "source": [
      "### IPython notebook  \n",
      "\n",
      "[IPython notebook](http://ipython.org/notebook.html) is what you are reading right now and is an HTML-javascript-based environment. An IPython notebook is a [JSON](https://en.wikipedia.org/wiki/JSON) document containing an ordered list of input/output cells which can contain code, text, mathematical formulas, plots and rich media. It is based on the IPython shell and provides an interactive environment to coding and to document all calculations facilitating reproducible research.\n",
      "\n",
      "Some of the most important features of IPython notebooks are:\n",
      "\n",
      "* Tab completion\n",
      "* Support for Markdown \n",
      "* Support for Mathjax\n",
      "* Magic functions\n",
      "* Enhanced introspection\n",
      "* Support for rich media\n",
      "* Access to the system shell"
     ]
    },
    {
     "cell_type": "markdown",
     "metadata": {},
     "source": [
      "#### Tab completion \n"
     ]
    },
    {
     "cell_type": "markdown",
     "metadata": {},
     "source": [
      "Tab completion works for python commands (including imported libraries), variable names, objects' atributes and file/directory names. If there is more than one option a list of possible completions is offered."
     ]
    },
    {
     "cell_type": "code",
     "collapsed": false,
     "input": [],
     "language": "python",
     "metadata": {},
     "outputs": [],
     "prompt_number": 0
    },
    {
     "cell_type": "markdown",
     "metadata": {},
     "source": [
      "#### Support for Markdown\n",
      "\n",
      "[Markdown](http://daringfireball.net/projects/markdown/) is a popular markup language that is a superset of HTML. If you pay attention to the toolbar you will see that some of the cells are marked as _code_ and others as _markdown_ (like this one). Just doble click on any of the _markdown cells_ and you will see that they are writted using markdown."
     ]
    },
    {
     "cell_type": "markdown",
     "metadata": {},
     "source": [
      "#### Mathjax  \n",
      "\n",
      "Mathjax is a javascript implementation of $LaTeX$ that allows equations to be embedded into HTML.\n",
      "\n",
      "$$\n",
      "\\int_{a}^{b} f(x)\\, dx \\approx \\frac{1}{2} \\sum_{k=1}^{N} \\left( x_{k} - x_{k-1} \\right) \\left( f(x_{k}) + f(x_{k-1}) \\right).\n",
      "$$"
     ]
    },
    {
     "cell_type": "markdown",
     "metadata": {},
     "source": [
      "#### Magic functions  \n",
      "\n",
      "IPython has a set of predefined _magic functions_ that you can call with a command line style syntax. \n",
      "\n",
      "There are two types of magics\n",
      "\n",
      "* line magics: these are commands prepended by one **%** character and whose arguments only extend to the end of the current line.\n",
      "* cell magics: They are call using **%%**, and they receive as argument both the current line where they are declared and the whole cell. Cell magics can only be used as the first line in a cell, and as a general principle you can only use one cell magic per cell.\n",
      "    \n",
      "As an example the  **%lsmagic** lists all the available magics."
     ]
    },
    {
     "cell_type": "code",
     "collapsed": false,
     "input": [
      "%lsmagic"
     ],
     "language": "python",
     "metadata": {},
     "outputs": [
      {
       "json": [
        "{\"cell\": {\"prun\": \"ExecutionMagics\", \"file\": \"Other\", \"!\": \"OSMagics\", \"capture\": \"ExecutionMagics\", \"timeit\": \"ExecutionMagics\", \"script\": \"ScriptMagics\", \"pypy\": \"Other\", \"system\": \"OSMagics\", \"perl\": \"Other\", \"HTML\": \"Other\", \"bash\": \"Other\", \"python\": \"Other\", \"SVG\": \"Other\", \"javascript\": \"DisplayMagics\", \"writefile\": \"OSMagics\", \"ruby\": \"Other\", \"python3\": \"Other\", \"python2\": \"Other\", \"latex\": \"DisplayMagics\", \"sx\": \"OSMagics\", \"svg\": \"DisplayMagics\", \"html\": \"DisplayMagics\", \"sh\": \"Other\", \"time\": \"ExecutionMagics\", \"debug\": \"ExecutionMagics\"}, \"line\": {\"psource\": \"NamespaceMagics\", \"logstart\": \"LoggingMagics\", \"popd\": \"OSMagics\", \"loadpy\": \"CodeMagics\", \"install_ext\": \"ExtensionMagics\", \"colors\": \"BasicMagics\", \"who_ls\": \"NamespaceMagics\", \"lf\": \"Other\", \"install_profiles\": \"DeprecatedMagics\", \"ll\": \"Other\", \"pprint\": \"BasicMagics\", \"lk\": \"Other\", \"ls\": \"Other\", \"save\": \"CodeMagics\", \"tb\": \"ExecutionMagics\", \"lx\": \"Other\", \"pylab\": \"PylabMagics\", \"killbgscripts\": \"ScriptMagics\", \"quickref\": \"BasicMagics\", \"magic\": \"BasicMagics\", \"dhist\": \"OSMagics\", \"edit\": \"KernelMagics\", \"logstop\": \"LoggingMagics\", \"gui\": \"BasicMagics\", \"alias_magic\": \"BasicMagics\", \"debug\": \"ExecutionMagics\", \"page\": \"BasicMagics\", \"logstate\": \"LoggingMagics\", \"ed\": \"Other\", \"pushd\": \"OSMagics\", \"timeit\": \"ExecutionMagics\", \"rehashx\": \"OSMagics\", \"hist\": \"Other\", \"qtconsole\": \"KernelMagics\", \"rm\": \"Other\", \"dirs\": \"OSMagics\", \"run\": \"ExecutionMagics\", \"reset_selective\": \"NamespaceMagics\", \"rep\": \"Other\", \"pinfo2\": \"NamespaceMagics\", \"matplotlib\": \"PylabMagics\", \"unload_ext\": \"ExtensionMagics\", \"doctest_mode\": \"KernelMagics\", \"logoff\": \"LoggingMagics\", \"reload_ext\": \"ExtensionMagics\", \"pdb\": \"ExecutionMagics\", \"load\": \"CodeMagics\", \"lsmagic\": \"BasicMagics\", \"autosave\": \"KernelMagics\", \"cd\": \"OSMagics\", \"pastebin\": \"CodeMagics\", \"prun\": \"ExecutionMagics\", \"cp\": \"Other\", \"autocall\": \"AutoMagics\", \"bookmark\": \"OSMagics\", \"connect_info\": \"KernelMagics\", \"mkdir\": \"Other\", \"system\": \"OSMagics\", \"whos\": \"NamespaceMagics\", \"rmdir\": \"Other\", \"automagic\": \"AutoMagics\", \"store\": \"StoreMagics\", \"more\": \"KernelMagics\", \"pdef\": \"NamespaceMagics\", \"precision\": \"BasicMagics\", \"pinfo\": \"NamespaceMagics\", \"pwd\": \"OSMagics\", \"psearch\": \"NamespaceMagics\", \"reset\": \"NamespaceMagics\", \"recall\": \"HistoryMagics\", \"xdel\": \"NamespaceMagics\", \"xmode\": \"BasicMagics\", \"cat\": \"Other\", \"mv\": \"Other\", \"rerun\": \"HistoryMagics\", \"logon\": \"LoggingMagics\", \"history\": \"HistoryMagics\", \"pycat\": \"OSMagics\", \"unalias\": \"OSMagics\", \"install_default_config\": \"DeprecatedMagics\", \"env\": \"OSMagics\", \"load_ext\": \"ExtensionMagics\", \"config\": \"ConfigMagics\", \"profile\": \"BasicMagics\", \"pfile\": \"NamespaceMagics\", \"less\": \"KernelMagics\", \"who\": \"NamespaceMagics\", \"notebook\": \"BasicMagics\", \"man\": \"KernelMagics\", \"sx\": \"OSMagics\", \"macro\": \"ExecutionMagics\", \"clear\": \"KernelMagics\", \"alias\": \"OSMagics\", \"time\": \"ExecutionMagics\", \"sc\": \"OSMagics\", \"ldir\": \"Other\", \"pdoc\": \"NamespaceMagics\"}}"
       ],
       "metadata": {},
       "output_type": "pyout",
       "prompt_number": 1,
       "text": [
        "Available line magics:\n",
        "%alias  %alias_magic  %autocall  %automagic  %autosave  %bookmark  %cat  %cd  %clear  %colors  %config  %connect_info  %cp  %debug  %dhist  %dirs  %doctest_mode  %ed  %edit  %env  %gui  %hist  %history  %install_default_config  %install_ext  %install_profiles  %killbgscripts  %ldir  %less  %lf  %lk  %ll  %load  %load_ext  %loadpy  %logoff  %logon  %logstart  %logstate  %logstop  %ls  %lsmagic  %lx  %macro  %magic  %man  %matplotlib  %mkdir  %more  %mv  %notebook  %page  %pastebin  %pdb  %pdef  %pdoc  %pfile  %pinfo  %pinfo2  %popd  %pprint  %precision  %profile  %prun  %psearch  %psource  %pushd  %pwd  %pycat  %pylab  %qtconsole  %quickref  %recall  %rehashx  %reload_ext  %rep  %rerun  %reset  %reset_selective  %rm  %rmdir  %run  %save  %sc  %store  %sx  %system  %tb  %time  %timeit  %unalias  %unload_ext  %who  %who_ls  %whos  %xdel  %xmode\n",
        "\n",
        "Available cell magics:\n",
        "%%!  %%HTML  %%SVG  %%bash  %%capture  %%debug  %%file  %%html  %%javascript  %%latex  %%perl  %%prun  %%pypy  %%python  %%python2  %%python3  %%ruby  %%script  %%sh  %%svg  %%sx  %%system  %%time  %%timeit  %%writefile\n",
        "\n",
        "Automagic is ON, % prefix IS NOT needed for line magics."
       ]
      }
     ],
     "prompt_number": 1
    },
    {
     "cell_type": "markdown",
     "metadata": {},
     "source": [
      "Sometimes it is necessary to measure the execution time of a code that can be used for magic **timeit**. This magic exists for cells and lines."
     ]
    },
    {
     "cell_type": "code",
     "collapsed": false,
     "input": [
      "%timeit range(0, 100)"
     ],
     "language": "python",
     "metadata": {},
     "outputs": [
      {
       "output_type": "stream",
       "stream": "stdout",
       "text": [
        "1000000 loops, best of 3: 831 ns per loop\n"
       ]
      }
     ],
     "prompt_number": 2
    },
    {
     "cell_type": "markdown",
     "metadata": {},
     "source": [
      "As already told IPython allows mixing python code with other languages like bash"
     ]
    },
    {
     "cell_type": "code",
     "collapsed": false,
     "input": [
      "%%bash\n",
      "for i in {3..1}; do\n",
      "    echo $i\n",
      "done\n",
      "echo \"hello from $BASH\""
     ],
     "language": "python",
     "metadata": {},
     "outputs": [
      {
       "output_type": "stream",
       "stream": "stdout",
       "text": [
        "3\n",
        "2\n",
        "1\n",
        "hello from /bin/bash\n"
       ]
      }
     ],
     "prompt_number": 3
    },
    {
     "cell_type": "code",
     "collapsed": false,
     "input": [
      "# Provides a quick reference to IPython\n",
      "%quickref"
     ],
     "language": "python",
     "metadata": {},
     "outputs": [],
     "prompt_number": 4
    },
    {
     "cell_type": "markdown",
     "metadata": {},
     "source": [
      "#### Enhanced introspection\n",
      "\n",
      "If you need information about any command you could get it by adding a _?_ after the name of the command. If you need even more information, including acces to the source code you could try adding _??_. The commands could be from the Python standard library function, IPython magics, or commands from any imported library."
     ]
    },
    {
     "cell_type": "code",
     "collapsed": false,
     "input": [
      "range?"
     ],
     "language": "python",
     "metadata": {},
     "outputs": [],
     "prompt_number": 5
    },
    {
     "cell_type": "code",
     "collapsed": false,
     "input": [
      "%timeit??"
     ],
     "language": "python",
     "metadata": {},
     "outputs": [],
     "prompt_number": 6
    },
    {
     "cell_type": "code",
     "collapsed": false,
     "input": [
      "?"
     ],
     "language": "python",
     "metadata": {},
     "outputs": [],
     "prompt_number": 7
    },
    {
     "cell_type": "markdown",
     "metadata": {},
     "source": [
      "#### Support for rich media\n",
      "IPython use the web browser as a GUI, hence it can easily display images, videos, etc.\n",
      "\n",
      "One way to include media files in a notebook is to use pure HTML, another way is to use the IPython's rich display system as follows."
     ]
    },
    {
     "cell_type": "code",
     "collapsed": false,
     "input": [
      "from IPython.display import Image, YouTubeVideo"
     ],
     "language": "python",
     "metadata": {},
     "outputs": [],
     "prompt_number": 8
    },
    {
     "cell_type": "code",
     "collapsed": false,
     "input": [
      "Image(filename='img/logo.png')"
     ],
     "language": "python",
     "metadata": {},
     "outputs": [
      {
       "metadata": {},
       "output_type": "pyout",
       "png": "[encoded data removed]",
       "prompt_number": 9,
       "text": [
        "<IPython.core.display.Image at 0x7fe1cdee9410>"
       ]
      }
     ],
     "prompt_number": 9
    },
    {
     "cell_type": "code",
     "collapsed": false,
     "input": [
      "YouTubeVideo('zJM4EBuL82o')"
     ],
     "language": "python",
     "metadata": {},
     "outputs": [
      {
       "html": [
        "\n",
        "        <iframe\n",
        "            width=\"400\"\n",
        "            height=300\"\n",
        "            src=\"https://www.youtube.com/embed/zJM4EBuL82o\"\n",
        "            frameborder=\"0\"\n",
        "            allowfullscreen\n",
        "        ></iframe>\n",
        "        "
       ],
       "metadata": {},
       "output_type": "pyout",
       "prompt_number": 10,
       "text": [
        "<IPython.lib.display.YouTubeVideo at 0x7fe1cd67a8d0>"
       ]
      }
     ],
     "prompt_number": 10
    },
    {
     "cell_type": "markdown",
     "metadata": {},
     "source": [
      "#### Access to the system shell\n",
      "\n",
      "It is possible to have access to the system shell by prepending an exclamation point _!_ to a shell command."
     ]
    },
    {
     "cell_type": "code",
     "collapsed": false,
     "input": [
      "!ls -lh"
     ],
     "language": "python",
     "metadata": {},
     "outputs": [
      {
       "output_type": "stream",
       "stream": "stdout",
       "text": [
        "total 2,2M\r\n",
        "-rw-rw-r-- 1 osvaldo osvaldo  38K ene 19 10:51 00_Introduction.ipynb\r\n",
        "-rw-rw-r-- 1 osvaldo osvaldo  55K ene 18 13:28 01_NumPy_introduction.ipynb\r\n",
        "-rw-rw-r-- 1 osvaldo osvaldo 186K ene 18 13:30 02_Primer_on_Linear_Algebra.ipynb\r\n",
        "-rw-rw-r-- 1 osvaldo osvaldo 207K ene 18 13:30 03_Distances_angles_and_geometry.ipynb\r\n",
        "-rw-rw-r-- 1 osvaldo osvaldo 115K ene 18 13:31 04_Comparing_structures.ipynb\r\n",
        "-rw-rw-r-- 1 osvaldo osvaldo 181K ene 10 16:49 05_Sequence_alignment_and_clustering.ipynb\r\n",
        "-rw-rw-r-- 1 osvaldo osvaldo  95K ene  8 12:16 06_Protein_and_RNA_structure_from_sequence.ipynb\r\n",
        "-rw-rw-r-- 1 osvaldo osvaldo  85K ene  9 21:24 07_Local_and_global_optimization_methods.ipynb\r\n",
        "-rw-rw-r-- 1 osvaldo osvaldo 990K dic 23 20:28 1D3Z_full.pdb\r\n",
        "-rw-rw-r-- 1 osvaldo osvaldo  98K dic 22 10:54 1D3Z.pdb\r\n",
        "-rw-rw-r-- 1 osvaldo osvaldo  78K oct 29 15:22 1UBQ.pdb\r\n",
        "drwxrwxr-x 2 osvaldo osvaldo 4,0K ene 19 10:51 bk\r\n",
        "drwx------ 2 osvaldo osvaldo 4,0K ene 16 13:32 img\r\n",
        "drwxrwxr-x 2 osvaldo osvaldo 4,0K ene  7 21:23 PDFs\r\n"
       ]
      }
     ],
     "prompt_number": 11
    },
    {
     "cell_type": "code",
     "collapsed": false,
     "input": [
      "!pwd"
     ],
     "language": "python",
     "metadata": {},
     "outputs": [
      {
       "output_type": "stream",
       "stream": "stdout",
       "text": [
        "/home/osvaldo/Documentos/Code/0_Bio_struc/SBioA/English\r\n"
       ]
      }
     ],
     "prompt_number": 12
    },
    {
     "cell_type": "code",
     "collapsed": false,
     "input": [
      "! head 1D3Z.pdb"
     ],
     "language": "python",
     "metadata": {},
     "outputs": [
      {
       "output_type": "stream",
       "stream": "stdout",
       "text": [
        "ATOM      1  N   MET A   1      52.923 -90.016   8.509  1.00  9.67           N  \r\n",
        "ATOM      2  CA  MET A   1      51.653 -89.304   8.833  1.00 10.38           C  \r\n",
        "ATOM      3  C   MET A   1      50.851 -89.086   7.556  1.00  9.62           C  \r\n",
        "ATOM      4  O   MET A   1      51.414 -89.033   6.462  1.00  9.62           O  \r\n",
        "ATOM      5  CB  MET A   1      51.976 -87.958   9.485  1.00 13.77           C  \r\n",
        "ATOM      6  CG  MET A   1      52.864 -87.131   8.557  1.00 16.29           C  \r\n",
        "ATOM      7  SD  MET A   1      53.355 -85.606   9.403  1.00 17.17           S  \r\n",
        "ATOM      8  CE  MET A   1      53.359 -84.524   7.954  1.00 16.11           C  \r\n",
        "ATOM      9  H1  MET A   1      52.721 -91.019   8.328  1.00  0.00           H  \r\n",
        "ATOM     10  H2  MET A   1      53.581 -89.933   9.311  1.00  0.00           H  \r\n"
       ]
      }
     ],
     "prompt_number": 13
    },
    {
     "cell_type": "markdown",
     "metadata": {},
     "source": [
      "## Algorithms  \n",
      "\n",
      "An algorithm is a precise and finite sequence of steps designed to solve a problem. According to this definition daily-things like recipes are algorithms. While this is true is important to note that it is possible to formally describe and study algorithm, and that is one of the jobs of computer science. \n",
      "\n",
      "Many books on algorithms use pseudocode to describe algorithms, \n",
      "pseudocode is useful because provides a rigorous language to describe algorithms and at the same time omits details that are necessary to write a working code in some specific programming language. In this course we will not use pseudocode we will use Python. After all this is not a _algorithms' book_ and as some people say: Python is executable pseudocode!"
     ]
    },
    {
     "cell_type": "markdown",
     "metadata": {},
     "source": [
      "### How to write and algorithm    \n",
      "\n",
      "Probably most problems can be solved following 5 steps (easier said than done!)\n",
      "\n",
      "1. Identify a problem and formulate it in a precise way.  \n",
      "2. Draft a solution/algorithm.  \n",
      "3. Implement the solution/algorithm.  \n",
      "4. Evaluate the results.  This generally involves answering the questions: _Does it work correctly?_ and _How long will it take?_). \n",
      "5. Iterate from 2 trough 4 until a correct (or acceptable) answer is obtained. Sometimes it will be necessary to go to 1 and redefine the problem.  \n",
      "\n",
      "Regarding point 4, sometimes it is also worth to ask yourself if the code is clear and well documented, while this will not necessary affect the results of the computation it will help others to understand your code (and may be to find bugs or improve the code). Often, the other will be yourself in the future, so try to be clean and clear (comments are good, and good comments are even better!).\n",
      "\n",
      "And remember when in doubt, be Zen!"
     ]
    },
    {
     "cell_type": "code",
     "collapsed": false,
     "input": [
      "import this"
     ],
     "language": "python",
     "metadata": {},
     "outputs": [
      {
       "output_type": "stream",
       "stream": "stdout",
       "text": [
        "The Zen of Python, by Tim Peters\n",
        "\n",
        "Beautiful is better than ugly.\n",
        "Explicit is better than implicit.\n",
        "Simple is better than complex.\n",
        "Complex is better than complicated.\n",
        "Flat is better than nested.\n",
        "Sparse is better than dense.\n",
        "Readability counts.\n",
        "Special cases aren't special enough to break the rules.\n",
        "Although practicality beats purity.\n",
        "Errors should never pass silently.\n",
        "Unless explicitly silenced.\n",
        "In the face of ambiguity, refuse the temptation to guess.\n",
        "There should be one-- and preferably only one --obvious way to do it.\n",
        "Although that way may not be obvious at first unless you're Dutch.\n",
        "Now is better than never.\n",
        "Although never is often better than *right* now.\n",
        "If the implementation is hard to explain, it's a bad idea.\n",
        "If the implementation is easy to explain, it may be a good idea.\n",
        "Namespaces are one honking great idea -- let's do more of those!\n"
       ]
      }
     ],
     "prompt_number": 14
    },
    {
     "cell_type": "markdown",
     "metadata": {},
     "source": [
      "### Code Optimization   \n",
      "\n",
      "Spending time on optimization, in general, is only a good idea if we really (really) need fast computations. A good rule of thumb is to always start with a simple function that is easy to understand and write, test the function in order to be sure is working as expected and then, and only if the function is *slow for our purposes* invest time into optimization. \n",
      "\n",
      "Most of the algorithms we will discuss in this course are implemented in a way that is easy to understand, probably for most of them there is room for optimization."
     ]
    },
    {
     "cell_type": "markdown",
     "metadata": {},
     "source": [
      "### Big-O Notation  \n",
      "\n",
      "Algorithms are supposed to be platform-independent _i.e._ they can be implemented in any programming language on an arbitrary computer running whatever operating system you prefer. Hence, how do you measure and compare for example the speed of an algorithm if the speed depends on external factors?  \n",
      "\n",
      "One useful and practical solution is to measure the running time in terms of the input size, this can be done using the [_Big-O_ notation](https://en.wikipedia.org/wiki/Big_O_notation). For example,  if the running time of an algorithm is $\\mathcal{O}(n^2)$ it means that increasing the input one unit will increase the running time of the algorithm by a quadratic factor. Notice that this notation does not indicates the exact increase in time, because all constants have been removed (you don't know if the function is $42n^2$, or $1000n^2$). \n",
      "\n",
      "Additionally the _Big-O_ notation describes an upper-bound (worse-case scenario). Following the above example the only thing you know is that the running time does not grow faster than $n^2$.  As an example, the  sorting algorithm Bubblesort have complexity $\\mathcal{O}(n^2)$ (there are faster sorting algorithms), but if the input is already sorted the running time is $\\mathcal{O}(n)$. Since generally we want to sort unsorted items it is a better idea to report the upper-bound."
     ]
    },
    {
     "cell_type": "markdown",
     "metadata": {},
     "source": [
      "## P vs NP  \n",
      "\n",
      "The P versus NP problem is a major unsolved problem in computer science. Informally, it asks whether every problem whose solution can be _efficiently_ verified by a computer can also be _efficiently_ solved by a computer.\n",
      "\n",
      "In this context _efficiently_ means in polynomial time ($\\mathcal{O}(n^k)$ $k$ being a natural number) and problems with polynomial time solutions are known as class $P$ or simple $P$.\n",
      "\n",
      "For some problems, there is not known way to find an answer in polynomial time, but if we know the solution, it may be possible to verify that the solution is correct in polynomial time. This class of problems are called $NP$.\n",
      "\n",
      "So $P = NP$ means that for every problem that has an efficiently verifiable solution, we can also find that solution efficiently.\n",
      "\n",
      "A third important category of problems are called $NP$-hard. NP-hard are a type of problems which are at least as hard as the hardest problems in NP, not all NP-hard problems are elements of NP.\n",
      "\n",
      "If a problem is $NP$-hard and in NP, then it belongs to the class called $NP$-complete. These are are the very hardest $NP$ problems, no one has found a polynomial-time algorithm that could solve any of these problems. The most famous $NP$-complete problem is the [Traveling Salesman](https://en.wikipedia.org/wiki/Travelling_salesman_problem) problem. An efficient solution to any $NP$-complete problem would imply $P = NP$ and an efficient solution to every $NP$-complete problem. Notice that as $NP$-hard are not necessary in NP if $P = NP$ does not necessary implies that NP-hard problems can be solved in polynomial time.\n",
      "\n",
      "Whether $P = NP$ or $P \\neq NP$ is a problem that goes beyond theoretical academic issues. As science (and other aspects of our lives) rely more and more on computers, the $P$ versus $NP$ has became an important question for a lot of disciplines.\n",
      "\n",
      "Some $NP$-complete problems, in the bioinformatic field.\n",
      "\n",
      "* Protein folding (at least formulated using a 2D or 3D HP-model)  \n",
      "* Protein design  \n",
      "* Finding optimal protein threading procedures  \n",
      "* Multiple sequence alignment problem  \n",
      "* Assembling a collection of DNA fragments in a single sequence from a set of fragments  \n",
      "\n",
      "It is worth noting that proving that a problem is $NP$-hard, and not just superficially difficult, is not a trivial task. In fact, for a lot of  bioinformatics problems we don't know if they are $NP$-hard.  \n",
      "\n",
      "What would implies that $P = NP$? Well from the practical point of view nothing, unless we also find an algorithm for solving $NP$-complete problems. In that case cryptography could become impossible (and with that secure Internet transactions). On the bright side all the $NP$-complete optimization problems could become tractable, a lot of bioinformatics problem will be much more efficient and also a lot of problem in our daily-lives, from optimization of transportation to the design of new material and the weather and climate predictions.\n",
      "\n",
      "Unfortunately (or fortunately, that depends!) it is widely believed that $P \\neq NP$. \n",
      "\n",
      "So, if a lot of interesting and useful problem are $NP$-complete (or we suspect that), what can be done to solve them. We should wait (and hope) that someone proves $P = NP$, to solve them? Well, no. First of all because all the theory behind $NP$-completeness describes how algorithms perform on the worst-case scenario. However, instances of the problems that we found in practice could be easier to solve. Also, for a lot of problems we could use approximate solutions or we can use previous knowledge and various heuristics to solve $NP$-complete problems.\n",
      "\n",
      "Here I have very briefly discussed the subject of $P$ vs $NP$. But it is important to have in mind that this is a really difficult problem and even computer scientist and mathematicians who have study it for years think they do not fully understand it. So, if you really want to understand this subject it would be wisely to keep reading about it."
     ]
    },
    {
     "cell_type": "markdown",
     "metadata": {},
     "source": [
      "### Algorithm Design Techniques  \n",
      "\n",
      "Different algorithms applied to very different problems often have recurrent patterns. It seems likely that there are only a few useful basic techniques for solving problems. The most common types of algorithms are:\n",
      "\n",
      "#### Brute force   \n",
      "\n",
      "This type of algorithms are the simplest one and consists on examining all the possibilities.\n",
      "If you want to use brute force to find the lowest energy conformation of a molecule (like in protein folding), you will list every possible conformation, compute its energy and choose as the solution the one with the lowest energy. This method guarantee that you will found the correct solution (_i.e_ the lowest energy conformation, of course you will need a very fast computer (or a longer-lasting universe), as the [Levinthal paradox](https://en.wikipedia.org/wiki/Levinthal%27s_paradox) warns us.\n",
      "\n",
      "#### Pruning (or Branch-and-Bound) Algorithms  \n",
      "\n",
      "This type of algorithm is a modification of the brute force one. And is based on the observation that for many problems it is possible to rule out wrong solutions even without computing them.\n",
      "\n",
      "Instead of enumerating **all** possible conformations of a molecule we will eliminate those that are unrealistic. For example, the moment we get atoms that overlaps we discard that conformation (and implicitly all conformations that derive from this one). This could dramatically reduce the searched space.\n",
      "\n",
      "#### Greedy Algorithms  \n",
      "\n",
      "Algorithms, such as persons, can be greedy, but unlike persons greedy algorithm could sometimes be something good.\n",
      "In our quest of the lowest energy conformation we will start from a conformation, measure its energy and then perturb that conformation and measure the energy again. We will accept the new conformation only if the energy is lower than the previous one. Of course, one problem with this solution is that the solution is sensitive to the previous accepted solution. Nevertheless for some problems a greedy algorithm provides the optimal solution or at least a very good (and fast) approximation.\n",
      "\n",
      "#### Divide-and-Conquer Algorithms  \n",
      "\n",
      "These algorithms rely on the observation that sometimes a hard problem is easier if first we divide it into subproblems, solve the subproblem individually and then combine the solution of the problem into a solution of the original problem.\n",
      "A divide and conquer approach to protein folding could be to recursively fold first small regions of the protein (e.g. secondary structures elements) and then try to obtain the 3D structure by combining the folded small regions.\n",
      "\n",
      "#### Dynamic Programming  \n",
      "\n",
      "As in the case of divide and conquer algorithms, dynamic programing is based on the insight that some problems can be solved by breaking them in subproblems, if this is done in a naive way it is often the case that we end up solving the same subproblem many times. This is of course a waste of time and resources. Dynamic programming is a clever way to solve problems by breaking them down into simpler subproblems, solves each subproblem only once, and then use the answer of the subproblems to build the solution of the original problem.\n",
      "We will discuss this technique in chapter 5, when solving the sequence alignment problem. \n",
      "\n",
      "#### Knowlegde-based algorithms  \n",
      "\n",
      "In this category I am including any method that use statistical knowledge to solve a problem.\n",
      "This technique has been extensively used in bioinformatics. For example, to fold a protein we could first collect the probability of each amino acid to have a particular combination of $phi$ and $psi$ angles (i.e. the ramachandran plot) and then use those probabilities to sample the conformational space. In chapter 7 we will briefly discuss this approximation in order to build force fields (aka scoring functions).\n",
      "\n",
      "#### Randomized Algorithms  \n",
      "\n",
      "The basic idea of these type of algorithms is to use random numbers (or more generally pseudo-random numbers) to solve problems.\n",
      "The well-know and extendenly used [Monte Carlo methods](https://en.wikipedia.org/wiki/Monte_Carlo_method), belong to this class of algorithms. Another type of algorithm that is also not-deterministic are the genetic algorithms. We will discuss both of them in chapter 7."
     ]
    },
    {
     "cell_type": "markdown",
     "metadata": {},
     "source": [
      "### Further Reading\n",
      "\n",
      "This _notebook_ is based on:\n",
      "* [Scientific Computing withPython](http://nbviewer.ipython.org/github/jrjohansson/scientific-python-lectures/blob/master/Lecture-0-Scientific-Computing-with-Python.ipynb)\n",
      "* [Reproducible Research and Reporting with iPython Notebooks](http://nbviewer.ipython.org/gist/fonnesbeck/5289662)\n",
      "\n",
      "#### Reproducible Research\n",
      " * [Reproducible Research in Computational Science](http://dx.doi.org/10.1126/science.1213847) \n",
      " * [Shining Light into Black Boxes](http://dx.doi.org/10.1126/science.1218263)  \n",
      " * [The case for open computer programs](http://dx.doi.org/doi:10.1038/nature10836) \n",
      " * [Replicability is not Reproducibility: Nor is it Good Science](http://www.google.com.ar/url?sa=t&rct=j&q=&esrc=s&source=web&cd=4&cad=rja&uact=8&ved=0CDoQFjAD&url=http%3A%2F%2Fcogprints.org%2F7691%2F7%2Ficmlws09.pdf&ei=WgrZU-jSKJXJsQTSnoLwBg&usg=AFQjCNGwQFIVFiH7kcmq7Co2FYdbbLh5NQ&bvm=bv.71778758,bs.1,d.cWc)  \n",
      " * [Ten simple rules for reproducible research](http://www.ploscompbiol.org/article/info%3Adoi%2F10.1371%2Fjournal.pcbi.1003285)  \n",
      " * [Challenges in irreproducible research](http://www.nature.com/nature/focus/reproducibility/) \n",
      "\n",
      "#### Python\n",
      " * [Python](http://www.python.org)\n",
      " * [Think Python](http://www.greenteapress.com/thinkpython/)\n",
      " * [Pyvideo](http://pyvideo.org/)\n",
      "\n",
      "#### Algorithms  \n",
      "* [An Introduction to Bioinformatics Algorithms](http://www.amazon.com/Introduction-Bioinformatics-Algorithms-Computational-Molecular/dp/0262101068)  \n",
      "* [Algorithms in a Nutshell](http://shop.oreilly.com/product/9780596516246.do)\n",
      "* [Python Algorithms: Mastering Basic Algorithms in the Python Language](http://www.amazon.com/Python-Algorithms-Mastering-Language-Experts/dp/1430232374)"
     ]
    }
   ],
   "metadata": {}
  }
 ]
}