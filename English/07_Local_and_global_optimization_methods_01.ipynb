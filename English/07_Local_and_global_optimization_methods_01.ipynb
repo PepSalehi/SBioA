{
 "metadata": {
  "name": "",
  "signature": "sha256:46fe48a61eaf539a088f476097d19edbd6f2deac2e9df97558111b410d699c40"
 },
 "nbformat": 3,
 "nbformat_minor": 0,
 "worksheets": [
  {
   "cells": [
    {
     "cell_type": "markdown",
     "metadata": {},
     "source": [
      "# Energy computation and local and global optimization methods"
     ]
    },
    {
     "cell_type": "code",
     "collapsed": false,
     "input": [
      "% matplotlib inline\n",
      "import sys, pymol\n",
      "from pymol import cmd, stored\n",
      "stdout = sys.stdout\n",
      "pymol.finish_launching()\n",
      "sys.stdout = stdout\n",
      "from __future__ import division\n",
      "import numpy as np\n",
      "np.set_printoptions(linewidth=200, precision=2)\n",
      "import matplotlib.pyplot as plt\n",
      "import seaborn as sns\n",
      "from scipy.stats import norm, expon"
     ],
     "language": "python",
     "metadata": {},
     "outputs": [],
     "prompt_number": 5
    },
    {
     "cell_type": "markdown",
     "metadata": {},
     "source": [
      "## Markov Chain Monte Carlo.  \n",
      "\n",
      "[Markov Chain Monte Carlo](http://en.wikipedia.org/wiki/Markov_chain_Monte_Carlo) are a family of algorithms that are extensively used and have had a profound effect in almost all the branches of science. The main purpose of these algorithm is to get samples from a probability distribution that is difficult to directly sample. This is done by constructing a Markov chain with the desired distribution as its equilibrium distribution (i.e. the more samples we get the closer we get to the desired distribution). In this context a chain is a sequence of states and the associated transition probabilities to move from one state to another, and a Markov chain is the special case when the next state depends only on the current state and not on the previous events.\n",
      "\n",
      "A well-know example of Markov chain is the so call random-walk or _drunkard's walk_. For the 1D version of this problem we have that at each step, you can move to the left of to the right with equal probability. From this example it is clear that the transition probabilities depend only on the current state, and not on the way in which we get to that state.\n",
      "\n",
      "The _Monte Carlo_ part of the name comes from the use of random number to perform computations. The key idea behind a Monte Carlo method is that it is possible to study a complicated system by taking samples from it. For example if you want to know the probabilities of wining a solitary game you could try to analyze the problem analytically (something complicated due to the combinatoric nature of the problem) or just plays as many as possible matches. Indeed this insight came from Stanislaw Ulam (circa 1940) while we was recovering from a surgery and playing solitary. By that time computers had began to be a reality and from that time to the present the increasing computational power of computer have made Monte Carlo methods one of the most used algorithms to solve a wide variety of problems.\n",
      "\n",
      "Probably the most frequently used Markov Chain Monte Carlo algorithm is the Metropolis-Hastings algorithm that we will discuss in the next section."
     ]
    },
    {
     "cell_type": "markdown",
     "metadata": {},
     "source": [
      "### Metropolis-Hastings\n",
      "\n",
      "The [Metropolis\u2013Hastings](http://en.wikipedia.org/wiki/Metropolis%E2%80%93Hastings_algorithm) algorithm can draw samples from any probability distribution $P(x)$ provided you can compute a value that is proportional to $P$. This is very useful feature since in many cases like in Bayesian statistics and mechanical statistic calculating the necessary normalization is difficult for many practical applications. For simple distribution there are more direct methods to sample from them, but Metropolis-Hastings and other MCMC algorithms becomes increasingly useful as the numbers of dimensions increase.\n",
      "\n",
      "\n",
      "The Metropolis-Hastings algorithm consists on the following steps:\n",
      "\n",
      "1. Pick an initial state $x_i$ (at random or making some educated guess)\n",
      "2. Choose a new state $x_{i+1}$ by sampling from a proposal distribution $Q(x_{i+1}|x_{i})$, or in other words by perturbing the state $x_i$ \n",
      "3. Compute the probability of accepting the new state as $A(x_{i+1} | x_i) = \\min\\left(1,\\frac{P(x_{i+1})}{P(x_{i})}\\frac{Q(x_{i} | x_{i+1})}{Q(x_{i+1} | x_{i})}\\right)$\n",
      "4. If the probability computed in 3 is larger than a value from a uniform distribution over the interval [0, 1] accept the new state, otherwise remain in the current state\n",
      "5. Iterate from 2 until _convergence_\n",
      "\n",
      "\n",
      "A couple of things to notice:\n",
      "\n",
      "* if the new state is proposed using a symmetrical distribution we have that:\n",
      "\n",
      "$A(x_{i+1} | x_i) = \\min\\left(1,\\frac{P(x_{i+1})}{P(x_{i})}\\right)$\n",
      "\n",
      "* Steps 3 and 4 implies that we always accept a move to a higher probability (or equivalently lower energy) region. Moves to a lower probability region are accepted probabilistically the greatest the difference the lower the probability."
     ]
    },
    {
     "cell_type": "code",
     "collapsed": false,
     "input": [
      "def metropolis(func, steps=5000):\n",
      "    # seed the random number generator\n",
      "    np.random.seed(1234)\n",
      "    trace = []\n",
      "    # start from a random point or make and educated guess\n",
      "    old_x = func.mean() #np.random.uniform(-10, 10)\n",
      "    old_likelihood = func.pdf(old_x)\n",
      "\n",
      "    for i in range(steps):\n",
      "        # we propose a new position from the previous position\n",
      "        new_x = old_x + np.random.uniform(-1, 1)\n",
      "        # now we compute the new probability\n",
      "        new_likelihood = func.pdf(new_x)\n",
      "        acceptance = new_likelihood/old_likelihood\n",
      "        if acceptance >= 1:\n",
      "            trace.append(new_x)\n",
      "            old_x = new_x\n",
      "            old_likelihood = new_likelihood\n",
      "        elif acceptance > np.random.random():\n",
      "                trace.append(new_x)\n",
      "                old_x = new_x\n",
      "                old_likelihood = new_likelihood\n",
      "        else:\n",
      "            trace.append(old_x)\n",
      "    return trace"
     ],
     "language": "python",
     "metadata": {},
     "outputs": [],
     "prompt_number": 35
    },
    {
     "cell_type": "code",
     "collapsed": false,
     "input": [
      "# The likelihood, objetive function or \"energy function\" will be\n",
      "# a normal distribution with mean 0 and standard deviation 2\n",
      "func = norm(loc=1, scale=2)\n",
      "trace = metropolis(func=func)"
     ],
     "language": "python",
     "metadata": {},
     "outputs": [],
     "prompt_number": 36
    },
    {
     "cell_type": "code",
     "collapsed": false,
     "input": [
      "plt.hist(trace, bins=30, normed=True);\n",
      "\n",
      "x = np.linspace(-8, 8, 100)\n",
      "y = func.pdf(x)\n",
      "plt.plot(x, y, 'r-');"
     ],
     "language": "python",
     "metadata": {},
     "outputs": [
      {
       "metadata": {},
       "output_type": "display_data",
       "png": "[encoded data removed]",
       "text": [
        "<matplotlib.figure.Figure at 0x7f0cccd48e50>"
       ]
      }
     ],
     "prompt_number": 37
    },
    {
     "cell_type": "code",
     "collapsed": false,
     "input": [
      "func = expon() \n",
      "trace = metropolis(func=func)\n",
      "plt.hist(trace, bins=30, normed=True);\n",
      "\n",
      "x = np.linspace(0, 8, 100)\n",
      "y = func.pdf(x)\n",
      "plt.plot(x, y, 'r-');"
     ],
     "language": "python",
     "metadata": {},
     "outputs": [
      {
       "metadata": {},
       "output_type": "display_data",
       "png": "[encoded data removed]",
       "text": [
        "<matplotlib.figure.Figure at 0x7f0c8b6db7d0>"
       ]
      }
     ],
     "prompt_number": 9
    },
    {
     "cell_type": "markdown",
     "metadata": {},
     "source": [
      "#### Metropolis-Hastings and molecular-mechanics/statistical-mechanics\n",
      "\n",
      "We ca use Metropolis-Hastings algorithm to study molecules. Statistical mechanics tells us that molecules follow a Boltzmann distribution, where the probability of a particular state, like a conformation $x_i$, is:\n",
      "\n",
      "$$P(x_i) = \\frac{1}{Z} e^{-E(x_i)/(k_b T)}$$\n",
      "\n",
      "Where:  \n",
      "$Z$ is an entity called _the partition function_ and for our interest is just a normalization constant.  \n",
      "$K_b$ is the Boltzmann constant.   \n",
      "$T$ is the absolute temperature.   \n",
      "\n",
      "For the Metropolis-Hastings algorithm we just need the ratio of the probabilities of state $x_i$ and $x_{i+1}$:\n",
      "\n",
      "\n",
      "$$\\frac{P(x_{i+1})}{P(x_{i})} = e^{-\\Delta E/(k_b T)}$$\n",
      "\n",
      "where:\n",
      "\n",
      "$\\Delta E = E(x_{i+1}) - E(x_{i})$"
     ]
    },
    {
     "cell_type": "markdown",
     "metadata": {},
     "source": [
      "#### Why it works?\n",
      "\n",
      "It can be proven that a Markov process, under certain conditions, converges to a unique stationary distribution. A sufficient, but not necessary, restriction that guarantee those conditions is to respect _detail balance_. Detail balance means that all transitions must be reversible, that is:\n",
      "\n",
      "$$P(x_i)P(x_i\\rightarrow x_{i+1}) = P(x_{i+1})P(x_{i+1}\\rightarrow x_{i})$$\n",
      "\n",
      "Intuitively you can see that if you move between states proportionally to their relative probabilities and you have access to all possible states of the system in the long run you should sample the correct distribution."
     ]
    },
    {
     "cell_type": "markdown",
     "metadata": {},
     "source": [
      "#### Metropolis-Hastings improvements and general considerations\n",
      "\n",
      "* auto-tune the step made by the proposal distribution\n",
      "* Autocorrelation and thinning\n",
      "* Burn-in period\n",
      "* starting from a good initial point\n",
      "* Start from several different initial conditions\n",
      "\n",
      "#### Metropolis-Hastings Alternatives\n",
      "\n",
      "Methods used for example in Bayesian statistics (we care about detailed balance)\n",
      "\n",
      "* [Gibbs Sampling](http://en.wikipedia.org/wiki/Gibbs_sampling)\n",
      "* Hamiltonian Monte Carlo\n",
      "* [NUTS](http://arxiv.org/abs/1111.4246)"
     ]
    },
    {
     "cell_type": "markdown",
     "metadata": {},
     "source": [
      "### Global optimization\n",
      "\n",
      "Metropolis-Hasting can be used to sample from any distribution, including the energy distribution followed by molecules (i.e. the Boltzmann distribution). Indeed it is theoretically possible to use Metropolis-Hasting to sample the whole conformational space of any molecule and obtain the global minimum and all the local minima. Even if we could have a very accurate way to compute the energy the problem will be that the conformation space we need to sample if really large. To complicate things further in practice the energy terms have a lot of inaccuracies that make the conformational space much more rugged that what experiments suggest. \n",
      "\n",
      "One possible strategy is to make a compromise and conform ourselves with obtaining just the lowest energy conformations and loose information about the details of the conformational space. We will discuss tree of such strategies:\n",
      "\n",
      "* Monte Carlo with minimization\n",
      "* Simulated annealing\n",
      "* Genetic algorithms\n",
      "\n",
      "The first two methods are variations of Metropolis-Hastings (that do not fulfill the detailed-balance condition). The third method is an heuristic optimization algorithm inspired in biological evolution and is not part of the Markov Chain Monte Carlo family of algorithms."
     ]
    },
    {
     "cell_type": "markdown",
     "metadata": {},
     "source": [
      "#### Monte Carlo with minimization\n",
      "\n",
      "This method is essentially the same as Metroplis-Hastings, the only difference is that after we propose a new state for the system we perform and energy minimization and only then we compare the energy of the new and old steps. \n",
      "\n",
      "As you can imaging in system like globular proteins, with a lot of correlated degrees of freedom, is difficult to perform a movement without obtaining unphysical conformations with a lot of clashes (and high energy). Hence, minimization is good candidate to overcome this issue."
     ]
    },
    {
     "cell_type": "markdown",
     "metadata": {},
     "source": [
      "#### Simulated Annealing\n",
      "\n",
      "This method is essentially the same as Metroplis-Hastings, the only difference is that in this case the _temperature_ is not fixed. We start with a system at a _high_ temperature and every time we accept a conformation the the system is cooled down. Here the temperature is just a parameter that controls the probability that a conformation with higher energy than the previous step will be accepted. If the temperature is infinite, then every proposed movement will be accepted, on the contrary if the temperature is zero, only movements that decrease the energy will be accepted. The method follows the analogy of the annealing process used when forging metals, or probably more familiar to you the annealing done during a PCR protocol (polymerase chain reaction). Like in those real systems the key to success is on the cooling schedule. In general, severals cycles of cooling and heating are needed. "
     ]
    },
    {
     "cell_type": "markdown",
     "metadata": {},
     "source": [
      "## Further reading\n",
      "\n",
      "* [The Handbook of Markov Chain Monte Carlo]() Editors, Steve Brooks, Andrew Gelman, Galin L. Jones\n",
      "and Xiao-Li Meng. 2011.\n",
      "\n",
      "* [The Monte Carlo method](http://www.ncbi.nlm.nih.gov/pubmed/18139350) Metropolis, N & Ulam S. 1949.\n",
      "\n",
      "* [Equations of State Calculations by Fast Computing Machines](http://scitation.aip.org/content/aip/journal/jcp/21/6/10.1063/1.1699114) Metropolis _et. al._ 1953\n",
      "\n",
      "* [Monte Carlo Sampling Methods Using Markov Chains and Their Applications](http://biomet.oxfordjournals.org/content/57/1/97) Hastings. 1970."
     ]
    }
   ],
   "metadata": {}
  }
 ]
}